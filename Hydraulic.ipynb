{
  "nbformat": 4,
  "nbformat_minor": 0,
  "metadata": {
    "colab": {
      "name": "Hydraulic.ipynb",
      "provenance": [],
      "collapsed_sections": [],
      "mount_file_id": "1-1uvm8kKveSrxtwW88SGd2CrKOP36tJT",
      "authorship_tag": "ABX9TyMg6TdZi6xQnbwgLsUjr6yS",
      "include_colab_link": true
    },
    "kernelspec": {
      "display_name": "Python 3",
      "name": "python3"
    }
  },
  "cells": [
    {
      "cell_type": "markdown",
      "metadata": {
        "id": "view-in-github",
        "colab_type": "text"
      },
      "source": [
        "<a href=\"https://colab.research.google.com/github/vivek-varshney/Models/blob/main/Hydraulic.ipynb\" target=\"_parent\"><img src=\"https://colab.research.google.com/assets/colab-badge.svg\" alt=\"Open In Colab\"/></a>"
      ]
    },
    {
      "cell_type": "code",
      "metadata": {
        "id": "GEkejrp6C3ax"
      },
      "source": [
        "import warnings\r\n",
        "warnings.filterwarnings(\"ignore\")"
      ],
      "execution_count": null,
      "outputs": []
    },
    {
      "cell_type": "code",
      "metadata": {
        "id": "5DMcAnKDSifK"
      },
      "source": [
        "import numpy as np\r\n",
        "import pandas as pd\r\n",
        "import matplotlib.pyplot as plt"
      ],
      "execution_count": null,
      "outputs": []
    },
    {
      "cell_type": "code",
      "metadata": {
        "id": "b4lpAS4b3pDB"
      },
      "source": [
        "def get_doc_file(dic_path):\r\n",
        "  doc_file = open(dic_path, 'r', encoding=\"ISO-8859-1\")\r\n",
        "  return doc_file.read()"
      ],
      "execution_count": null,
      "outputs": []
    },
    {
      "cell_type": "markdown",
      "metadata": {
        "id": "eBjfNPND5nz2"
      },
      "source": [
        "#Description"
      ]
    },
    {
      "cell_type": "code",
      "metadata": {
        "colab": {
          "base_uri": "https://localhost:8080/"
        },
        "id": "mfMI73-x4pub",
        "outputId": "c6a3ad94-51c9-48ec-eb6e-e60d3c307987"
      },
      "source": [
        "print(get_doc_file('/content/drive/MyDrive/data/data/description.txt'))"
      ],
      "execution_count": null,
      "outputs": [
        {
          "output_type": "stream",
          "text": [
            "Condition monitoring of hydraulic systems\n",
            "=========================================\n",
            "\n",
            "Abtract: The data set addresses the condition assessment of a hydraulic test rig based on multi sensor data. Four fault types are superimposed with several severity grades impeding selective quantification.\n",
            "\n",
            "Source:\n",
            "Creator: ZeMA gGmbH, Eschberger Weg 46, 66121 Saarbrücken\n",
            "Contact: t.schneider@zema.de, s.klein@zema.de, m.bastuck@lmt.uni-saarland.de, info@lmt.uni-saarland.de\n",
            "\n",
            "Data Type: Multivariate, Time-Series\n",
            "Task: Classification, Regression\n",
            "Attribute Type: Categorical, Real\n",
            "Area: CS/Engineering\n",
            "Format Type: Matrix\n",
            "Does your data set contain missing values? No\n",
            "\n",
            "Number of Instances: 2205\n",
            "\n",
            "Number of Attributes: 43680 (8x60 (1 Hz) + 2x600 (10 Hz) + 7x6000 (100 Hz))\n",
            "\n",
            "Relevant Information:\n",
            "The data set was experimentally obtained with a hydraulic test rig. This test rig consists of a primary working and a secondary cooling-filtration circuit which are connected via the oil tank [1], [2]. The system cyclically repeats constant load cycles (duration 60 seconds) and measures process values such as pressures, volume flows and temperatures while the condition of four hydraulic components (cooler, valve, pump and accumulator) is quantitatively varied. \n",
            "\n",
            "Attribute Information:\n",
            "The data set contains raw process sensor data (i.e. without feature extraction) which are structured as matrices (tab-delimited) with the rows representing the cycles and the columns the data points within a cycle. The sensors involved are:\n",
            "Sensor\t\tPhysical quantity\t\tUnit\t\tSampling rate\n",
            "PS1\t\tPressure\t\t\tbar\t\t100 Hz\n",
            "PS2\t\tPressure\t\t\tbar\t\t100 Hz\n",
            "PS3\t\tPressure\t\t\tbar\t\t100 Hz\n",
            "PS4\t\tPressure\t\t\tbar\t\t100 Hz\n",
            "PS5\t\tPressure\t\t\tbar\t\t100 Hz\n",
            "PS6\t\tPressure\t\t\tbar\t\t100 Hz\n",
            "EPS1\t\tMotor power\t\t\tW\t\t100 Hz\n",
            "FS1\t\tVolume flow\t\t\tl/min\t\t10 Hz\n",
            "FS2\t\tVolume flow\t\t\tl/min\t\t10 Hz\n",
            "TS1\t\tTemperature\t\t\t°C\t\t1 Hz\n",
            "TS2\t\tTemperature\t\t\t°C\t\t1 Hz\n",
            "TS3\t\tTemperature\t\t\t°C\t\t1 Hz\n",
            "TS4\t\tTemperature\t\t\t°C\t\t1 Hz\n",
            "VS1\t\tVibration\t\t\tmm/s\t\t1 Hz\n",
            "CE\t\tCooling efficiency (virtual)\t%\t\t1 Hz\n",
            "CP\t\tCooling power (virtual)\t\tkW\t\t1 Hz\n",
            "SE\t\tEfficiency factor\t\t%\t\t1 Hz\n",
            "\n",
            "The target condition values are cycle-wise annotated in profile.txt (tab-delimited). As before, the row number represents the cycle number. The columns are\n",
            "\n",
            "1: Cooler condition / %:\n",
            "\t3: close to total failure\n",
            "\t20: reduced effifiency\n",
            "\t100: full efficiency\n",
            "\n",
            "2: Valve condition / %:\n",
            "\t100: optimal switching behavior\n",
            "\t90: small lag\n",
            "\t80: severe lag\n",
            "\t73: close to total failure\n",
            "\n",
            "3: Internal pump leakage:\n",
            "\t0: no leakage\n",
            "\t1: weak leakage\n",
            "\t2: severe leakage\n",
            "\n",
            "4: Hydraulic accumulator / bar:\n",
            "\t130: optimal pressure\n",
            "\t115: slightly reduced pressure\n",
            "\t100: severely reduced pressure\n",
            "\t90: close to total failure\n",
            "\n",
            "5: stable flag:\n",
            "\t0: conditions were stable\n",
            "\t1: static conditions might not have been reached yet\n",
            "\n",
            "Relevant Papers:\n",
            "[1] Nikolai Helwig, Eliseo Pignanelli, Andreas Schütze, Condition Monitoring of a Complex Hydraulic System Using Multivariate Statistics, in Proc. I2MTC-2015 - 2015 IEEE International Instrumentation and Measurement Technology Conference, paper PPS1-39, Pisa, Italy, May 11-14, 2015, doi: 10.1109/I2MTC.2015.7151267.\n",
            "[2] N. Helwig, A. Schütze, Detecting and compensating sensor faults in a hydraulic condition monitoring system, in Proc. SENSOR 2015 - 17th International Conference on Sensors and Measurement Technology, oral presentation D8.1, Nuremberg, Germany, May 19-21, 2015, doi: 10.5162/sensor2015/D8.1.\n",
            "[3] Tizian Schneider, Nikolai Helwig, Andreas Schütze, Automatic feature extraction and selection for classification of cyclical time series data, tm - Technisches Messen (2017), 84(3), 198206, doi: 10.1515/teme-2016-0072.\n",
            "\n",
            "Citation Requests:\n",
            "Nikolai Helwig, Eliseo Pignanelli, Andreas Schütze, Condition Monitoring of a Complex Hydraulic System Using Multivariate Statistics, in Proc. I2MTC-2015 - 2015 IEEE International Instrumentation and Measurement Technology Conference, paper PPS1-39, Pisa, Italy, May 11-14, 2015, doi: 10.1109/I2MTC.2015.7151267.\n",
            "\n"
          ],
          "name": "stdout"
        }
      ]
    },
    {
      "cell_type": "markdown",
      "metadata": {
        "id": "h5-eBnxF50XR"
      },
      "source": [
        "#Documentation"
      ]
    },
    {
      "cell_type": "code",
      "metadata": {
        "colab": {
          "base_uri": "https://localhost:8080/"
        },
        "id": "YRnlThXa4v9k",
        "outputId": "b8f89b7b-844a-4f72-defc-63cc09dc1e6b"
      },
      "source": [
        "print(get_doc_file('/content/drive/MyDrive/data/data/documentation.txt'))"
      ],
      "execution_count": null,
      "outputs": [
        {
          "output_type": "stream",
          "text": [
            "1. Title: Condition monitoring of hydraulic systems\n",
            "\n",
            "2. Source Information\n",
            "   -- Creator: Nikolai Helwig, ZeMA gGmbH, Eschberger Weg 46, 66121 Saarbrücken\n",
            "   -- Donors (with approval from creator): M. Bastuck (m.bastuck@lmt.uni-saarland.de), T. Schneider (t.schneider@zema.de)\n",
            "   -- Date: April, 2018\n",
            " \n",
            "3. Past Usage:\n",
            "   [1] Nikolai Helwig, Eliseo Pignanelli, Andreas Schütze, Condition Monitoring of a Complex Hydraulic System Using Multivariate Statistics, in Proc. I2MTC-2015 - 2015 IEEE International Instrumentation and Measurement Technology Conference, paper PPS1-39, Pisa, Italy, May 11-14, 2015. doi: 10.1109/I2MTC.2015.7151267\n",
            "      -- detailed description of data and measurement setup\n",
            "      -- automated feature extraction via Pearson correlation and comparison of several classification algorithms\n",
            "      -- Cooler and Valve states are \"easy\" targets (perfect classification achieved), Pump and especially Accumulator states are more complex targets\n",
            "\n",
            "   [2] N. Helwig, A. Schütze, Detecting and compensating sensor faults in a hydraulic condition monitoring system, in Proc. SENSOR 2015 - 17th International Conference on Sensors and Measurement Technology, oral presentation D8.1, Nuremberg, Germany, May 19-21, 2015. doi: 10.5162/sensor2015/D8.1\n",
            "      -- sensor drift and offset can be compensated by the automatic feature extraction described in [1]\n",
            "      -- faults of up to 5 sensors can be compensated for\n",
            "\n",
            "   [3] Tizian Schneider, Nikolai Helwig, Andreas Schütze, Automatic feature extraction and selection for classification of cyclical time series data, tm - Technisches Messen (2017), 84(3), 198206. doi: 10.1515/teme-2016-0072\n",
            "      -- one of several example datasets for automatic feature extraction\n",
            "      -- with ALA and RFESVM the error rate was reduced to 0.35 % (from 9.6 % in [1]) for the hydraulic accumulator state classification\n",
            "\n",
            "4. Relevant Information:\n",
            "   -- The data set was experimentally obtained with a hydraulic test rig. This test rig consists of a primary working and a secondary cooling-filtration circuit which are connected via the oil tank [1], [2]. The system cyclically repeats constant load cycles (duration 60 seconds) and measures process values such as pressures, volume flows and temperatures while the condition of four hydraulic components (cooler, valve, pump and accumulator) is quantitatively varied.\n",
            "\n",
            "5. Number of Instances: 2205\n",
            "\n",
            "6. Number of Attributes: 43680 (8x60 (1 Hz) + 2x600 (10 Hz) + 7x6000 (100 Hz))\n",
            "\n",
            "7. Attribute Information:\n",
            "   Attributes are sensor data (all numeric and continuous) from measurements taken at the same point in time, respectively, of a hydraulic test rig's working cycle.\n",
            "   The sensors were read with different sampling rates, leading to different numbers of attributes per sensor despite they were all exposed to the same working cycle.\n",
            "   \n",
            "   1. Pressure sensors (PS1-6): 100 Hz, 6000 attributes per sensor (6 sensors)\n",
            "   2. Motor power sensor (EPS1): 100 Hz, 6000 attributes per sensor (1 sensor)\n",
            "   3. Volume flow sensors (FS1/2): 10 Hz, 600 attributes per sensor (2 sensors)\n",
            "   4. Temperature sensors (TS1-4): 1 Hz, 60 attributes per sensor (4 sensors)\n",
            "   5. Vibration sensor (VS1): 1 Hz, 60 attributes per sensor (1 sensor)\n",
            "   6. Efficiency factor (SE): 1 Hz, 60 attributes per sensor (1 sensor)\n",
            "   7. Virtual cooling efficiency sensor (CE): 1 Hz, 60 attributes per sensor (1 sensor)\n",
            "   8. Virtual cooling power sensor (CP): 1 Hz, 60 attributes per sensor (1 sensor)\n",
            "\n",
            "8. Missing Attribute Values: None\n",
            "\n",
            "9. Class Distribution: there are 5 different class value vectors provided in profile.txt.\n",
            "   All but number 5 (stable flag) describe degradation processes over time and, thus, their values do not represent distinct categories, but continuous values.\n",
            "\n",
            "   1. Cooler condition / %:\n",
            "      3: close to total failure (732 instances)\n",
            "      20: reduced effifiency (732 instances)\n",
            "      100: full efficiency (741 instances)\n",
            "\n",
            "   2. Valve condition / %:\n",
            "      100: optimal switching behavior (1125 instances)\n",
            "      90: small lag (360 instances)\n",
            "      80: severe lag (360 instances)\n",
            "      73: close to total failure (360 instances)\n",
            "\n",
            "   3. Internal pump leakage:\n",
            "      0: no leakage (1221 instances)\n",
            "      1: weak leakage (492 instances)\n",
            "      2: severe leakage (492 instances)\n",
            "\n",
            "   4. Hydraulic accumulator / bar:\n",
            "      130: optimal pressure (599 instances)\n",
            "      115: slightly reduced pressure (399 instances)\n",
            "      100: severely reduced pressure (399 instances)\n",
            "      90: close to total failure (808 instances)\n",
            "\n",
            "   5. stable flag:\n",
            "      0: conditions were stable (1449 instances)\n",
            "      1: static conditions might not have been reached yet (756 instances)\n",
            "\n"
          ],
          "name": "stdout"
        }
      ]
    },
    {
      "cell_type": "markdown",
      "metadata": {
        "id": "AREIubwHjk-m"
      },
      "source": [
        "# Importing and EDA"
      ]
    },
    {
      "cell_type": "markdown",
      "metadata": {
        "id": "ja7DbrT7ju48"
      },
      "source": [
        "##EDA"
      ]
    },
    {
      "cell_type": "code",
      "metadata": {
        "id": "28hDfmjJ6DqE"
      },
      "source": [
        "def get_file(dic_path):\r\n",
        "  return pd.read_csv(dic_path,sep='\\t',header = None)"
      ],
      "execution_count": null,
      "outputs": []
    },
    {
      "cell_type": "code",
      "metadata": {
        "colab": {
          "base_uri": "https://localhost:8080/",
          "height": 426
        },
        "id": "lUuzFnbq8u-a",
        "outputId": "129c8c48-0c1f-424e-afe3-f51c84ddf7bc"
      },
      "source": [
        "FS1 = get_file('/content/drive/MyDrive/data/data/FS1.txt')\r\n",
        "FS1"
      ],
      "execution_count": null,
      "outputs": [
        {
          "output_type": "execute_result",
          "data": {
            "text/html": [
              "<div>\n",
              "<style scoped>\n",
              "    .dataframe tbody tr th:only-of-type {\n",
              "        vertical-align: middle;\n",
              "    }\n",
              "\n",
              "    .dataframe tbody tr th {\n",
              "        vertical-align: top;\n",
              "    }\n",
              "\n",
              "    .dataframe thead th {\n",
              "        text-align: right;\n",
              "    }\n",
              "</style>\n",
              "<table border=\"1\" class=\"dataframe\">\n",
              "  <thead>\n",
              "    <tr style=\"text-align: right;\">\n",
              "      <th></th>\n",
              "      <th>0</th>\n",
              "      <th>1</th>\n",
              "      <th>2</th>\n",
              "      <th>3</th>\n",
              "      <th>4</th>\n",
              "      <th>5</th>\n",
              "      <th>6</th>\n",
              "      <th>7</th>\n",
              "      <th>8</th>\n",
              "      <th>9</th>\n",
              "      <th>10</th>\n",
              "      <th>11</th>\n",
              "      <th>12</th>\n",
              "      <th>13</th>\n",
              "      <th>14</th>\n",
              "      <th>15</th>\n",
              "      <th>16</th>\n",
              "      <th>17</th>\n",
              "      <th>18</th>\n",
              "      <th>19</th>\n",
              "      <th>20</th>\n",
              "      <th>21</th>\n",
              "      <th>22</th>\n",
              "      <th>23</th>\n",
              "      <th>24</th>\n",
              "      <th>25</th>\n",
              "      <th>26</th>\n",
              "      <th>27</th>\n",
              "      <th>28</th>\n",
              "      <th>29</th>\n",
              "      <th>30</th>\n",
              "      <th>31</th>\n",
              "      <th>32</th>\n",
              "      <th>33</th>\n",
              "      <th>34</th>\n",
              "      <th>35</th>\n",
              "      <th>36</th>\n",
              "      <th>37</th>\n",
              "      <th>38</th>\n",
              "      <th>39</th>\n",
              "      <th>...</th>\n",
              "      <th>560</th>\n",
              "      <th>561</th>\n",
              "      <th>562</th>\n",
              "      <th>563</th>\n",
              "      <th>564</th>\n",
              "      <th>565</th>\n",
              "      <th>566</th>\n",
              "      <th>567</th>\n",
              "      <th>568</th>\n",
              "      <th>569</th>\n",
              "      <th>570</th>\n",
              "      <th>571</th>\n",
              "      <th>572</th>\n",
              "      <th>573</th>\n",
              "      <th>574</th>\n",
              "      <th>575</th>\n",
              "      <th>576</th>\n",
              "      <th>577</th>\n",
              "      <th>578</th>\n",
              "      <th>579</th>\n",
              "      <th>580</th>\n",
              "      <th>581</th>\n",
              "      <th>582</th>\n",
              "      <th>583</th>\n",
              "      <th>584</th>\n",
              "      <th>585</th>\n",
              "      <th>586</th>\n",
              "      <th>587</th>\n",
              "      <th>588</th>\n",
              "      <th>589</th>\n",
              "      <th>590</th>\n",
              "      <th>591</th>\n",
              "      <th>592</th>\n",
              "      <th>593</th>\n",
              "      <th>594</th>\n",
              "      <th>595</th>\n",
              "      <th>596</th>\n",
              "      <th>597</th>\n",
              "      <th>598</th>\n",
              "      <th>599</th>\n",
              "    </tr>\n",
              "  </thead>\n",
              "  <tbody>\n",
              "    <tr>\n",
              "      <th>0</th>\n",
              "      <td>8.990</td>\n",
              "      <td>0.770</td>\n",
              "      <td>0.641</td>\n",
              "      <td>0.006</td>\n",
              "      <td>0.000</td>\n",
              "      <td>0.000</td>\n",
              "      <td>0.001</td>\n",
              "      <td>0.003</td>\n",
              "      <td>0.001</td>\n",
              "      <td>0.001</td>\n",
              "      <td>0.001</td>\n",
              "      <td>0.005</td>\n",
              "      <td>0.000</td>\n",
              "      <td>0.000</td>\n",
              "      <td>0.000</td>\n",
              "      <td>0.000</td>\n",
              "      <td>0.001</td>\n",
              "      <td>0.000</td>\n",
              "      <td>0.000</td>\n",
              "      <td>0.000</td>\n",
              "      <td>0.005</td>\n",
              "      <td>0.003</td>\n",
              "      <td>0.000</td>\n",
              "      <td>0.001</td>\n",
              "      <td>0.001</td>\n",
              "      <td>0.003</td>\n",
              "      <td>0.001</td>\n",
              "      <td>0.003</td>\n",
              "      <td>0.003</td>\n",
              "      <td>0.003</td>\n",
              "      <td>0.000</td>\n",
              "      <td>0.000</td>\n",
              "      <td>0.000</td>\n",
              "      <td>0.000</td>\n",
              "      <td>0.000</td>\n",
              "      <td>0.001</td>\n",
              "      <td>0.001</td>\n",
              "      <td>0.003</td>\n",
              "      <td>0.003</td>\n",
              "      <td>0.000</td>\n",
              "      <td>...</td>\n",
              "      <td>7.904</td>\n",
              "      <td>7.703</td>\n",
              "      <td>7.917</td>\n",
              "      <td>7.902</td>\n",
              "      <td>7.846</td>\n",
              "      <td>7.881</td>\n",
              "      <td>7.737</td>\n",
              "      <td>8.046</td>\n",
              "      <td>7.775</td>\n",
              "      <td>7.730</td>\n",
              "      <td>8.006</td>\n",
              "      <td>7.864</td>\n",
              "      <td>7.859</td>\n",
              "      <td>7.911</td>\n",
              "      <td>7.739</td>\n",
              "      <td>8.004</td>\n",
              "      <td>7.857</td>\n",
              "      <td>7.684</td>\n",
              "      <td>7.971</td>\n",
              "      <td>7.829</td>\n",
              "      <td>7.907</td>\n",
              "      <td>7.885</td>\n",
              "      <td>7.680</td>\n",
              "      <td>7.980</td>\n",
              "      <td>7.890</td>\n",
              "      <td>7.744</td>\n",
              "      <td>7.927</td>\n",
              "      <td>7.795</td>\n",
              "      <td>7.908</td>\n",
              "      <td>7.919</td>\n",
              "      <td>7.743</td>\n",
              "      <td>7.992</td>\n",
              "      <td>7.919</td>\n",
              "      <td>7.773</td>\n",
              "      <td>7.955</td>\n",
              "      <td>7.823</td>\n",
              "      <td>7.963</td>\n",
              "      <td>7.876</td>\n",
              "      <td>7.738</td>\n",
              "      <td>8.036</td>\n",
              "    </tr>\n",
              "    <tr>\n",
              "      <th>1</th>\n",
              "      <td>8.919</td>\n",
              "      <td>0.815</td>\n",
              "      <td>0.709</td>\n",
              "      <td>0.009</td>\n",
              "      <td>0.004</td>\n",
              "      <td>0.000</td>\n",
              "      <td>0.001</td>\n",
              "      <td>0.000</td>\n",
              "      <td>0.000</td>\n",
              "      <td>0.001</td>\n",
              "      <td>0.008</td>\n",
              "      <td>0.000</td>\n",
              "      <td>0.001</td>\n",
              "      <td>0.003</td>\n",
              "      <td>0.004</td>\n",
              "      <td>0.000</td>\n",
              "      <td>0.001</td>\n",
              "      <td>0.004</td>\n",
              "      <td>0.003</td>\n",
              "      <td>0.000</td>\n",
              "      <td>0.000</td>\n",
              "      <td>0.000</td>\n",
              "      <td>0.001</td>\n",
              "      <td>0.000</td>\n",
              "      <td>0.000</td>\n",
              "      <td>0.001</td>\n",
              "      <td>0.000</td>\n",
              "      <td>0.001</td>\n",
              "      <td>0.003</td>\n",
              "      <td>0.000</td>\n",
              "      <td>0.000</td>\n",
              "      <td>0.000</td>\n",
              "      <td>0.001</td>\n",
              "      <td>0.001</td>\n",
              "      <td>0.001</td>\n",
              "      <td>0.003</td>\n",
              "      <td>0.001</td>\n",
              "      <td>0.003</td>\n",
              "      <td>0.008</td>\n",
              "      <td>0.000</td>\n",
              "      <td>...</td>\n",
              "      <td>7.933</td>\n",
              "      <td>7.791</td>\n",
              "      <td>7.915</td>\n",
              "      <td>7.928</td>\n",
              "      <td>7.802</td>\n",
              "      <td>7.975</td>\n",
              "      <td>7.776</td>\n",
              "      <td>8.029</td>\n",
              "      <td>7.946</td>\n",
              "      <td>7.875</td>\n",
              "      <td>7.913</td>\n",
              "      <td>7.723</td>\n",
              "      <td>8.009</td>\n",
              "      <td>7.869</td>\n",
              "      <td>7.980</td>\n",
              "      <td>7.939</td>\n",
              "      <td>7.758</td>\n",
              "      <td>7.908</td>\n",
              "      <td>7.772</td>\n",
              "      <td>7.999</td>\n",
              "      <td>7.926</td>\n",
              "      <td>7.862</td>\n",
              "      <td>7.899</td>\n",
              "      <td>7.724</td>\n",
              "      <td>7.946</td>\n",
              "      <td>7.860</td>\n",
              "      <td>7.986</td>\n",
              "      <td>7.888</td>\n",
              "      <td>7.714</td>\n",
              "      <td>7.965</td>\n",
              "      <td>7.831</td>\n",
              "      <td>8.003</td>\n",
              "      <td>7.923</td>\n",
              "      <td>7.745</td>\n",
              "      <td>7.867</td>\n",
              "      <td>7.747</td>\n",
              "      <td>7.969</td>\n",
              "      <td>7.969</td>\n",
              "      <td>7.963</td>\n",
              "      <td>7.890</td>\n",
              "    </tr>\n",
              "    <tr>\n",
              "      <th>2</th>\n",
              "      <td>9.179</td>\n",
              "      <td>0.683</td>\n",
              "      <td>0.528</td>\n",
              "      <td>0.008</td>\n",
              "      <td>0.003</td>\n",
              "      <td>0.001</td>\n",
              "      <td>0.003</td>\n",
              "      <td>0.003</td>\n",
              "      <td>0.004</td>\n",
              "      <td>0.006</td>\n",
              "      <td>0.000</td>\n",
              "      <td>0.001</td>\n",
              "      <td>0.001</td>\n",
              "      <td>0.003</td>\n",
              "      <td>0.001</td>\n",
              "      <td>0.001</td>\n",
              "      <td>0.001</td>\n",
              "      <td>0.004</td>\n",
              "      <td>0.004</td>\n",
              "      <td>0.003</td>\n",
              "      <td>0.000</td>\n",
              "      <td>0.001</td>\n",
              "      <td>0.000</td>\n",
              "      <td>0.000</td>\n",
              "      <td>0.000</td>\n",
              "      <td>0.001</td>\n",
              "      <td>0.000</td>\n",
              "      <td>0.003</td>\n",
              "      <td>0.001</td>\n",
              "      <td>0.000</td>\n",
              "      <td>0.000</td>\n",
              "      <td>0.004</td>\n",
              "      <td>0.001</td>\n",
              "      <td>0.003</td>\n",
              "      <td>0.001</td>\n",
              "      <td>0.000</td>\n",
              "      <td>0.003</td>\n",
              "      <td>0.001</td>\n",
              "      <td>0.000</td>\n",
              "      <td>0.000</td>\n",
              "      <td>...</td>\n",
              "      <td>8.000</td>\n",
              "      <td>7.768</td>\n",
              "      <td>8.058</td>\n",
              "      <td>7.918</td>\n",
              "      <td>7.751</td>\n",
              "      <td>7.902</td>\n",
              "      <td>7.781</td>\n",
              "      <td>7.910</td>\n",
              "      <td>7.759</td>\n",
              "      <td>7.999</td>\n",
              "      <td>7.854</td>\n",
              "      <td>7.959</td>\n",
              "      <td>7.867</td>\n",
              "      <td>7.873</td>\n",
              "      <td>7.857</td>\n",
              "      <td>7.777</td>\n",
              "      <td>7.959</td>\n",
              "      <td>7.778</td>\n",
              "      <td>8.051</td>\n",
              "      <td>7.907</td>\n",
              "      <td>7.994</td>\n",
              "      <td>7.892</td>\n",
              "      <td>7.796</td>\n",
              "      <td>7.888</td>\n",
              "      <td>7.678</td>\n",
              "      <td>7.861</td>\n",
              "      <td>7.835</td>\n",
              "      <td>8.016</td>\n",
              "      <td>7.878</td>\n",
              "      <td>7.994</td>\n",
              "      <td>7.862</td>\n",
              "      <td>7.815</td>\n",
              "      <td>7.894</td>\n",
              "      <td>7.743</td>\n",
              "      <td>7.936</td>\n",
              "      <td>7.770</td>\n",
              "      <td>7.982</td>\n",
              "      <td>7.873</td>\n",
              "      <td>7.898</td>\n",
              "      <td>7.952</td>\n",
              "    </tr>\n",
              "    <tr>\n",
              "      <th>3</th>\n",
              "      <td>9.034</td>\n",
              "      <td>0.728</td>\n",
              "      <td>0.595</td>\n",
              "      <td>0.009</td>\n",
              "      <td>0.001</td>\n",
              "      <td>0.004</td>\n",
              "      <td>0.003</td>\n",
              "      <td>0.003</td>\n",
              "      <td>0.003</td>\n",
              "      <td>0.001</td>\n",
              "      <td>0.000</td>\n",
              "      <td>0.000</td>\n",
              "      <td>0.000</td>\n",
              "      <td>0.000</td>\n",
              "      <td>0.000</td>\n",
              "      <td>0.001</td>\n",
              "      <td>0.000</td>\n",
              "      <td>0.000</td>\n",
              "      <td>0.000</td>\n",
              "      <td>0.000</td>\n",
              "      <td>0.000</td>\n",
              "      <td>0.003</td>\n",
              "      <td>0.001</td>\n",
              "      <td>0.003</td>\n",
              "      <td>0.003</td>\n",
              "      <td>0.001</td>\n",
              "      <td>0.001</td>\n",
              "      <td>0.006</td>\n",
              "      <td>0.000</td>\n",
              "      <td>0.004</td>\n",
              "      <td>0.001</td>\n",
              "      <td>0.001</td>\n",
              "      <td>0.006</td>\n",
              "      <td>0.000</td>\n",
              "      <td>0.001</td>\n",
              "      <td>0.003</td>\n",
              "      <td>0.005</td>\n",
              "      <td>0.000</td>\n",
              "      <td>0.000</td>\n",
              "      <td>0.000</td>\n",
              "      <td>...</td>\n",
              "      <td>7.831</td>\n",
              "      <td>7.943</td>\n",
              "      <td>7.778</td>\n",
              "      <td>7.869</td>\n",
              "      <td>7.762</td>\n",
              "      <td>7.956</td>\n",
              "      <td>7.772</td>\n",
              "      <td>7.966</td>\n",
              "      <td>7.758</td>\n",
              "      <td>7.934</td>\n",
              "      <td>7.936</td>\n",
              "      <td>7.976</td>\n",
              "      <td>7.890</td>\n",
              "      <td>7.909</td>\n",
              "      <td>7.826</td>\n",
              "      <td>7.718</td>\n",
              "      <td>7.917</td>\n",
              "      <td>7.817</td>\n",
              "      <td>7.927</td>\n",
              "      <td>7.791</td>\n",
              "      <td>7.862</td>\n",
              "      <td>7.848</td>\n",
              "      <td>7.990</td>\n",
              "      <td>7.834</td>\n",
              "      <td>7.953</td>\n",
              "      <td>7.941</td>\n",
              "      <td>7.882</td>\n",
              "      <td>7.835</td>\n",
              "      <td>7.779</td>\n",
              "      <td>7.938</td>\n",
              "      <td>7.631</td>\n",
              "      <td>7.949</td>\n",
              "      <td>7.773</td>\n",
              "      <td>8.054</td>\n",
              "      <td>7.827</td>\n",
              "      <td>8.011</td>\n",
              "      <td>7.919</td>\n",
              "      <td>7.938</td>\n",
              "      <td>7.877</td>\n",
              "      <td>7.773</td>\n",
              "    </tr>\n",
              "    <tr>\n",
              "      <th>4</th>\n",
              "      <td>8.729</td>\n",
              "      <td>0.705</td>\n",
              "      <td>0.446</td>\n",
              "      <td>0.014</td>\n",
              "      <td>0.007</td>\n",
              "      <td>0.003</td>\n",
              "      <td>0.001</td>\n",
              "      <td>0.003</td>\n",
              "      <td>0.001</td>\n",
              "      <td>0.000</td>\n",
              "      <td>0.001</td>\n",
              "      <td>0.001</td>\n",
              "      <td>0.000</td>\n",
              "      <td>0.001</td>\n",
              "      <td>0.005</td>\n",
              "      <td>0.000</td>\n",
              "      <td>0.000</td>\n",
              "      <td>0.000</td>\n",
              "      <td>0.001</td>\n",
              "      <td>0.000</td>\n",
              "      <td>0.001</td>\n",
              "      <td>0.003</td>\n",
              "      <td>0.005</td>\n",
              "      <td>0.001</td>\n",
              "      <td>0.001</td>\n",
              "      <td>0.000</td>\n",
              "      <td>0.001</td>\n",
              "      <td>0.001</td>\n",
              "      <td>0.003</td>\n",
              "      <td>0.001</td>\n",
              "      <td>0.000</td>\n",
              "      <td>0.003</td>\n",
              "      <td>0.003</td>\n",
              "      <td>0.001</td>\n",
              "      <td>0.001</td>\n",
              "      <td>0.001</td>\n",
              "      <td>0.000</td>\n",
              "      <td>0.000</td>\n",
              "      <td>0.000</td>\n",
              "      <td>0.000</td>\n",
              "      <td>...</td>\n",
              "      <td>7.808</td>\n",
              "      <td>7.706</td>\n",
              "      <td>7.976</td>\n",
              "      <td>7.688</td>\n",
              "      <td>7.909</td>\n",
              "      <td>7.816</td>\n",
              "      <td>7.777</td>\n",
              "      <td>7.748</td>\n",
              "      <td>7.992</td>\n",
              "      <td>7.786</td>\n",
              "      <td>7.875</td>\n",
              "      <td>7.779</td>\n",
              "      <td>7.951</td>\n",
              "      <td>7.819</td>\n",
              "      <td>8.072</td>\n",
              "      <td>7.806</td>\n",
              "      <td>7.929</td>\n",
              "      <td>7.873</td>\n",
              "      <td>7.875</td>\n",
              "      <td>7.887</td>\n",
              "      <td>7.844</td>\n",
              "      <td>7.884</td>\n",
              "      <td>7.756</td>\n",
              "      <td>7.902</td>\n",
              "      <td>7.673</td>\n",
              "      <td>7.921</td>\n",
              "      <td>7.731</td>\n",
              "      <td>8.001</td>\n",
              "      <td>7.702</td>\n",
              "      <td>8.022</td>\n",
              "      <td>7.771</td>\n",
              "      <td>7.936</td>\n",
              "      <td>7.919</td>\n",
              "      <td>7.946</td>\n",
              "      <td>7.804</td>\n",
              "      <td>7.983</td>\n",
              "      <td>7.838</td>\n",
              "      <td>7.882</td>\n",
              "      <td>7.894</td>\n",
              "      <td>7.825</td>\n",
              "    </tr>\n",
              "    <tr>\n",
              "      <th>...</th>\n",
              "      <td>...</td>\n",
              "      <td>...</td>\n",
              "      <td>...</td>\n",
              "      <td>...</td>\n",
              "      <td>...</td>\n",
              "      <td>...</td>\n",
              "      <td>...</td>\n",
              "      <td>...</td>\n",
              "      <td>...</td>\n",
              "      <td>...</td>\n",
              "      <td>...</td>\n",
              "      <td>...</td>\n",
              "      <td>...</td>\n",
              "      <td>...</td>\n",
              "      <td>...</td>\n",
              "      <td>...</td>\n",
              "      <td>...</td>\n",
              "      <td>...</td>\n",
              "      <td>...</td>\n",
              "      <td>...</td>\n",
              "      <td>...</td>\n",
              "      <td>...</td>\n",
              "      <td>...</td>\n",
              "      <td>...</td>\n",
              "      <td>...</td>\n",
              "      <td>...</td>\n",
              "      <td>...</td>\n",
              "      <td>...</td>\n",
              "      <td>...</td>\n",
              "      <td>...</td>\n",
              "      <td>...</td>\n",
              "      <td>...</td>\n",
              "      <td>...</td>\n",
              "      <td>...</td>\n",
              "      <td>...</td>\n",
              "      <td>...</td>\n",
              "      <td>...</td>\n",
              "      <td>...</td>\n",
              "      <td>...</td>\n",
              "      <td>...</td>\n",
              "      <td>...</td>\n",
              "      <td>...</td>\n",
              "      <td>...</td>\n",
              "      <td>...</td>\n",
              "      <td>...</td>\n",
              "      <td>...</td>\n",
              "      <td>...</td>\n",
              "      <td>...</td>\n",
              "      <td>...</td>\n",
              "      <td>...</td>\n",
              "      <td>...</td>\n",
              "      <td>...</td>\n",
              "      <td>...</td>\n",
              "      <td>...</td>\n",
              "      <td>...</td>\n",
              "      <td>...</td>\n",
              "      <td>...</td>\n",
              "      <td>...</td>\n",
              "      <td>...</td>\n",
              "      <td>...</td>\n",
              "      <td>...</td>\n",
              "      <td>...</td>\n",
              "      <td>...</td>\n",
              "      <td>...</td>\n",
              "      <td>...</td>\n",
              "      <td>...</td>\n",
              "      <td>...</td>\n",
              "      <td>...</td>\n",
              "      <td>...</td>\n",
              "      <td>...</td>\n",
              "      <td>...</td>\n",
              "      <td>...</td>\n",
              "      <td>...</td>\n",
              "      <td>...</td>\n",
              "      <td>...</td>\n",
              "      <td>...</td>\n",
              "      <td>...</td>\n",
              "      <td>...</td>\n",
              "      <td>...</td>\n",
              "      <td>...</td>\n",
              "      <td>...</td>\n",
              "    </tr>\n",
              "    <tr>\n",
              "      <th>2200</th>\n",
              "      <td>8.173</td>\n",
              "      <td>1.024</td>\n",
              "      <td>0.834</td>\n",
              "      <td>0.009</td>\n",
              "      <td>0.000</td>\n",
              "      <td>0.001</td>\n",
              "      <td>0.000</td>\n",
              "      <td>0.003</td>\n",
              "      <td>0.001</td>\n",
              "      <td>0.000</td>\n",
              "      <td>0.001</td>\n",
              "      <td>0.001</td>\n",
              "      <td>0.004</td>\n",
              "      <td>0.000</td>\n",
              "      <td>0.000</td>\n",
              "      <td>0.004</td>\n",
              "      <td>0.001</td>\n",
              "      <td>0.000</td>\n",
              "      <td>0.001</td>\n",
              "      <td>0.000</td>\n",
              "      <td>0.000</td>\n",
              "      <td>0.000</td>\n",
              "      <td>0.003</td>\n",
              "      <td>0.000</td>\n",
              "      <td>0.000</td>\n",
              "      <td>0.000</td>\n",
              "      <td>0.000</td>\n",
              "      <td>0.000</td>\n",
              "      <td>0.003</td>\n",
              "      <td>0.000</td>\n",
              "      <td>0.001</td>\n",
              "      <td>0.001</td>\n",
              "      <td>0.003</td>\n",
              "      <td>0.000</td>\n",
              "      <td>0.000</td>\n",
              "      <td>0.003</td>\n",
              "      <td>0.000</td>\n",
              "      <td>0.003</td>\n",
              "      <td>0.000</td>\n",
              "      <td>0.001</td>\n",
              "      <td>...</td>\n",
              "      <td>7.903</td>\n",
              "      <td>7.723</td>\n",
              "      <td>7.991</td>\n",
              "      <td>7.861</td>\n",
              "      <td>7.674</td>\n",
              "      <td>8.024</td>\n",
              "      <td>7.921</td>\n",
              "      <td>7.749</td>\n",
              "      <td>7.923</td>\n",
              "      <td>7.791</td>\n",
              "      <td>7.966</td>\n",
              "      <td>7.836</td>\n",
              "      <td>7.733</td>\n",
              "      <td>8.049</td>\n",
              "      <td>7.856</td>\n",
              "      <td>7.701</td>\n",
              "      <td>8.028</td>\n",
              "      <td>7.852</td>\n",
              "      <td>7.731</td>\n",
              "      <td>7.930</td>\n",
              "      <td>7.783</td>\n",
              "      <td>7.951</td>\n",
              "      <td>7.845</td>\n",
              "      <td>7.724</td>\n",
              "      <td>8.019</td>\n",
              "      <td>7.893</td>\n",
              "      <td>7.699</td>\n",
              "      <td>8.039</td>\n",
              "      <td>7.888</td>\n",
              "      <td>7.763</td>\n",
              "      <td>7.904</td>\n",
              "      <td>7.777</td>\n",
              "      <td>7.938</td>\n",
              "      <td>7.841</td>\n",
              "      <td>7.741</td>\n",
              "      <td>8.004</td>\n",
              "      <td>7.869</td>\n",
              "      <td>7.719</td>\n",
              "      <td>8.003</td>\n",
              "      <td>7.874</td>\n",
              "    </tr>\n",
              "    <tr>\n",
              "      <th>2201</th>\n",
              "      <td>8.317</td>\n",
              "      <td>0.883</td>\n",
              "      <td>0.799</td>\n",
              "      <td>0.008</td>\n",
              "      <td>0.005</td>\n",
              "      <td>0.000</td>\n",
              "      <td>0.000</td>\n",
              "      <td>0.000</td>\n",
              "      <td>0.000</td>\n",
              "      <td>0.001</td>\n",
              "      <td>0.001</td>\n",
              "      <td>0.003</td>\n",
              "      <td>0.001</td>\n",
              "      <td>0.000</td>\n",
              "      <td>0.000</td>\n",
              "      <td>0.000</td>\n",
              "      <td>0.000</td>\n",
              "      <td>0.000</td>\n",
              "      <td>0.000</td>\n",
              "      <td>0.001</td>\n",
              "      <td>0.000</td>\n",
              "      <td>0.001</td>\n",
              "      <td>0.004</td>\n",
              "      <td>0.000</td>\n",
              "      <td>0.000</td>\n",
              "      <td>0.000</td>\n",
              "      <td>0.000</td>\n",
              "      <td>0.000</td>\n",
              "      <td>0.000</td>\n",
              "      <td>0.000</td>\n",
              "      <td>0.000</td>\n",
              "      <td>0.003</td>\n",
              "      <td>0.006</td>\n",
              "      <td>0.000</td>\n",
              "      <td>0.000</td>\n",
              "      <td>0.000</td>\n",
              "      <td>0.001</td>\n",
              "      <td>0.000</td>\n",
              "      <td>0.001</td>\n",
              "      <td>0.000</td>\n",
              "      <td>...</td>\n",
              "      <td>7.694</td>\n",
              "      <td>7.999</td>\n",
              "      <td>7.894</td>\n",
              "      <td>7.704</td>\n",
              "      <td>7.956</td>\n",
              "      <td>7.820</td>\n",
              "      <td>7.833</td>\n",
              "      <td>7.955</td>\n",
              "      <td>7.796</td>\n",
              "      <td>7.999</td>\n",
              "      <td>7.852</td>\n",
              "      <td>7.691</td>\n",
              "      <td>8.041</td>\n",
              "      <td>7.900</td>\n",
              "      <td>7.676</td>\n",
              "      <td>7.976</td>\n",
              "      <td>7.821</td>\n",
              "      <td>7.811</td>\n",
              "      <td>7.906</td>\n",
              "      <td>7.756</td>\n",
              "      <td>7.946</td>\n",
              "      <td>7.841</td>\n",
              "      <td>7.701</td>\n",
              "      <td>8.029</td>\n",
              "      <td>7.879</td>\n",
              "      <td>7.686</td>\n",
              "      <td>7.970</td>\n",
              "      <td>7.843</td>\n",
              "      <td>7.816</td>\n",
              "      <td>7.948</td>\n",
              "      <td>7.766</td>\n",
              "      <td>7.957</td>\n",
              "      <td>7.817</td>\n",
              "      <td>7.739</td>\n",
              "      <td>8.036</td>\n",
              "      <td>7.871</td>\n",
              "      <td>7.647</td>\n",
              "      <td>7.993</td>\n",
              "      <td>7.898</td>\n",
              "      <td>7.787</td>\n",
              "    </tr>\n",
              "    <tr>\n",
              "      <th>2202</th>\n",
              "      <td>8.170</td>\n",
              "      <td>0.686</td>\n",
              "      <td>0.583</td>\n",
              "      <td>0.011</td>\n",
              "      <td>0.000</td>\n",
              "      <td>0.003</td>\n",
              "      <td>0.004</td>\n",
              "      <td>0.000</td>\n",
              "      <td>0.000</td>\n",
              "      <td>0.000</td>\n",
              "      <td>0.000</td>\n",
              "      <td>0.000</td>\n",
              "      <td>0.001</td>\n",
              "      <td>0.007</td>\n",
              "      <td>0.000</td>\n",
              "      <td>0.000</td>\n",
              "      <td>0.000</td>\n",
              "      <td>0.000</td>\n",
              "      <td>0.000</td>\n",
              "      <td>0.000</td>\n",
              "      <td>0.000</td>\n",
              "      <td>0.001</td>\n",
              "      <td>0.003</td>\n",
              "      <td>0.000</td>\n",
              "      <td>0.000</td>\n",
              "      <td>0.000</td>\n",
              "      <td>0.000</td>\n",
              "      <td>0.000</td>\n",
              "      <td>0.000</td>\n",
              "      <td>0.000</td>\n",
              "      <td>0.000</td>\n",
              "      <td>0.000</td>\n",
              "      <td>0.004</td>\n",
              "      <td>0.000</td>\n",
              "      <td>0.000</td>\n",
              "      <td>0.000</td>\n",
              "      <td>0.000</td>\n",
              "      <td>0.000</td>\n",
              "      <td>0.000</td>\n",
              "      <td>0.000</td>\n",
              "      <td>...</td>\n",
              "      <td>7.842</td>\n",
              "      <td>7.836</td>\n",
              "      <td>7.818</td>\n",
              "      <td>7.756</td>\n",
              "      <td>7.942</td>\n",
              "      <td>7.868</td>\n",
              "      <td>7.736</td>\n",
              "      <td>8.018</td>\n",
              "      <td>7.846</td>\n",
              "      <td>7.671</td>\n",
              "      <td>7.969</td>\n",
              "      <td>7.867</td>\n",
              "      <td>7.796</td>\n",
              "      <td>7.943</td>\n",
              "      <td>7.766</td>\n",
              "      <td>7.942</td>\n",
              "      <td>7.814</td>\n",
              "      <td>7.704</td>\n",
              "      <td>8.066</td>\n",
              "      <td>7.894</td>\n",
              "      <td>7.683</td>\n",
              "      <td>7.952</td>\n",
              "      <td>7.829</td>\n",
              "      <td>7.787</td>\n",
              "      <td>7.889</td>\n",
              "      <td>7.795</td>\n",
              "      <td>7.942</td>\n",
              "      <td>7.884</td>\n",
              "      <td>7.718</td>\n",
              "      <td>8.056</td>\n",
              "      <td>7.898</td>\n",
              "      <td>7.648</td>\n",
              "      <td>7.953</td>\n",
              "      <td>7.871</td>\n",
              "      <td>7.859</td>\n",
              "      <td>7.921</td>\n",
              "      <td>7.770</td>\n",
              "      <td>7.982</td>\n",
              "      <td>7.859</td>\n",
              "      <td>7.685</td>\n",
              "    </tr>\n",
              "    <tr>\n",
              "      <th>2203</th>\n",
              "      <td>8.496</td>\n",
              "      <td>0.543</td>\n",
              "      <td>0.366</td>\n",
              "      <td>0.009</td>\n",
              "      <td>0.005</td>\n",
              "      <td>0.000</td>\n",
              "      <td>0.000</td>\n",
              "      <td>0.000</td>\n",
              "      <td>0.001</td>\n",
              "      <td>0.003</td>\n",
              "      <td>0.000</td>\n",
              "      <td>0.001</td>\n",
              "      <td>0.001</td>\n",
              "      <td>0.004</td>\n",
              "      <td>0.000</td>\n",
              "      <td>0.000</td>\n",
              "      <td>0.000</td>\n",
              "      <td>0.003</td>\n",
              "      <td>0.000</td>\n",
              "      <td>0.001</td>\n",
              "      <td>0.001</td>\n",
              "      <td>0.001</td>\n",
              "      <td>0.003</td>\n",
              "      <td>0.005</td>\n",
              "      <td>0.000</td>\n",
              "      <td>0.000</td>\n",
              "      <td>0.000</td>\n",
              "      <td>0.000</td>\n",
              "      <td>0.000</td>\n",
              "      <td>0.000</td>\n",
              "      <td>0.000</td>\n",
              "      <td>0.004</td>\n",
              "      <td>0.003</td>\n",
              "      <td>0.001</td>\n",
              "      <td>0.000</td>\n",
              "      <td>0.000</td>\n",
              "      <td>0.000</td>\n",
              "      <td>0.000</td>\n",
              "      <td>0.001</td>\n",
              "      <td>0.000</td>\n",
              "      <td>...</td>\n",
              "      <td>7.890</td>\n",
              "      <td>7.691</td>\n",
              "      <td>8.013</td>\n",
              "      <td>7.862</td>\n",
              "      <td>7.797</td>\n",
              "      <td>7.938</td>\n",
              "      <td>7.775</td>\n",
              "      <td>7.950</td>\n",
              "      <td>7.865</td>\n",
              "      <td>7.707</td>\n",
              "      <td>8.086</td>\n",
              "      <td>7.858</td>\n",
              "      <td>7.709</td>\n",
              "      <td>8.036</td>\n",
              "      <td>7.877</td>\n",
              "      <td>7.773</td>\n",
              "      <td>7.963</td>\n",
              "      <td>7.825</td>\n",
              "      <td>7.931</td>\n",
              "      <td>7.867</td>\n",
              "      <td>7.676</td>\n",
              "      <td>8.012</td>\n",
              "      <td>7.841</td>\n",
              "      <td>7.716</td>\n",
              "      <td>8.012</td>\n",
              "      <td>7.885</td>\n",
              "      <td>7.718</td>\n",
              "      <td>7.913</td>\n",
              "      <td>7.806</td>\n",
              "      <td>7.904</td>\n",
              "      <td>7.834</td>\n",
              "      <td>7.737</td>\n",
              "      <td>8.065</td>\n",
              "      <td>7.893</td>\n",
              "      <td>7.653</td>\n",
              "      <td>7.971</td>\n",
              "      <td>7.898</td>\n",
              "      <td>7.758</td>\n",
              "      <td>7.892</td>\n",
              "      <td>7.793</td>\n",
              "    </tr>\n",
              "    <tr>\n",
              "      <th>2204</th>\n",
              "      <td>8.373</td>\n",
              "      <td>0.776</td>\n",
              "      <td>0.667</td>\n",
              "      <td>0.006</td>\n",
              "      <td>0.000</td>\n",
              "      <td>0.003</td>\n",
              "      <td>0.000</td>\n",
              "      <td>0.000</td>\n",
              "      <td>0.000</td>\n",
              "      <td>0.000</td>\n",
              "      <td>0.000</td>\n",
              "      <td>0.001</td>\n",
              "      <td>0.000</td>\n",
              "      <td>0.003</td>\n",
              "      <td>0.000</td>\n",
              "      <td>0.001</td>\n",
              "      <td>0.000</td>\n",
              "      <td>0.000</td>\n",
              "      <td>0.000</td>\n",
              "      <td>0.000</td>\n",
              "      <td>0.000</td>\n",
              "      <td>0.000</td>\n",
              "      <td>0.001</td>\n",
              "      <td>0.004</td>\n",
              "      <td>0.000</td>\n",
              "      <td>0.000</td>\n",
              "      <td>0.001</td>\n",
              "      <td>0.000</td>\n",
              "      <td>0.000</td>\n",
              "      <td>0.000</td>\n",
              "      <td>0.000</td>\n",
              "      <td>0.000</td>\n",
              "      <td>0.003</td>\n",
              "      <td>0.004</td>\n",
              "      <td>0.000</td>\n",
              "      <td>0.000</td>\n",
              "      <td>0.001</td>\n",
              "      <td>0.005</td>\n",
              "      <td>0.001</td>\n",
              "      <td>0.000</td>\n",
              "      <td>...</td>\n",
              "      <td>7.858</td>\n",
              "      <td>7.705</td>\n",
              "      <td>8.018</td>\n",
              "      <td>7.806</td>\n",
              "      <td>7.703</td>\n",
              "      <td>7.961</td>\n",
              "      <td>7.814</td>\n",
              "      <td>7.891</td>\n",
              "      <td>7.863</td>\n",
              "      <td>7.750</td>\n",
              "      <td>8.013</td>\n",
              "      <td>7.853</td>\n",
              "      <td>7.685</td>\n",
              "      <td>8.005</td>\n",
              "      <td>7.871</td>\n",
              "      <td>7.788</td>\n",
              "      <td>7.927</td>\n",
              "      <td>7.778</td>\n",
              "      <td>7.903</td>\n",
              "      <td>7.906</td>\n",
              "      <td>7.710</td>\n",
              "      <td>8.026</td>\n",
              "      <td>7.871</td>\n",
              "      <td>7.701</td>\n",
              "      <td>8.016</td>\n",
              "      <td>7.899</td>\n",
              "      <td>7.798</td>\n",
              "      <td>7.954</td>\n",
              "      <td>7.800</td>\n",
              "      <td>7.910</td>\n",
              "      <td>7.866</td>\n",
              "      <td>7.716</td>\n",
              "      <td>8.068</td>\n",
              "      <td>7.861</td>\n",
              "      <td>7.707</td>\n",
              "      <td>8.029</td>\n",
              "      <td>7.814</td>\n",
              "      <td>7.783</td>\n",
              "      <td>7.943</td>\n",
              "      <td>7.774</td>\n",
              "    </tr>\n",
              "  </tbody>\n",
              "</table>\n",
              "<p>2205 rows × 600 columns</p>\n",
              "</div>"
            ],
            "text/plain": [
              "        0      1      2      3      4    ...    595    596    597    598    599\n",
              "0     8.990  0.770  0.641  0.006  0.000  ...  7.823  7.963  7.876  7.738  8.036\n",
              "1     8.919  0.815  0.709  0.009  0.004  ...  7.747  7.969  7.969  7.963  7.890\n",
              "2     9.179  0.683  0.528  0.008  0.003  ...  7.770  7.982  7.873  7.898  7.952\n",
              "3     9.034  0.728  0.595  0.009  0.001  ...  8.011  7.919  7.938  7.877  7.773\n",
              "4     8.729  0.705  0.446  0.014  0.007  ...  7.983  7.838  7.882  7.894  7.825\n",
              "...     ...    ...    ...    ...    ...  ...    ...    ...    ...    ...    ...\n",
              "2200  8.173  1.024  0.834  0.009  0.000  ...  8.004  7.869  7.719  8.003  7.874\n",
              "2201  8.317  0.883  0.799  0.008  0.005  ...  7.871  7.647  7.993  7.898  7.787\n",
              "2202  8.170  0.686  0.583  0.011  0.000  ...  7.921  7.770  7.982  7.859  7.685\n",
              "2203  8.496  0.543  0.366  0.009  0.005  ...  7.971  7.898  7.758  7.892  7.793\n",
              "2204  8.373  0.776  0.667  0.006  0.000  ...  8.029  7.814  7.783  7.943  7.774\n",
              "\n",
              "[2205 rows x 600 columns]"
            ]
          },
          "metadata": {
            "tags": []
          },
          "execution_count": 6
        }
      ]
    },
    {
      "cell_type": "code",
      "metadata": {
        "id": "PFDW1dC_pPvB",
        "colab": {
          "base_uri": "https://localhost:8080/"
        },
        "outputId": "b4aa7b44-159c-44e5-b318-48faf026bc6f"
      },
      "source": [
        "d = lambda x : [np.arange(i,i+10) for i in x]\r\n",
        "num = d(np.arange(0,600,10))\r\n",
        "num"
      ],
      "execution_count": null,
      "outputs": [
        {
          "output_type": "execute_result",
          "data": {
            "text/plain": [
              "[array([0, 1, 2, 3, 4, 5, 6, 7, 8, 9]),\n",
              " array([10, 11, 12, 13, 14, 15, 16, 17, 18, 19]),\n",
              " array([20, 21, 22, 23, 24, 25, 26, 27, 28, 29]),\n",
              " array([30, 31, 32, 33, 34, 35, 36, 37, 38, 39]),\n",
              " array([40, 41, 42, 43, 44, 45, 46, 47, 48, 49]),\n",
              " array([50, 51, 52, 53, 54, 55, 56, 57, 58, 59]),\n",
              " array([60, 61, 62, 63, 64, 65, 66, 67, 68, 69]),\n",
              " array([70, 71, 72, 73, 74, 75, 76, 77, 78, 79]),\n",
              " array([80, 81, 82, 83, 84, 85, 86, 87, 88, 89]),\n",
              " array([90, 91, 92, 93, 94, 95, 96, 97, 98, 99]),\n",
              " array([100, 101, 102, 103, 104, 105, 106, 107, 108, 109]),\n",
              " array([110, 111, 112, 113, 114, 115, 116, 117, 118, 119]),\n",
              " array([120, 121, 122, 123, 124, 125, 126, 127, 128, 129]),\n",
              " array([130, 131, 132, 133, 134, 135, 136, 137, 138, 139]),\n",
              " array([140, 141, 142, 143, 144, 145, 146, 147, 148, 149]),\n",
              " array([150, 151, 152, 153, 154, 155, 156, 157, 158, 159]),\n",
              " array([160, 161, 162, 163, 164, 165, 166, 167, 168, 169]),\n",
              " array([170, 171, 172, 173, 174, 175, 176, 177, 178, 179]),\n",
              " array([180, 181, 182, 183, 184, 185, 186, 187, 188, 189]),\n",
              " array([190, 191, 192, 193, 194, 195, 196, 197, 198, 199]),\n",
              " array([200, 201, 202, 203, 204, 205, 206, 207, 208, 209]),\n",
              " array([210, 211, 212, 213, 214, 215, 216, 217, 218, 219]),\n",
              " array([220, 221, 222, 223, 224, 225, 226, 227, 228, 229]),\n",
              " array([230, 231, 232, 233, 234, 235, 236, 237, 238, 239]),\n",
              " array([240, 241, 242, 243, 244, 245, 246, 247, 248, 249]),\n",
              " array([250, 251, 252, 253, 254, 255, 256, 257, 258, 259]),\n",
              " array([260, 261, 262, 263, 264, 265, 266, 267, 268, 269]),\n",
              " array([270, 271, 272, 273, 274, 275, 276, 277, 278, 279]),\n",
              " array([280, 281, 282, 283, 284, 285, 286, 287, 288, 289]),\n",
              " array([290, 291, 292, 293, 294, 295, 296, 297, 298, 299]),\n",
              " array([300, 301, 302, 303, 304, 305, 306, 307, 308, 309]),\n",
              " array([310, 311, 312, 313, 314, 315, 316, 317, 318, 319]),\n",
              " array([320, 321, 322, 323, 324, 325, 326, 327, 328, 329]),\n",
              " array([330, 331, 332, 333, 334, 335, 336, 337, 338, 339]),\n",
              " array([340, 341, 342, 343, 344, 345, 346, 347, 348, 349]),\n",
              " array([350, 351, 352, 353, 354, 355, 356, 357, 358, 359]),\n",
              " array([360, 361, 362, 363, 364, 365, 366, 367, 368, 369]),\n",
              " array([370, 371, 372, 373, 374, 375, 376, 377, 378, 379]),\n",
              " array([380, 381, 382, 383, 384, 385, 386, 387, 388, 389]),\n",
              " array([390, 391, 392, 393, 394, 395, 396, 397, 398, 399]),\n",
              " array([400, 401, 402, 403, 404, 405, 406, 407, 408, 409]),\n",
              " array([410, 411, 412, 413, 414, 415, 416, 417, 418, 419]),\n",
              " array([420, 421, 422, 423, 424, 425, 426, 427, 428, 429]),\n",
              " array([430, 431, 432, 433, 434, 435, 436, 437, 438, 439]),\n",
              " array([440, 441, 442, 443, 444, 445, 446, 447, 448, 449]),\n",
              " array([450, 451, 452, 453, 454, 455, 456, 457, 458, 459]),\n",
              " array([460, 461, 462, 463, 464, 465, 466, 467, 468, 469]),\n",
              " array([470, 471, 472, 473, 474, 475, 476, 477, 478, 479]),\n",
              " array([480, 481, 482, 483, 484, 485, 486, 487, 488, 489]),\n",
              " array([490, 491, 492, 493, 494, 495, 496, 497, 498, 499]),\n",
              " array([500, 501, 502, 503, 504, 505, 506, 507, 508, 509]),\n",
              " array([510, 511, 512, 513, 514, 515, 516, 517, 518, 519]),\n",
              " array([520, 521, 522, 523, 524, 525, 526, 527, 528, 529]),\n",
              " array([530, 531, 532, 533, 534, 535, 536, 537, 538, 539]),\n",
              " array([540, 541, 542, 543, 544, 545, 546, 547, 548, 549]),\n",
              " array([550, 551, 552, 553, 554, 555, 556, 557, 558, 559]),\n",
              " array([560, 561, 562, 563, 564, 565, 566, 567, 568, 569]),\n",
              " array([570, 571, 572, 573, 574, 575, 576, 577, 578, 579]),\n",
              " array([580, 581, 582, 583, 584, 585, 586, 587, 588, 589]),\n",
              " array([590, 591, 592, 593, 594, 595, 596, 597, 598, 599])]"
            ]
          },
          "metadata": {
            "tags": []
          },
          "execution_count": 7
        }
      ]
    },
    {
      "cell_type": "code",
      "metadata": {
        "id": "vcjis1uq3K9s"
      },
      "source": [
        "FS1_new = pd.DataFrame(columns=[0])\r\n",
        "for i in range(0,60):\r\n",
        "  col = (FS1.iloc[:,num[i]].mean(axis=1))\r\n",
        "  FS1_new[i] = col"
      ],
      "execution_count": null,
      "outputs": []
    },
    {
      "cell_type": "code",
      "metadata": {
        "id": "LEYdH3Owg115"
      },
      "source": [
        "FS1_new['mean60'] = FS1_new.mean(axis = 1)"
      ],
      "execution_count": null,
      "outputs": []
    },
    {
      "cell_type": "code",
      "metadata": {
        "id": "sMn5uJzhEEOY"
      },
      "source": [
        "FS1['mean'] = FS1.mean(axis = 1)"
      ],
      "execution_count": null,
      "outputs": []
    },
    {
      "cell_type": "code",
      "metadata": {
        "colab": {
          "base_uri": "https://localhost:8080/"
        },
        "id": "uvNQ24COD7Ql",
        "outputId": "1371082b-0fe6-4f46-d13f-0631df38be54"
      },
      "source": [
        "print(np.concatenate((FS1['mean'].values.reshape(len(FS1['mean']),1), FS1_new['mean60'].values.reshape(len(FS1_new['mean60']),1)),1))"
      ],
      "execution_count": null,
      "outputs": [
        {
          "output_type": "stream",
          "text": [
            "[[6.709815   6.709815  ]\n",
            " [6.715315   6.715315  ]\n",
            " [6.71852167 6.71852167]\n",
            " ...\n",
            " [6.69327667 6.69327667]\n",
            " [6.68412833 6.68412833]\n",
            " [6.69230167 6.69230167]]\n"
          ],
          "name": "stdout"
        }
      ]
    },
    {
      "cell_type": "code",
      "metadata": {
        "id": "qQA2a6YWHt_K"
      },
      "source": [
        "FS1_new['Diff'] = FS1['mean'].values - FS1_new['mean60'].values"
      ],
      "execution_count": null,
      "outputs": []
    },
    {
      "cell_type": "code",
      "metadata": {
        "colab": {
          "base_uri": "https://localhost:8080/"
        },
        "id": "6BX7gIROHDqS",
        "outputId": "e619583d-25ff-4a8b-924d-1b5c17f06645"
      },
      "source": [
        "print(np.round(FS1_new['Diff'],2).value_counts())"
      ],
      "execution_count": null,
      "outputs": [
        {
          "output_type": "stream",
          "text": [
            "0.0    2205\n",
            "Name: Diff, dtype: int64\n"
          ],
          "name": "stdout"
        }
      ]
    },
    {
      "cell_type": "code",
      "metadata": {
        "id": "-PnqErOS8qOi"
      },
      "source": [
        ""
      ],
      "execution_count": null,
      "outputs": []
    },
    {
      "cell_type": "markdown",
      "metadata": {
        "id": "Q1vZETavOdhu"
      },
      "source": [
        "##IMPORTING ALL FILES"
      ]
    },
    {
      "cell_type": "code",
      "metadata": {
        "id": "Qt6Q1HvdZRKn"
      },
      "source": [
        "PS1 = get_file('/content/drive/MyDrive/data/data/PS1.txt')\r\n",
        "PS2 = get_file('/content/drive/MyDrive/data/data/PS2.txt')\r\n",
        "PS3 = get_file('/content/drive/MyDrive/data/data/PS3.txt')\r\n",
        "PS4 = get_file('/content/drive/MyDrive/data/data/PS4.txt')\r\n",
        "PS5 = get_file('/content/drive/MyDrive/data/data/PS5.txt')\r\n",
        "PS6 = get_file('/content/drive/MyDrive/data/data/PS6.txt')\r\n",
        "EPS1 = get_file('/content/drive/MyDrive/data/data/EPS1.txt')\r\n",
        "FS2 = get_file('/content/drive/MyDrive/data/data/FS2.txt')\r\n",
        "TS1 = get_file('/content/drive/MyDrive/data/data/TS1.txt')\r\n",
        "TS2 = get_file('/content/drive/MyDrive/data/data/TS2.txt')\r\n",
        "TS3 = get_file('/content/drive/MyDrive/data/data/TS3.txt')\r\n",
        "TS4 = get_file('/content/drive/MyDrive/data/data/TS4.txt')\r\n",
        "VS1 = get_file('/content/drive/MyDrive/data/data/VS1.txt')\r\n",
        "CE = get_file('/content/drive/MyDrive/data/data/CE.txt')\r\n",
        "CP = get_file('/content/drive/MyDrive/data/data/CP.txt')\r\n",
        "SE = get_file('/content/drive/MyDrive/data/data/SE.txt')"
      ],
      "execution_count": null,
      "outputs": []
    },
    {
      "cell_type": "code",
      "metadata": {
        "id": "c0hoRwwiOlBJ"
      },
      "source": [
        "b = [PS1,PS2,PS3,PS4,PS5,PS6,EPS1,FS1,FS2,TS1,TS2,TS3,TS4,VS1,CE,CP,SE]\r\n",
        "for i in b:\r\n",
        "  i['mean'] = i.mean(axis = 1)"
      ],
      "execution_count": null,
      "outputs": []
    },
    {
      "cell_type": "code",
      "metadata": {
        "id": "7IgLhra5UkzX"
      },
      "source": [
        "col = ['PS1','PS2','PS3','PS4','PS5','PS6','EPS1','FS1','FS2','TS1','TS2','TS3','TS4','VS1','CE','CP','SE']\r\n",
        "final_data = pd.DataFrame(columns=col)"
      ],
      "execution_count": null,
      "outputs": []
    },
    {
      "cell_type": "code",
      "metadata": {
        "id": "byKY7UuYgH-3"
      },
      "source": [
        "for i,j in zip(b,col):\r\n",
        "  new = np.round(i['mean'],3)\r\n",
        "  final_data[j] = new"
      ],
      "execution_count": null,
      "outputs": []
    },
    {
      "cell_type": "code",
      "metadata": {
        "colab": {
          "base_uri": "https://localhost:8080/",
          "height": 406
        },
        "id": "vJeujHiYeErl",
        "outputId": "ab0177bb-ee69-4afe-95a8-df7c351d193e"
      },
      "source": [
        "final_data"
      ],
      "execution_count": null,
      "outputs": [
        {
          "output_type": "execute_result",
          "data": {
            "text/html": [
              "<div>\n",
              "<style scoped>\n",
              "    .dataframe tbody tr th:only-of-type {\n",
              "        vertical-align: middle;\n",
              "    }\n",
              "\n",
              "    .dataframe tbody tr th {\n",
              "        vertical-align: top;\n",
              "    }\n",
              "\n",
              "    .dataframe thead th {\n",
              "        text-align: right;\n",
              "    }\n",
              "</style>\n",
              "<table border=\"1\" class=\"dataframe\">\n",
              "  <thead>\n",
              "    <tr style=\"text-align: right;\">\n",
              "      <th></th>\n",
              "      <th>PS1</th>\n",
              "      <th>PS2</th>\n",
              "      <th>PS3</th>\n",
              "      <th>PS4</th>\n",
              "      <th>PS5</th>\n",
              "      <th>PS6</th>\n",
              "      <th>EPS1</th>\n",
              "      <th>FS1</th>\n",
              "      <th>FS2</th>\n",
              "      <th>TS1</th>\n",
              "      <th>TS2</th>\n",
              "      <th>TS3</th>\n",
              "      <th>TS4</th>\n",
              "      <th>VS1</th>\n",
              "      <th>CE</th>\n",
              "      <th>CP</th>\n",
              "      <th>SE</th>\n",
              "    </tr>\n",
              "  </thead>\n",
              "  <tbody>\n",
              "    <tr>\n",
              "      <th>0</th>\n",
              "      <td>160.673</td>\n",
              "      <td>109.467</td>\n",
              "      <td>1.991</td>\n",
              "      <td>0.000</td>\n",
              "      <td>9.842</td>\n",
              "      <td>9.728</td>\n",
              "      <td>2538.929</td>\n",
              "      <td>6.710</td>\n",
              "      <td>10.305</td>\n",
              "      <td>35.622</td>\n",
              "      <td>40.979</td>\n",
              "      <td>38.471</td>\n",
              "      <td>31.745</td>\n",
              "      <td>0.577</td>\n",
              "      <td>39.601</td>\n",
              "      <td>1.863</td>\n",
              "      <td>59.157</td>\n",
              "    </tr>\n",
              "    <tr>\n",
              "      <th>1</th>\n",
              "      <td>160.603</td>\n",
              "      <td>109.355</td>\n",
              "      <td>1.976</td>\n",
              "      <td>0.000</td>\n",
              "      <td>9.635</td>\n",
              "      <td>9.529</td>\n",
              "      <td>2531.499</td>\n",
              "      <td>6.715</td>\n",
              "      <td>10.403</td>\n",
              "      <td>36.677</td>\n",
              "      <td>41.533</td>\n",
              "      <td>38.979</td>\n",
              "      <td>34.494</td>\n",
              "      <td>0.566</td>\n",
              "      <td>25.786</td>\n",
              "      <td>1.256</td>\n",
              "      <td>59.336</td>\n",
              "    </tr>\n",
              "    <tr>\n",
              "      <th>2</th>\n",
              "      <td>160.348</td>\n",
              "      <td>109.159</td>\n",
              "      <td>1.972</td>\n",
              "      <td>0.000</td>\n",
              "      <td>9.531</td>\n",
              "      <td>9.428</td>\n",
              "      <td>2519.928</td>\n",
              "      <td>6.719</td>\n",
              "      <td>10.366</td>\n",
              "      <td>37.881</td>\n",
              "      <td>42.442</td>\n",
              "      <td>39.632</td>\n",
              "      <td>35.646</td>\n",
              "      <td>0.577</td>\n",
              "      <td>22.218</td>\n",
              "      <td>1.113</td>\n",
              "      <td>59.543</td>\n",
              "    </tr>\n",
              "    <tr>\n",
              "      <th>3</th>\n",
              "      <td>160.188</td>\n",
              "      <td>109.065</td>\n",
              "      <td>1.947</td>\n",
              "      <td>0.000</td>\n",
              "      <td>9.439</td>\n",
              "      <td>9.337</td>\n",
              "      <td>2511.542</td>\n",
              "      <td>6.721</td>\n",
              "      <td>10.303</td>\n",
              "      <td>38.879</td>\n",
              "      <td>43.404</td>\n",
              "      <td>40.403</td>\n",
              "      <td>36.579</td>\n",
              "      <td>0.569</td>\n",
              "      <td>20.460</td>\n",
              "      <td>1.062</td>\n",
              "      <td>59.795</td>\n",
              "    </tr>\n",
              "    <tr>\n",
              "      <th>4</th>\n",
              "      <td>160.000</td>\n",
              "      <td>108.931</td>\n",
              "      <td>1.923</td>\n",
              "      <td>0.000</td>\n",
              "      <td>9.359</td>\n",
              "      <td>9.261</td>\n",
              "      <td>2503.450</td>\n",
              "      <td>6.690</td>\n",
              "      <td>10.238</td>\n",
              "      <td>39.804</td>\n",
              "      <td>44.333</td>\n",
              "      <td>41.311</td>\n",
              "      <td>37.428</td>\n",
              "      <td>0.577</td>\n",
              "      <td>19.787</td>\n",
              "      <td>1.070</td>\n",
              "      <td>59.455</td>\n",
              "    </tr>\n",
              "    <tr>\n",
              "      <th>...</th>\n",
              "      <td>...</td>\n",
              "      <td>...</td>\n",
              "      <td>...</td>\n",
              "      <td>...</td>\n",
              "      <td>...</td>\n",
              "      <td>...</td>\n",
              "      <td>...</td>\n",
              "      <td>...</td>\n",
              "      <td>...</td>\n",
              "      <td>...</td>\n",
              "      <td>...</td>\n",
              "      <td>...</td>\n",
              "      <td>...</td>\n",
              "      <td>...</td>\n",
              "      <td>...</td>\n",
              "      <td>...</td>\n",
              "      <td>...</td>\n",
              "    </tr>\n",
              "    <tr>\n",
              "      <th>2200</th>\n",
              "      <td>161.228</td>\n",
              "      <td>109.780</td>\n",
              "      <td>2.001</td>\n",
              "      <td>10.202</td>\n",
              "      <td>9.972</td>\n",
              "      <td>9.850</td>\n",
              "      <td>2543.911</td>\n",
              "      <td>6.690</td>\n",
              "      <td>10.185</td>\n",
              "      <td>35.314</td>\n",
              "      <td>40.875</td>\n",
              "      <td>38.269</td>\n",
              "      <td>30.405</td>\n",
              "      <td>0.551</td>\n",
              "      <td>46.629</td>\n",
              "      <td>2.161</td>\n",
              "      <td>59.033</td>\n",
              "    </tr>\n",
              "    <tr>\n",
              "      <th>2201</th>\n",
              "      <td>161.206</td>\n",
              "      <td>109.787</td>\n",
              "      <td>1.999</td>\n",
              "      <td>10.198</td>\n",
              "      <td>9.966</td>\n",
              "      <td>9.845</td>\n",
              "      <td>2543.411</td>\n",
              "      <td>6.692</td>\n",
              "      <td>10.178</td>\n",
              "      <td>35.322</td>\n",
              "      <td>40.869</td>\n",
              "      <td>38.268</td>\n",
              "      <td>30.416</td>\n",
              "      <td>0.547</td>\n",
              "      <td>46.690</td>\n",
              "      <td>2.151</td>\n",
              "      <td>59.068</td>\n",
              "    </tr>\n",
              "    <tr>\n",
              "      <th>2202</th>\n",
              "      <td>161.192</td>\n",
              "      <td>109.756</td>\n",
              "      <td>1.993</td>\n",
              "      <td>10.197</td>\n",
              "      <td>9.964</td>\n",
              "      <td>9.843</td>\n",
              "      <td>2542.730</td>\n",
              "      <td>6.693</td>\n",
              "      <td>10.176</td>\n",
              "      <td>35.319</td>\n",
              "      <td>40.876</td>\n",
              "      <td>38.246</td>\n",
              "      <td>30.426</td>\n",
              "      <td>0.545</td>\n",
              "      <td>46.472</td>\n",
              "      <td>2.143</td>\n",
              "      <td>59.132</td>\n",
              "    </tr>\n",
              "    <tr>\n",
              "      <th>2203</th>\n",
              "      <td>161.209</td>\n",
              "      <td>109.794</td>\n",
              "      <td>2.007</td>\n",
              "      <td>10.199</td>\n",
              "      <td>9.968</td>\n",
              "      <td>9.847</td>\n",
              "      <td>2544.046</td>\n",
              "      <td>6.684</td>\n",
              "      <td>10.178</td>\n",
              "      <td>35.325</td>\n",
              "      <td>40.876</td>\n",
              "      <td>38.246</td>\n",
              "      <td>30.414</td>\n",
              "      <td>0.537</td>\n",
              "      <td>46.545</td>\n",
              "      <td>2.148</td>\n",
              "      <td>58.971</td>\n",
              "    </tr>\n",
              "    <tr>\n",
              "      <th>2204</th>\n",
              "      <td>161.217</td>\n",
              "      <td>109.792</td>\n",
              "      <td>2.003</td>\n",
              "      <td>10.203</td>\n",
              "      <td>9.974</td>\n",
              "      <td>9.852</td>\n",
              "      <td>2543.818</td>\n",
              "      <td>6.692</td>\n",
              "      <td>10.183</td>\n",
              "      <td>35.322</td>\n",
              "      <td>40.859</td>\n",
              "      <td>38.249</td>\n",
              "      <td>30.391</td>\n",
              "      <td>0.547</td>\n",
              "      <td>46.648</td>\n",
              "      <td>2.157</td>\n",
              "      <td>59.054</td>\n",
              "    </tr>\n",
              "  </tbody>\n",
              "</table>\n",
              "<p>2205 rows × 17 columns</p>\n",
              "</div>"
            ],
            "text/plain": [
              "          PS1      PS2    PS3     PS4  ...    VS1      CE     CP      SE\n",
              "0     160.673  109.467  1.991   0.000  ...  0.577  39.601  1.863  59.157\n",
              "1     160.603  109.355  1.976   0.000  ...  0.566  25.786  1.256  59.336\n",
              "2     160.348  109.159  1.972   0.000  ...  0.577  22.218  1.113  59.543\n",
              "3     160.188  109.065  1.947   0.000  ...  0.569  20.460  1.062  59.795\n",
              "4     160.000  108.931  1.923   0.000  ...  0.577  19.787  1.070  59.455\n",
              "...       ...      ...    ...     ...  ...    ...     ...    ...     ...\n",
              "2200  161.228  109.780  2.001  10.202  ...  0.551  46.629  2.161  59.033\n",
              "2201  161.206  109.787  1.999  10.198  ...  0.547  46.690  2.151  59.068\n",
              "2202  161.192  109.756  1.993  10.197  ...  0.545  46.472  2.143  59.132\n",
              "2203  161.209  109.794  2.007  10.199  ...  0.537  46.545  2.148  58.971\n",
              "2204  161.217  109.792  2.003  10.203  ...  0.547  46.648  2.157  59.054\n",
              "\n",
              "[2205 rows x 17 columns]"
            ]
          },
          "metadata": {
            "tags": []
          },
          "execution_count": 18
        }
      ]
    },
    {
      "cell_type": "code",
      "metadata": {
        "colab": {
          "base_uri": "https://localhost:8080/",
          "height": 406
        },
        "id": "g5HmM51l528Z",
        "outputId": "1f703445-236a-4f67-c4ec-a548bd24a6e5"
      },
      "source": [
        "Profile = (get_file('/content/drive/MyDrive/data/data/profile.txt'))\r\n",
        "Profile"
      ],
      "execution_count": null,
      "outputs": [
        {
          "output_type": "execute_result",
          "data": {
            "text/html": [
              "<div>\n",
              "<style scoped>\n",
              "    .dataframe tbody tr th:only-of-type {\n",
              "        vertical-align: middle;\n",
              "    }\n",
              "\n",
              "    .dataframe tbody tr th {\n",
              "        vertical-align: top;\n",
              "    }\n",
              "\n",
              "    .dataframe thead th {\n",
              "        text-align: right;\n",
              "    }\n",
              "</style>\n",
              "<table border=\"1\" class=\"dataframe\">\n",
              "  <thead>\n",
              "    <tr style=\"text-align: right;\">\n",
              "      <th></th>\n",
              "      <th>0</th>\n",
              "      <th>1</th>\n",
              "      <th>2</th>\n",
              "      <th>3</th>\n",
              "      <th>4</th>\n",
              "    </tr>\n",
              "  </thead>\n",
              "  <tbody>\n",
              "    <tr>\n",
              "      <th>0</th>\n",
              "      <td>3</td>\n",
              "      <td>100</td>\n",
              "      <td>0</td>\n",
              "      <td>130</td>\n",
              "      <td>1</td>\n",
              "    </tr>\n",
              "    <tr>\n",
              "      <th>1</th>\n",
              "      <td>3</td>\n",
              "      <td>100</td>\n",
              "      <td>0</td>\n",
              "      <td>130</td>\n",
              "      <td>1</td>\n",
              "    </tr>\n",
              "    <tr>\n",
              "      <th>2</th>\n",
              "      <td>3</td>\n",
              "      <td>100</td>\n",
              "      <td>0</td>\n",
              "      <td>130</td>\n",
              "      <td>1</td>\n",
              "    </tr>\n",
              "    <tr>\n",
              "      <th>3</th>\n",
              "      <td>3</td>\n",
              "      <td>100</td>\n",
              "      <td>0</td>\n",
              "      <td>130</td>\n",
              "      <td>1</td>\n",
              "    </tr>\n",
              "    <tr>\n",
              "      <th>4</th>\n",
              "      <td>3</td>\n",
              "      <td>100</td>\n",
              "      <td>0</td>\n",
              "      <td>130</td>\n",
              "      <td>1</td>\n",
              "    </tr>\n",
              "    <tr>\n",
              "      <th>...</th>\n",
              "      <td>...</td>\n",
              "      <td>...</td>\n",
              "      <td>...</td>\n",
              "      <td>...</td>\n",
              "      <td>...</td>\n",
              "    </tr>\n",
              "    <tr>\n",
              "      <th>2200</th>\n",
              "      <td>100</td>\n",
              "      <td>100</td>\n",
              "      <td>0</td>\n",
              "      <td>90</td>\n",
              "      <td>0</td>\n",
              "    </tr>\n",
              "    <tr>\n",
              "      <th>2201</th>\n",
              "      <td>100</td>\n",
              "      <td>100</td>\n",
              "      <td>0</td>\n",
              "      <td>90</td>\n",
              "      <td>0</td>\n",
              "    </tr>\n",
              "    <tr>\n",
              "      <th>2202</th>\n",
              "      <td>100</td>\n",
              "      <td>100</td>\n",
              "      <td>0</td>\n",
              "      <td>90</td>\n",
              "      <td>0</td>\n",
              "    </tr>\n",
              "    <tr>\n",
              "      <th>2203</th>\n",
              "      <td>100</td>\n",
              "      <td>100</td>\n",
              "      <td>0</td>\n",
              "      <td>90</td>\n",
              "      <td>0</td>\n",
              "    </tr>\n",
              "    <tr>\n",
              "      <th>2204</th>\n",
              "      <td>100</td>\n",
              "      <td>100</td>\n",
              "      <td>0</td>\n",
              "      <td>90</td>\n",
              "      <td>0</td>\n",
              "    </tr>\n",
              "  </tbody>\n",
              "</table>\n",
              "<p>2205 rows × 5 columns</p>\n",
              "</div>"
            ],
            "text/plain": [
              "        0    1  2    3  4\n",
              "0       3  100  0  130  1\n",
              "1       3  100  0  130  1\n",
              "2       3  100  0  130  1\n",
              "3       3  100  0  130  1\n",
              "4       3  100  0  130  1\n",
              "...   ...  ... ..  ... ..\n",
              "2200  100  100  0   90  0\n",
              "2201  100  100  0   90  0\n",
              "2202  100  100  0   90  0\n",
              "2203  100  100  0   90  0\n",
              "2204  100  100  0   90  0\n",
              "\n",
              "[2205 rows x 5 columns]"
            ]
          },
          "metadata": {
            "tags": []
          },
          "execution_count": 19
        }
      ]
    },
    {
      "cell_type": "code",
      "metadata": {
        "id": "Y66cdNiDUz6s"
      },
      "source": [
        "final_data['CC'] = Profile[0]\r\n",
        "final_data['VC'] = Profile[1]\r\n",
        "final_data['IPL'] = Profile[2]\r\n",
        "final_data['HA'] = Profile[3]\r\n",
        "final_data['SF'] = Profile[4]"
      ],
      "execution_count": null,
      "outputs": []
    },
    {
      "cell_type": "code",
      "metadata": {
        "id": "C_q2nbLfUzyr"
      },
      "source": [
        "data = final_data"
      ],
      "execution_count": null,
      "outputs": []
    },
    {
      "cell_type": "code",
      "metadata": {
        "colab": {
          "base_uri": "https://localhost:8080/",
          "height": 426
        },
        "id": "8mEdwbiWTpdC",
        "outputId": "9106ba73-b88f-474e-9a52-23453bbd28e2"
      },
      "source": [
        "data"
      ],
      "execution_count": null,
      "outputs": [
        {
          "output_type": "execute_result",
          "data": {
            "text/html": [
              "<div>\n",
              "<style scoped>\n",
              "    .dataframe tbody tr th:only-of-type {\n",
              "        vertical-align: middle;\n",
              "    }\n",
              "\n",
              "    .dataframe tbody tr th {\n",
              "        vertical-align: top;\n",
              "    }\n",
              "\n",
              "    .dataframe thead th {\n",
              "        text-align: right;\n",
              "    }\n",
              "</style>\n",
              "<table border=\"1\" class=\"dataframe\">\n",
              "  <thead>\n",
              "    <tr style=\"text-align: right;\">\n",
              "      <th></th>\n",
              "      <th>PS1</th>\n",
              "      <th>PS2</th>\n",
              "      <th>PS3</th>\n",
              "      <th>PS4</th>\n",
              "      <th>PS5</th>\n",
              "      <th>PS6</th>\n",
              "      <th>EPS1</th>\n",
              "      <th>FS1</th>\n",
              "      <th>FS2</th>\n",
              "      <th>TS1</th>\n",
              "      <th>TS2</th>\n",
              "      <th>TS3</th>\n",
              "      <th>TS4</th>\n",
              "      <th>VS1</th>\n",
              "      <th>CE</th>\n",
              "      <th>CP</th>\n",
              "      <th>SE</th>\n",
              "      <th>CC</th>\n",
              "      <th>VC</th>\n",
              "      <th>IPL</th>\n",
              "      <th>HA</th>\n",
              "      <th>SF</th>\n",
              "    </tr>\n",
              "  </thead>\n",
              "  <tbody>\n",
              "    <tr>\n",
              "      <th>0</th>\n",
              "      <td>160.673</td>\n",
              "      <td>109.467</td>\n",
              "      <td>1.991</td>\n",
              "      <td>0.000</td>\n",
              "      <td>9.842</td>\n",
              "      <td>9.728</td>\n",
              "      <td>2538.929</td>\n",
              "      <td>6.710</td>\n",
              "      <td>10.305</td>\n",
              "      <td>35.622</td>\n",
              "      <td>40.979</td>\n",
              "      <td>38.471</td>\n",
              "      <td>31.745</td>\n",
              "      <td>0.577</td>\n",
              "      <td>39.601</td>\n",
              "      <td>1.863</td>\n",
              "      <td>59.157</td>\n",
              "      <td>3</td>\n",
              "      <td>100</td>\n",
              "      <td>0</td>\n",
              "      <td>130</td>\n",
              "      <td>1</td>\n",
              "    </tr>\n",
              "    <tr>\n",
              "      <th>1</th>\n",
              "      <td>160.603</td>\n",
              "      <td>109.355</td>\n",
              "      <td>1.976</td>\n",
              "      <td>0.000</td>\n",
              "      <td>9.635</td>\n",
              "      <td>9.529</td>\n",
              "      <td>2531.499</td>\n",
              "      <td>6.715</td>\n",
              "      <td>10.403</td>\n",
              "      <td>36.677</td>\n",
              "      <td>41.533</td>\n",
              "      <td>38.979</td>\n",
              "      <td>34.494</td>\n",
              "      <td>0.566</td>\n",
              "      <td>25.786</td>\n",
              "      <td>1.256</td>\n",
              "      <td>59.336</td>\n",
              "      <td>3</td>\n",
              "      <td>100</td>\n",
              "      <td>0</td>\n",
              "      <td>130</td>\n",
              "      <td>1</td>\n",
              "    </tr>\n",
              "    <tr>\n",
              "      <th>2</th>\n",
              "      <td>160.348</td>\n",
              "      <td>109.159</td>\n",
              "      <td>1.972</td>\n",
              "      <td>0.000</td>\n",
              "      <td>9.531</td>\n",
              "      <td>9.428</td>\n",
              "      <td>2519.928</td>\n",
              "      <td>6.719</td>\n",
              "      <td>10.366</td>\n",
              "      <td>37.881</td>\n",
              "      <td>42.442</td>\n",
              "      <td>39.632</td>\n",
              "      <td>35.646</td>\n",
              "      <td>0.577</td>\n",
              "      <td>22.218</td>\n",
              "      <td>1.113</td>\n",
              "      <td>59.543</td>\n",
              "      <td>3</td>\n",
              "      <td>100</td>\n",
              "      <td>0</td>\n",
              "      <td>130</td>\n",
              "      <td>1</td>\n",
              "    </tr>\n",
              "    <tr>\n",
              "      <th>3</th>\n",
              "      <td>160.188</td>\n",
              "      <td>109.065</td>\n",
              "      <td>1.947</td>\n",
              "      <td>0.000</td>\n",
              "      <td>9.439</td>\n",
              "      <td>9.337</td>\n",
              "      <td>2511.542</td>\n",
              "      <td>6.721</td>\n",
              "      <td>10.303</td>\n",
              "      <td>38.879</td>\n",
              "      <td>43.404</td>\n",
              "      <td>40.403</td>\n",
              "      <td>36.579</td>\n",
              "      <td>0.569</td>\n",
              "      <td>20.460</td>\n",
              "      <td>1.062</td>\n",
              "      <td>59.795</td>\n",
              "      <td>3</td>\n",
              "      <td>100</td>\n",
              "      <td>0</td>\n",
              "      <td>130</td>\n",
              "      <td>1</td>\n",
              "    </tr>\n",
              "    <tr>\n",
              "      <th>4</th>\n",
              "      <td>160.000</td>\n",
              "      <td>108.931</td>\n",
              "      <td>1.923</td>\n",
              "      <td>0.000</td>\n",
              "      <td>9.359</td>\n",
              "      <td>9.261</td>\n",
              "      <td>2503.450</td>\n",
              "      <td>6.690</td>\n",
              "      <td>10.238</td>\n",
              "      <td>39.804</td>\n",
              "      <td>44.333</td>\n",
              "      <td>41.311</td>\n",
              "      <td>37.428</td>\n",
              "      <td>0.577</td>\n",
              "      <td>19.787</td>\n",
              "      <td>1.070</td>\n",
              "      <td>59.455</td>\n",
              "      <td>3</td>\n",
              "      <td>100</td>\n",
              "      <td>0</td>\n",
              "      <td>130</td>\n",
              "      <td>1</td>\n",
              "    </tr>\n",
              "    <tr>\n",
              "      <th>...</th>\n",
              "      <td>...</td>\n",
              "      <td>...</td>\n",
              "      <td>...</td>\n",
              "      <td>...</td>\n",
              "      <td>...</td>\n",
              "      <td>...</td>\n",
              "      <td>...</td>\n",
              "      <td>...</td>\n",
              "      <td>...</td>\n",
              "      <td>...</td>\n",
              "      <td>...</td>\n",
              "      <td>...</td>\n",
              "      <td>...</td>\n",
              "      <td>...</td>\n",
              "      <td>...</td>\n",
              "      <td>...</td>\n",
              "      <td>...</td>\n",
              "      <td>...</td>\n",
              "      <td>...</td>\n",
              "      <td>...</td>\n",
              "      <td>...</td>\n",
              "      <td>...</td>\n",
              "    </tr>\n",
              "    <tr>\n",
              "      <th>2200</th>\n",
              "      <td>161.228</td>\n",
              "      <td>109.780</td>\n",
              "      <td>2.001</td>\n",
              "      <td>10.202</td>\n",
              "      <td>9.972</td>\n",
              "      <td>9.850</td>\n",
              "      <td>2543.911</td>\n",
              "      <td>6.690</td>\n",
              "      <td>10.185</td>\n",
              "      <td>35.314</td>\n",
              "      <td>40.875</td>\n",
              "      <td>38.269</td>\n",
              "      <td>30.405</td>\n",
              "      <td>0.551</td>\n",
              "      <td>46.629</td>\n",
              "      <td>2.161</td>\n",
              "      <td>59.033</td>\n",
              "      <td>100</td>\n",
              "      <td>100</td>\n",
              "      <td>0</td>\n",
              "      <td>90</td>\n",
              "      <td>0</td>\n",
              "    </tr>\n",
              "    <tr>\n",
              "      <th>2201</th>\n",
              "      <td>161.206</td>\n",
              "      <td>109.787</td>\n",
              "      <td>1.999</td>\n",
              "      <td>10.198</td>\n",
              "      <td>9.966</td>\n",
              "      <td>9.845</td>\n",
              "      <td>2543.411</td>\n",
              "      <td>6.692</td>\n",
              "      <td>10.178</td>\n",
              "      <td>35.322</td>\n",
              "      <td>40.869</td>\n",
              "      <td>38.268</td>\n",
              "      <td>30.416</td>\n",
              "      <td>0.547</td>\n",
              "      <td>46.690</td>\n",
              "      <td>2.151</td>\n",
              "      <td>59.068</td>\n",
              "      <td>100</td>\n",
              "      <td>100</td>\n",
              "      <td>0</td>\n",
              "      <td>90</td>\n",
              "      <td>0</td>\n",
              "    </tr>\n",
              "    <tr>\n",
              "      <th>2202</th>\n",
              "      <td>161.192</td>\n",
              "      <td>109.756</td>\n",
              "      <td>1.993</td>\n",
              "      <td>10.197</td>\n",
              "      <td>9.964</td>\n",
              "      <td>9.843</td>\n",
              "      <td>2542.730</td>\n",
              "      <td>6.693</td>\n",
              "      <td>10.176</td>\n",
              "      <td>35.319</td>\n",
              "      <td>40.876</td>\n",
              "      <td>38.246</td>\n",
              "      <td>30.426</td>\n",
              "      <td>0.545</td>\n",
              "      <td>46.472</td>\n",
              "      <td>2.143</td>\n",
              "      <td>59.132</td>\n",
              "      <td>100</td>\n",
              "      <td>100</td>\n",
              "      <td>0</td>\n",
              "      <td>90</td>\n",
              "      <td>0</td>\n",
              "    </tr>\n",
              "    <tr>\n",
              "      <th>2203</th>\n",
              "      <td>161.209</td>\n",
              "      <td>109.794</td>\n",
              "      <td>2.007</td>\n",
              "      <td>10.199</td>\n",
              "      <td>9.968</td>\n",
              "      <td>9.847</td>\n",
              "      <td>2544.046</td>\n",
              "      <td>6.684</td>\n",
              "      <td>10.178</td>\n",
              "      <td>35.325</td>\n",
              "      <td>40.876</td>\n",
              "      <td>38.246</td>\n",
              "      <td>30.414</td>\n",
              "      <td>0.537</td>\n",
              "      <td>46.545</td>\n",
              "      <td>2.148</td>\n",
              "      <td>58.971</td>\n",
              "      <td>100</td>\n",
              "      <td>100</td>\n",
              "      <td>0</td>\n",
              "      <td>90</td>\n",
              "      <td>0</td>\n",
              "    </tr>\n",
              "    <tr>\n",
              "      <th>2204</th>\n",
              "      <td>161.217</td>\n",
              "      <td>109.792</td>\n",
              "      <td>2.003</td>\n",
              "      <td>10.203</td>\n",
              "      <td>9.974</td>\n",
              "      <td>9.852</td>\n",
              "      <td>2543.818</td>\n",
              "      <td>6.692</td>\n",
              "      <td>10.183</td>\n",
              "      <td>35.322</td>\n",
              "      <td>40.859</td>\n",
              "      <td>38.249</td>\n",
              "      <td>30.391</td>\n",
              "      <td>0.547</td>\n",
              "      <td>46.648</td>\n",
              "      <td>2.157</td>\n",
              "      <td>59.054</td>\n",
              "      <td>100</td>\n",
              "      <td>100</td>\n",
              "      <td>0</td>\n",
              "      <td>90</td>\n",
              "      <td>0</td>\n",
              "    </tr>\n",
              "  </tbody>\n",
              "</table>\n",
              "<p>2205 rows × 22 columns</p>\n",
              "</div>"
            ],
            "text/plain": [
              "          PS1      PS2    PS3     PS4    PS5  ...   CC   VC  IPL   HA  SF\n",
              "0     160.673  109.467  1.991   0.000  9.842  ...    3  100    0  130   1\n",
              "1     160.603  109.355  1.976   0.000  9.635  ...    3  100    0  130   1\n",
              "2     160.348  109.159  1.972   0.000  9.531  ...    3  100    0  130   1\n",
              "3     160.188  109.065  1.947   0.000  9.439  ...    3  100    0  130   1\n",
              "4     160.000  108.931  1.923   0.000  9.359  ...    3  100    0  130   1\n",
              "...       ...      ...    ...     ...    ...  ...  ...  ...  ...  ...  ..\n",
              "2200  161.228  109.780  2.001  10.202  9.972  ...  100  100    0   90   0\n",
              "2201  161.206  109.787  1.999  10.198  9.966  ...  100  100    0   90   0\n",
              "2202  161.192  109.756  1.993  10.197  9.964  ...  100  100    0   90   0\n",
              "2203  161.209  109.794  2.007  10.199  9.968  ...  100  100    0   90   0\n",
              "2204  161.217  109.792  2.003  10.203  9.974  ...  100  100    0   90   0\n",
              "\n",
              "[2205 rows x 22 columns]"
            ]
          },
          "metadata": {
            "tags": []
          },
          "execution_count": 22
        }
      ]
    },
    {
      "cell_type": "markdown",
      "metadata": {
        "id": "qGkCdsIino0Y"
      },
      "source": [
        "Export final data"
      ]
    },
    {
      "cell_type": "code",
      "metadata": {
        "id": "3nWSINJJl-Gd"
      },
      "source": [
        "data.to_csv('Hydraulic_dataset.csv') #export final data"
      ],
      "execution_count": null,
      "outputs": []
    },
    {
      "cell_type": "markdown",
      "metadata": {
        "id": "Bej1o14Dnst9"
      },
      "source": [
        "#Data Preparing for training"
      ]
    },
    {
      "cell_type": "code",
      "metadata": {
        "id": "yL__KB_12-jP"
      },
      "source": [
        "data = pd.read_csv('/content/drive/MyDrive/data/Hydraulic_dataset.csv').iloc[:,1:]"
      ],
      "execution_count": null,
      "outputs": []
    },
    {
      "cell_type": "code",
      "metadata": {
        "colab": {
          "base_uri": "https://localhost:8080/",
          "height": 406
        },
        "id": "ugKzDjS_mGIC",
        "outputId": "51592682-5752-4941-e3bd-059eb2a47394"
      },
      "source": [
        "data"
      ],
      "execution_count": null,
      "outputs": [
        {
          "output_type": "execute_result",
          "data": {
            "text/html": [
              "<div>\n",
              "<style scoped>\n",
              "    .dataframe tbody tr th:only-of-type {\n",
              "        vertical-align: middle;\n",
              "    }\n",
              "\n",
              "    .dataframe tbody tr th {\n",
              "        vertical-align: top;\n",
              "    }\n",
              "\n",
              "    .dataframe thead th {\n",
              "        text-align: right;\n",
              "    }\n",
              "</style>\n",
              "<table border=\"1\" class=\"dataframe\">\n",
              "  <thead>\n",
              "    <tr style=\"text-align: right;\">\n",
              "      <th></th>\n",
              "      <th>PS1</th>\n",
              "      <th>PS2</th>\n",
              "      <th>PS3</th>\n",
              "      <th>PS4</th>\n",
              "      <th>PS5</th>\n",
              "      <th>PS6</th>\n",
              "      <th>EPS1</th>\n",
              "      <th>FS1</th>\n",
              "      <th>FS2</th>\n",
              "      <th>TS1</th>\n",
              "      <th>TS2</th>\n",
              "      <th>TS3</th>\n",
              "      <th>TS4</th>\n",
              "      <th>VS1</th>\n",
              "      <th>CE</th>\n",
              "      <th>CP</th>\n",
              "      <th>SE</th>\n",
              "      <th>CC</th>\n",
              "      <th>VC</th>\n",
              "      <th>IPL</th>\n",
              "      <th>HA</th>\n",
              "      <th>SF</th>\n",
              "    </tr>\n",
              "  </thead>\n",
              "  <tbody>\n",
              "    <tr>\n",
              "      <th>0</th>\n",
              "      <td>160.673</td>\n",
              "      <td>109.467</td>\n",
              "      <td>1.991</td>\n",
              "      <td>0.000</td>\n",
              "      <td>9.842</td>\n",
              "      <td>9.728</td>\n",
              "      <td>2538.929</td>\n",
              "      <td>6.710</td>\n",
              "      <td>10.305</td>\n",
              "      <td>35.622</td>\n",
              "      <td>40.979</td>\n",
              "      <td>38.471</td>\n",
              "      <td>31.745</td>\n",
              "      <td>0.577</td>\n",
              "      <td>39.601</td>\n",
              "      <td>1.863</td>\n",
              "      <td>59.157</td>\n",
              "      <td>3</td>\n",
              "      <td>100</td>\n",
              "      <td>0</td>\n",
              "      <td>130</td>\n",
              "      <td>1</td>\n",
              "    </tr>\n",
              "    <tr>\n",
              "      <th>1</th>\n",
              "      <td>160.603</td>\n",
              "      <td>109.355</td>\n",
              "      <td>1.976</td>\n",
              "      <td>0.000</td>\n",
              "      <td>9.635</td>\n",
              "      <td>9.529</td>\n",
              "      <td>2531.499</td>\n",
              "      <td>6.715</td>\n",
              "      <td>10.403</td>\n",
              "      <td>36.677</td>\n",
              "      <td>41.533</td>\n",
              "      <td>38.979</td>\n",
              "      <td>34.494</td>\n",
              "      <td>0.566</td>\n",
              "      <td>25.786</td>\n",
              "      <td>1.256</td>\n",
              "      <td>59.336</td>\n",
              "      <td>3</td>\n",
              "      <td>100</td>\n",
              "      <td>0</td>\n",
              "      <td>130</td>\n",
              "      <td>1</td>\n",
              "    </tr>\n",
              "    <tr>\n",
              "      <th>2</th>\n",
              "      <td>160.348</td>\n",
              "      <td>109.159</td>\n",
              "      <td>1.972</td>\n",
              "      <td>0.000</td>\n",
              "      <td>9.531</td>\n",
              "      <td>9.428</td>\n",
              "      <td>2519.928</td>\n",
              "      <td>6.719</td>\n",
              "      <td>10.366</td>\n",
              "      <td>37.881</td>\n",
              "      <td>42.442</td>\n",
              "      <td>39.632</td>\n",
              "      <td>35.646</td>\n",
              "      <td>0.577</td>\n",
              "      <td>22.218</td>\n",
              "      <td>1.113</td>\n",
              "      <td>59.543</td>\n",
              "      <td>3</td>\n",
              "      <td>100</td>\n",
              "      <td>0</td>\n",
              "      <td>130</td>\n",
              "      <td>1</td>\n",
              "    </tr>\n",
              "    <tr>\n",
              "      <th>3</th>\n",
              "      <td>160.188</td>\n",
              "      <td>109.065</td>\n",
              "      <td>1.947</td>\n",
              "      <td>0.000</td>\n",
              "      <td>9.439</td>\n",
              "      <td>9.337</td>\n",
              "      <td>2511.542</td>\n",
              "      <td>6.721</td>\n",
              "      <td>10.303</td>\n",
              "      <td>38.879</td>\n",
              "      <td>43.404</td>\n",
              "      <td>40.403</td>\n",
              "      <td>36.579</td>\n",
              "      <td>0.569</td>\n",
              "      <td>20.460</td>\n",
              "      <td>1.062</td>\n",
              "      <td>59.795</td>\n",
              "      <td>3</td>\n",
              "      <td>100</td>\n",
              "      <td>0</td>\n",
              "      <td>130</td>\n",
              "      <td>1</td>\n",
              "    </tr>\n",
              "    <tr>\n",
              "      <th>4</th>\n",
              "      <td>160.000</td>\n",
              "      <td>108.931</td>\n",
              "      <td>1.923</td>\n",
              "      <td>0.000</td>\n",
              "      <td>9.359</td>\n",
              "      <td>9.261</td>\n",
              "      <td>2503.450</td>\n",
              "      <td>6.690</td>\n",
              "      <td>10.238</td>\n",
              "      <td>39.804</td>\n",
              "      <td>44.333</td>\n",
              "      <td>41.311</td>\n",
              "      <td>37.428</td>\n",
              "      <td>0.577</td>\n",
              "      <td>19.787</td>\n",
              "      <td>1.070</td>\n",
              "      <td>59.455</td>\n",
              "      <td>3</td>\n",
              "      <td>100</td>\n",
              "      <td>0</td>\n",
              "      <td>130</td>\n",
              "      <td>1</td>\n",
              "    </tr>\n",
              "    <tr>\n",
              "      <th>...</th>\n",
              "      <td>...</td>\n",
              "      <td>...</td>\n",
              "      <td>...</td>\n",
              "      <td>...</td>\n",
              "      <td>...</td>\n",
              "      <td>...</td>\n",
              "      <td>...</td>\n",
              "      <td>...</td>\n",
              "      <td>...</td>\n",
              "      <td>...</td>\n",
              "      <td>...</td>\n",
              "      <td>...</td>\n",
              "      <td>...</td>\n",
              "      <td>...</td>\n",
              "      <td>...</td>\n",
              "      <td>...</td>\n",
              "      <td>...</td>\n",
              "      <td>...</td>\n",
              "      <td>...</td>\n",
              "      <td>...</td>\n",
              "      <td>...</td>\n",
              "      <td>...</td>\n",
              "    </tr>\n",
              "    <tr>\n",
              "      <th>2200</th>\n",
              "      <td>161.228</td>\n",
              "      <td>109.780</td>\n",
              "      <td>2.001</td>\n",
              "      <td>10.202</td>\n",
              "      <td>9.972</td>\n",
              "      <td>9.850</td>\n",
              "      <td>2543.911</td>\n",
              "      <td>6.690</td>\n",
              "      <td>10.185</td>\n",
              "      <td>35.314</td>\n",
              "      <td>40.875</td>\n",
              "      <td>38.269</td>\n",
              "      <td>30.405</td>\n",
              "      <td>0.551</td>\n",
              "      <td>46.629</td>\n",
              "      <td>2.161</td>\n",
              "      <td>59.033</td>\n",
              "      <td>100</td>\n",
              "      <td>100</td>\n",
              "      <td>0</td>\n",
              "      <td>90</td>\n",
              "      <td>0</td>\n",
              "    </tr>\n",
              "    <tr>\n",
              "      <th>2201</th>\n",
              "      <td>161.206</td>\n",
              "      <td>109.787</td>\n",
              "      <td>1.999</td>\n",
              "      <td>10.198</td>\n",
              "      <td>9.966</td>\n",
              "      <td>9.845</td>\n",
              "      <td>2543.411</td>\n",
              "      <td>6.692</td>\n",
              "      <td>10.178</td>\n",
              "      <td>35.322</td>\n",
              "      <td>40.869</td>\n",
              "      <td>38.268</td>\n",
              "      <td>30.416</td>\n",
              "      <td>0.547</td>\n",
              "      <td>46.690</td>\n",
              "      <td>2.151</td>\n",
              "      <td>59.068</td>\n",
              "      <td>100</td>\n",
              "      <td>100</td>\n",
              "      <td>0</td>\n",
              "      <td>90</td>\n",
              "      <td>0</td>\n",
              "    </tr>\n",
              "    <tr>\n",
              "      <th>2202</th>\n",
              "      <td>161.192</td>\n",
              "      <td>109.756</td>\n",
              "      <td>1.993</td>\n",
              "      <td>10.197</td>\n",
              "      <td>9.964</td>\n",
              "      <td>9.843</td>\n",
              "      <td>2542.730</td>\n",
              "      <td>6.693</td>\n",
              "      <td>10.176</td>\n",
              "      <td>35.319</td>\n",
              "      <td>40.876</td>\n",
              "      <td>38.246</td>\n",
              "      <td>30.426</td>\n",
              "      <td>0.545</td>\n",
              "      <td>46.472</td>\n",
              "      <td>2.143</td>\n",
              "      <td>59.132</td>\n",
              "      <td>100</td>\n",
              "      <td>100</td>\n",
              "      <td>0</td>\n",
              "      <td>90</td>\n",
              "      <td>0</td>\n",
              "    </tr>\n",
              "    <tr>\n",
              "      <th>2203</th>\n",
              "      <td>161.209</td>\n",
              "      <td>109.794</td>\n",
              "      <td>2.007</td>\n",
              "      <td>10.199</td>\n",
              "      <td>9.968</td>\n",
              "      <td>9.847</td>\n",
              "      <td>2544.046</td>\n",
              "      <td>6.684</td>\n",
              "      <td>10.178</td>\n",
              "      <td>35.325</td>\n",
              "      <td>40.876</td>\n",
              "      <td>38.246</td>\n",
              "      <td>30.414</td>\n",
              "      <td>0.537</td>\n",
              "      <td>46.545</td>\n",
              "      <td>2.148</td>\n",
              "      <td>58.971</td>\n",
              "      <td>100</td>\n",
              "      <td>100</td>\n",
              "      <td>0</td>\n",
              "      <td>90</td>\n",
              "      <td>0</td>\n",
              "    </tr>\n",
              "    <tr>\n",
              "      <th>2204</th>\n",
              "      <td>161.217</td>\n",
              "      <td>109.792</td>\n",
              "      <td>2.003</td>\n",
              "      <td>10.203</td>\n",
              "      <td>9.974</td>\n",
              "      <td>9.852</td>\n",
              "      <td>2543.818</td>\n",
              "      <td>6.692</td>\n",
              "      <td>10.183</td>\n",
              "      <td>35.322</td>\n",
              "      <td>40.859</td>\n",
              "      <td>38.249</td>\n",
              "      <td>30.391</td>\n",
              "      <td>0.547</td>\n",
              "      <td>46.648</td>\n",
              "      <td>2.157</td>\n",
              "      <td>59.054</td>\n",
              "      <td>100</td>\n",
              "      <td>100</td>\n",
              "      <td>0</td>\n",
              "      <td>90</td>\n",
              "      <td>0</td>\n",
              "    </tr>\n",
              "  </tbody>\n",
              "</table>\n",
              "<p>2205 rows × 22 columns</p>\n",
              "</div>"
            ],
            "text/plain": [
              "          PS1      PS2    PS3     PS4    PS5  ...   CC   VC  IPL   HA  SF\n",
              "0     160.673  109.467  1.991   0.000  9.842  ...    3  100    0  130   1\n",
              "1     160.603  109.355  1.976   0.000  9.635  ...    3  100    0  130   1\n",
              "2     160.348  109.159  1.972   0.000  9.531  ...    3  100    0  130   1\n",
              "3     160.188  109.065  1.947   0.000  9.439  ...    3  100    0  130   1\n",
              "4     160.000  108.931  1.923   0.000  9.359  ...    3  100    0  130   1\n",
              "...       ...      ...    ...     ...    ...  ...  ...  ...  ...  ...  ..\n",
              "2200  161.228  109.780  2.001  10.202  9.972  ...  100  100    0   90   0\n",
              "2201  161.206  109.787  1.999  10.198  9.966  ...  100  100    0   90   0\n",
              "2202  161.192  109.756  1.993  10.197  9.964  ...  100  100    0   90   0\n",
              "2203  161.209  109.794  2.007  10.199  9.968  ...  100  100    0   90   0\n",
              "2204  161.217  109.792  2.003  10.203  9.974  ...  100  100    0   90   0\n",
              "\n",
              "[2205 rows x 22 columns]"
            ]
          },
          "metadata": {
            "tags": []
          },
          "execution_count": 4
        }
      ]
    },
    {
      "cell_type": "code",
      "metadata": {
        "colab": {
          "base_uri": "https://localhost:8080/",
          "height": 854
        },
        "id": "v7iUe4vlncKx",
        "outputId": "e2621d6a-cc5c-4737-e2ee-c462bce99c70"
      },
      "source": [
        "data.hist(bins=50, figsize=(25,15));"
      ],
      "execution_count": null,
      "outputs": [
        {
          "output_type": "display_data",
          "data": {
            "image/png": "[encoded data removed]",
            "text/plain": [
              "<Figure size 1800x1080 with 25 Axes>"
            ]
          },
          "metadata": {
            "tags": [],
            "needs_background": "light"
          }
        }
      ]
    },
    {
      "cell_type": "markdown",
      "metadata": {
        "id": "JaaP8n404ON_"
      },
      "source": [
        "##Dependent Varible CC"
      ]
    },
    {
      "cell_type": "code",
      "metadata": {
        "id": "AKfLabEWn5eg"
      },
      "source": [
        "X = data.iloc[:,:17].values\r\n",
        "y = data.iloc[:,-5].values"
      ],
      "execution_count": null,
      "outputs": []
    },
    {
      "cell_type": "code",
      "metadata": {
        "colab": {
          "base_uri": "https://localhost:8080/"
        },
        "id": "UbeQhbv6oRte",
        "outputId": "c57d7688-5fb5-487e-8403-ed33dc5b6739"
      },
      "source": [
        "X"
      ],
      "execution_count": null,
      "outputs": [
        {
          "output_type": "execute_result",
          "data": {
            "text/plain": [
              "array([[160.673, 109.467,   1.991, ...,  39.601,   1.863,  59.157],\n",
              "       [160.603, 109.355,   1.976, ...,  25.786,   1.256,  59.336],\n",
              "       [160.348, 109.159,   1.972, ...,  22.218,   1.113,  59.543],\n",
              "       ...,\n",
              "       [161.192, 109.756,   1.993, ...,  46.472,   2.143,  59.132],\n",
              "       [161.209, 109.794,   2.007, ...,  46.545,   2.148,  58.971],\n",
              "       [161.217, 109.792,   2.003, ...,  46.648,   2.157,  59.054]])"
            ]
          },
          "metadata": {
            "tags": []
          },
          "execution_count": 7
        }
      ]
    },
    {
      "cell_type": "code",
      "metadata": {
        "colab": {
          "base_uri": "https://localhost:8080/"
        },
        "id": "hIn8bxFlobal",
        "outputId": "54008e3b-3713-4878-f347-cf65768b5af8"
      },
      "source": [
        "y"
      ],
      "execution_count": null,
      "outputs": [
        {
          "output_type": "execute_result",
          "data": {
            "text/plain": [
              "array([  3,   3,   3, ..., 100, 100, 100])"
            ]
          },
          "metadata": {
            "tags": []
          },
          "execution_count": 8
        }
      ]
    },
    {
      "cell_type": "code",
      "metadata": {
        "id": "-hHlvZFAoiA3"
      },
      "source": [
        "from sklearn.model_selection import train_test_split\r\n",
        "X_train, X_test, y_train, y_test = train_test_split(X, y, test_size = 0.2 , random_state = 10)"
      ],
      "execution_count": null,
      "outputs": []
    },
    {
      "cell_type": "markdown",
      "metadata": {
        "id": "IpLobY5e6gX1"
      },
      "source": [
        "LogisticRegression"
      ]
    },
    {
      "cell_type": "code",
      "metadata": {
        "id": "JTpI7xOMqr_6"
      },
      "source": [
        "from sklearn.pipeline import Pipeline\r\n",
        "from sklearn.preprocessing import StandardScaler\r\n",
        "from sklearn.linear_model import LogisticRegression\r\n",
        "\r\n",
        "pipeline_lr = Pipeline([('Scaleing',StandardScaler()),\r\n",
        "                        ('lr_classifer',LogisticRegression(random_state = 0))])"
      ],
      "execution_count": null,
      "outputs": []
    },
    {
      "cell_type": "code",
      "metadata": {
        "colab": {
          "base_uri": "https://localhost:8080/"
        },
        "id": "7bvL04mks3Xa",
        "outputId": "a3829f26-d7bf-4c5f-8de3-e6d5120a9c12"
      },
      "source": [
        "pipeline_lr.fit(X_train,y_train)"
      ],
      "execution_count": null,
      "outputs": [
        {
          "output_type": "execute_result",
          "data": {
            "text/plain": [
              "Pipeline(memory=None,\n",
              "         steps=[('Scaleing',\n",
              "                 StandardScaler(copy=True, with_mean=True, with_std=True)),\n",
              "                ('lr_classifer',\n",
              "                 LogisticRegression(C=1.0, class_weight=None, dual=False,\n",
              "                                    fit_intercept=True, intercept_scaling=1,\n",
              "                                    l1_ratio=None, max_iter=100,\n",
              "                                    multi_class='auto', n_jobs=None,\n",
              "                                    penalty='l2', random_state=0,\n",
              "                                    solver='lbfgs', tol=0.0001, verbose=0,\n",
              "                                    warm_start=False))],\n",
              "         verbose=False)"
            ]
          },
          "metadata": {
            "tags": []
          },
          "execution_count": 11
        }
      ]
    },
    {
      "cell_type": "code",
      "metadata": {
        "id": "Qe6YiVsHuVJj"
      },
      "source": [
        "y_pred = pipeline_lr.predict(X_test)\r\n",
        "print(np.concatenate((y_pred.reshape(len(y_pred),1), y_test.reshape(len(y_test),1)),1))"
      ],
      "execution_count": null,
      "outputs": []
    },
    {
      "cell_type": "code",
      "metadata": {
        "colab": {
          "base_uri": "https://localhost:8080/"
        },
        "id": "7elK47K3xq52",
        "outputId": "1699c74b-943a-48ca-833a-360611fde0f2"
      },
      "source": [
        "from sklearn.metrics import confusion_matrix, accuracy_score\r\n",
        "cm = confusion_matrix(y_test, y_pred)\r\n",
        "print(cm)\r\n",
        "accuracy_score(y_test, y_pred)"
      ],
      "execution_count": null,
      "outputs": [
        {
          "output_type": "stream",
          "text": [
            "[[142   1   0]\n",
            " [  1 147   0]\n",
            " [  0   0 150]]\n"
          ],
          "name": "stdout"
        },
        {
          "output_type": "execute_result",
          "data": {
            "text/plain": [
              "0.9954648526077098"
            ]
          },
          "metadata": {
            "tags": []
          },
          "execution_count": 13
        }
      ]
    },
    {
      "cell_type": "code",
      "metadata": {
        "id": "qHAS5Vqjy8Mr"
      },
      "source": [
        "from sklearn.model_selection import cross_val_score\r\n",
        "def scores(reg, independent, dependent):\r\n",
        "  scores = cross_val_score(reg, independent, dependent,\r\n",
        "                           scoring = 'neg_mean_squared_error',cv = 10)\r\n",
        "  scores = np.sqrt(-scores)\r\n",
        "  print(\"Scores:\", scores)\r\n",
        "  print(\"Mean:\", scores.mean())\r\n",
        "  print(\"Standard deviation:\", scores.std())"
      ],
      "execution_count": null,
      "outputs": []
    },
    {
      "cell_type": "code",
      "metadata": {
        "colab": {
          "base_uri": "https://localhost:8080/"
        },
        "id": "zO7P83af4vcH",
        "outputId": "ddbe298b-9400-4abf-fa43-b4ef1981c0a9"
      },
      "source": [
        "scores(pipeline_lr,X_train,y_train)"
      ],
      "execution_count": null,
      "outputs": [
        {
          "output_type": "stream",
          "text": [
            "Scores: [0.         0.         6.01316822 0.         0.         0.\n",
            " 7.31165011 0.         1.28142321 0.        ]\n",
            "Mean: 1.4606241544488894\n",
            "Standard deviation: 2.644356927725016\n"
          ],
          "name": "stdout"
        }
      ]
    },
    {
      "cell_type": "code",
      "metadata": {
        "id": "6ZhojuoN47q8"
      },
      "source": [
        ""
      ],
      "execution_count": null,
      "outputs": []
    },
    {
      "cell_type": "markdown",
      "metadata": {
        "id": "YCwT_3az-ESc"
      },
      "source": [
        "DecisionTreeClassifier"
      ]
    },
    {
      "cell_type": "code",
      "metadata": {
        "id": "iiLaFV4p-xW8"
      },
      "source": [
        "from sklearn.tree import DecisionTreeClassifier\r\n",
        "pipeline_dt = Pipeline([('Scaleing',StandardScaler()),\r\n",
        "                        ('Dictree_classifer',DecisionTreeClassifier(random_state = 0,criterion = 'entropy'))])"
      ],
      "execution_count": null,
      "outputs": []
    },
    {
      "cell_type": "code",
      "metadata": {
        "colab": {
          "base_uri": "https://localhost:8080/"
        },
        "id": "TtS6HtMw_pZi",
        "outputId": "26343f78-b2eb-4fd9-ac54-9010aa13552d"
      },
      "source": [
        "pipeline_dt.fit(X_train,y_train)"
      ],
      "execution_count": null,
      "outputs": [
        {
          "output_type": "execute_result",
          "data": {
            "text/plain": [
              "Pipeline(memory=None,\n",
              "         steps=[('Scaleing',\n",
              "                 StandardScaler(copy=True, with_mean=True, with_std=True)),\n",
              "                ('Dictree_classifer',\n",
              "                 DecisionTreeClassifier(ccp_alpha=0.0, class_weight=None,\n",
              "                                        criterion='entropy', max_depth=None,\n",
              "                                        max_features=None, max_leaf_nodes=None,\n",
              "                                        min_impurity_decrease=0.0,\n",
              "                                        min_impurity_split=None,\n",
              "                                        min_samples_leaf=1, min_samples_split=2,\n",
              "                                        min_weight_fraction_leaf=0.0,\n",
              "                                        presort='deprecated', random_state=0,\n",
              "                                        splitter='best'))],\n",
              "         verbose=False)"
            ]
          },
          "metadata": {
            "tags": []
          },
          "execution_count": 17
        }
      ]
    },
    {
      "cell_type": "code",
      "metadata": {
        "colab": {
          "base_uri": "https://localhost:8080/"
        },
        "id": "oHyZb8Uq_yAF",
        "outputId": "7cd9d8f6-1985-42fb-e5bf-b42a8450f0dd"
      },
      "source": [
        "y_pred_cc = pipeline_dt.predict(X_test)\r\n",
        "from sklearn.metrics import confusion_matrix, accuracy_score\r\n",
        "cm = confusion_matrix(y_test, y_pred_cc)\r\n",
        "print(cm)\r\n",
        "accuracy_score(y_test, y_pred_cc)"
      ],
      "execution_count": null,
      "outputs": [
        {
          "output_type": "stream",
          "text": [
            "[[143   0   0]\n",
            " [  0 148   0]\n",
            " [  0   0 150]]\n"
          ],
          "name": "stdout"
        },
        {
          "output_type": "execute_result",
          "data": {
            "text/plain": [
              "1.0"
            ]
          },
          "metadata": {
            "tags": []
          },
          "execution_count": 18
        }
      ]
    },
    {
      "cell_type": "code",
      "metadata": {
        "colab": {
          "base_uri": "https://localhost:8080/"
        },
        "id": "CUumX3qzALbC",
        "outputId": "466f9c7b-8d06-468a-b31a-26c039c3e494"
      },
      "source": [
        "scores(pipeline_dt,X_train,y_train)"
      ],
      "execution_count": null,
      "outputs": [
        {
          "output_type": "stream",
          "text": [
            "Scores: [0.         0.         6.01316822 0.         0.         0.\n",
            " 7.31165011 0.         0.         0.        ]\n",
            "Mean: 1.3324818330033399\n",
            "Standard deviation: 2.6807338735928887\n"
          ],
          "name": "stdout"
        }
      ]
    },
    {
      "cell_type": "code",
      "metadata": {
        "id": "4V_z1MbQAQPh"
      },
      "source": [
        ""
      ],
      "execution_count": null,
      "outputs": []
    },
    {
      "cell_type": "markdown",
      "metadata": {
        "id": "6PLqfUpXGclu"
      },
      "source": [
        "RandomForestClassifier"
      ]
    },
    {
      "cell_type": "code",
      "metadata": {
        "id": "833DQU3BAV3G"
      },
      "source": [
        "from sklearn.ensemble import RandomForestClassifier\r\n",
        "pipeline_rf = Pipeline([('Scaleing',StandardScaler()),\r\n",
        "                        ('Dictree_classifer',RandomForestClassifier(random_state = 0,criterion = 'entropy'))])"
      ],
      "execution_count": null,
      "outputs": []
    },
    {
      "cell_type": "code",
      "metadata": {
        "colab": {
          "base_uri": "https://localhost:8080/"
        },
        "id": "bSUeyFSmuyX_",
        "outputId": "89851083-dfb2-42f0-8ee4-21aabb73ddcc"
      },
      "source": [
        "pipeline_rf.fit(X_train,y_train)"
      ],
      "execution_count": null,
      "outputs": [
        {
          "output_type": "execute_result",
          "data": {
            "text/plain": [
              "Pipeline(memory=None,\n",
              "         steps=[('Scaleing',\n",
              "                 StandardScaler(copy=True, with_mean=True, with_std=True)),\n",
              "                ('Dictree_classifer',\n",
              "                 RandomForestClassifier(bootstrap=True, ccp_alpha=0.0,\n",
              "                                        class_weight=None, criterion='entropy',\n",
              "                                        max_depth=None, max_features='auto',\n",
              "                                        max_leaf_nodes=None, max_samples=None,\n",
              "                                        min_impurity_decrease=0.0,\n",
              "                                        min_impurity_split=None,\n",
              "                                        min_samples_leaf=1, min_samples_split=2,\n",
              "                                        min_weight_fraction_leaf=0.0,\n",
              "                                        n_estimators=100, n_jobs=None,\n",
              "                                        oob_score=False, random_state=0,\n",
              "                                        verbose=0, warm_start=False))],\n",
              "         verbose=False)"
            ]
          },
          "metadata": {
            "tags": []
          },
          "execution_count": 21
        }
      ]
    },
    {
      "cell_type": "code",
      "metadata": {
        "colab": {
          "base_uri": "https://localhost:8080/"
        },
        "id": "-Al7wYUsvFmp",
        "outputId": "a87d1fe9-0f69-49ef-a73b-76d878bb26f2"
      },
      "source": [
        "y_pred_ = pipeline_rf.predict(X_test)\r\n",
        "from sklearn.metrics import confusion_matrix, accuracy_score\r\n",
        "cm = confusion_matrix(y_test, y_pred)\r\n",
        "print(cm)\r\n",
        "accuracy_score(y_test, y_pred)"
      ],
      "execution_count": null,
      "outputs": [
        {
          "output_type": "stream",
          "text": [
            "[[142   1   0]\n",
            " [  1 147   0]\n",
            " [  0   0 150]]\n"
          ],
          "name": "stdout"
        },
        {
          "output_type": "execute_result",
          "data": {
            "text/plain": [
              "0.9954648526077098"
            ]
          },
          "metadata": {
            "tags": []
          },
          "execution_count": 22
        }
      ]
    },
    {
      "cell_type": "code",
      "metadata": {
        "colab": {
          "base_uri": "https://localhost:8080/"
        },
        "id": "riwyRJ0QvMco",
        "outputId": "cc4a0d08-7cbd-46dc-d7b7-7c7be0753537"
      },
      "source": [
        "scores(pipeline_rf,X_train,y_train)"
      ],
      "execution_count": null,
      "outputs": [
        {
          "output_type": "stream",
          "text": [
            "Scores: [0.         0.         6.01316822 0.         0.         0.\n",
            " 7.31165011 0.         0.         0.        ]\n",
            "Mean: 1.3324818330033399\n",
            "Standard deviation: 2.6807338735928887\n"
          ],
          "name": "stdout"
        }
      ]
    },
    {
      "cell_type": "code",
      "metadata": {
        "id": "EGpHmH4YvW6E"
      },
      "source": [
        ""
      ],
      "execution_count": null,
      "outputs": []
    },
    {
      "cell_type": "markdown",
      "metadata": {
        "id": "tNjXZyFswPlS"
      },
      "source": [
        "KNN"
      ]
    },
    {
      "cell_type": "code",
      "metadata": {
        "id": "8U-48BcTvgmb"
      },
      "source": [
        "from sklearn.neighbors import KNeighborsClassifier\r\n",
        "pipeline_knn = Pipeline([('Scaleing',StandardScaler()),\r\n",
        "                        ('Dictree_classifer',KNeighborsClassifier(n_neighbors = 5, metric = 'minkowski', p = 2))])"
      ],
      "execution_count": null,
      "outputs": []
    },
    {
      "cell_type": "code",
      "metadata": {
        "colab": {
          "base_uri": "https://localhost:8080/"
        },
        "id": "3Dgc6WqcwmXM",
        "outputId": "1f05e804-7ed7-45af-cf1d-a8e3a23cfcb8"
      },
      "source": [
        "pipeline_knn.fit(X_train,y_train)"
      ],
      "execution_count": null,
      "outputs": [
        {
          "output_type": "execute_result",
          "data": {
            "text/plain": [
              "Pipeline(memory=None,\n",
              "         steps=[('Scaleing',\n",
              "                 StandardScaler(copy=True, with_mean=True, with_std=True)),\n",
              "                ('Dictree_classifer',\n",
              "                 KNeighborsClassifier(algorithm='auto', leaf_size=30,\n",
              "                                      metric='minkowski', metric_params=None,\n",
              "                                      n_jobs=None, n_neighbors=5, p=2,\n",
              "                                      weights='uniform'))],\n",
              "         verbose=False)"
            ]
          },
          "metadata": {
            "tags": []
          },
          "execution_count": 25
        }
      ]
    },
    {
      "cell_type": "code",
      "metadata": {
        "colab": {
          "base_uri": "https://localhost:8080/"
        },
        "id": "ChUgtBMNwver",
        "outputId": "66d4d416-1a42-4ed4-8c83-9bfffa30a45c"
      },
      "source": [
        "y_pred = pipeline_knn.predict(X_test)\r\n",
        "from sklearn.metrics import confusion_matrix, accuracy_score\r\n",
        "cm = confusion_matrix(y_test, y_pred)\r\n",
        "print(cm)\r\n",
        "accuracy_score(y_test, y_pred)"
      ],
      "execution_count": null,
      "outputs": [
        {
          "output_type": "stream",
          "text": [
            "[[143   0   0]\n",
            " [  1 147   0]\n",
            " [  0   0 150]]\n"
          ],
          "name": "stdout"
        },
        {
          "output_type": "execute_result",
          "data": {
            "text/plain": [
              "0.9977324263038548"
            ]
          },
          "metadata": {
            "tags": []
          },
          "execution_count": 26
        }
      ]
    },
    {
      "cell_type": "code",
      "metadata": {
        "colab": {
          "base_uri": "https://localhost:8080/"
        },
        "id": "-hvQ2J73w2CX",
        "outputId": "74a50159-16dd-4766-e284-9e62f51502d6"
      },
      "source": [
        "scores(pipeline_knn,X_train,y_train)"
      ],
      "execution_count": null,
      "outputs": [
        {
          "output_type": "stream",
          "text": [
            "Scores: [0.         0.         6.01316822 0.         0.         0.\n",
            " 7.31165011 0.         0.         0.        ]\n",
            "Mean: 1.3324818330033399\n",
            "Standard deviation: 2.6807338735928887\n"
          ],
          "name": "stdout"
        }
      ]
    },
    {
      "cell_type": "code",
      "metadata": {
        "id": "bvAZraNGw6m_"
      },
      "source": [
        ""
      ],
      "execution_count": null,
      "outputs": []
    },
    {
      "cell_type": "markdown",
      "metadata": {
        "id": "0tGFg8hCx4dN"
      },
      "source": [
        "SVM"
      ]
    },
    {
      "cell_type": "code",
      "metadata": {
        "id": "HyQMk_sDyXw2"
      },
      "source": [
        "from sklearn.svm import SVC\r\n",
        "pipeline_svc = Pipeline([('Scaleing',StandardScaler()),\r\n",
        "                        ('Dictree_classifer',SVC(kernel = 'linear', random_state = 0))])"
      ],
      "execution_count": null,
      "outputs": []
    },
    {
      "cell_type": "code",
      "metadata": {
        "colab": {
          "base_uri": "https://localhost:8080/"
        },
        "id": "aKYXq7e1yjXl",
        "outputId": "4ed2a178-00b0-424e-c6fe-24786dbef4c2"
      },
      "source": [
        "pipeline_svc.fit(X_train,y_train)"
      ],
      "execution_count": null,
      "outputs": [
        {
          "output_type": "execute_result",
          "data": {
            "text/plain": [
              "Pipeline(memory=None,\n",
              "         steps=[('Scaleing',\n",
              "                 StandardScaler(copy=True, with_mean=True, with_std=True)),\n",
              "                ('Dictree_classifer',\n",
              "                 SVC(C=1.0, break_ties=False, cache_size=200, class_weight=None,\n",
              "                     coef0=0.0, decision_function_shape='ovr', degree=3,\n",
              "                     gamma='scale', kernel='linear', max_iter=-1,\n",
              "                     probability=False, random_state=0, shrinking=True,\n",
              "                     tol=0.001, verbose=False))],\n",
              "         verbose=False)"
            ]
          },
          "metadata": {
            "tags": []
          },
          "execution_count": 29
        }
      ]
    },
    {
      "cell_type": "code",
      "metadata": {
        "colab": {
          "base_uri": "https://localhost:8080/"
        },
        "id": "4thmDcHeykPq",
        "outputId": "4730bb79-746c-401a-d34f-ad8262fe8c4b"
      },
      "source": [
        "y_pred = pipeline_svc.predict(X_test)\r\n",
        "from sklearn.metrics import confusion_matrix, accuracy_score\r\n",
        "cm = confusion_matrix(y_test, y_pred)\r\n",
        "print(cm)\r\n",
        "accuracy_score(y_test, y_pred)"
      ],
      "execution_count": null,
      "outputs": [
        {
          "output_type": "stream",
          "text": [
            "[[142   1   0]\n",
            " [  1 147   0]\n",
            " [  0   0 150]]\n"
          ],
          "name": "stdout"
        },
        {
          "output_type": "execute_result",
          "data": {
            "text/plain": [
              "0.9954648526077098"
            ]
          },
          "metadata": {
            "tags": []
          },
          "execution_count": 30
        }
      ]
    },
    {
      "cell_type": "code",
      "metadata": {
        "colab": {
          "base_uri": "https://localhost:8080/"
        },
        "id": "eQ6LfCvVyoy5",
        "outputId": "61962fa2-8a97-4123-92fe-bae274415ebf"
      },
      "source": [
        "scores(pipeline_svc,X_train,y_train)"
      ],
      "execution_count": null,
      "outputs": [
        {
          "output_type": "stream",
          "text": [
            "Scores: [0.         0.         6.01316822 0.         0.         0.\n",
            " 7.31165011 0.         0.         0.        ]\n",
            "Mean: 1.3324818330033399\n",
            "Standard deviation: 2.6807338735928887\n"
          ],
          "name": "stdout"
        }
      ]
    },
    {
      "cell_type": "code",
      "metadata": {
        "id": "kNZf8IPey1DO"
      },
      "source": [
        ""
      ],
      "execution_count": null,
      "outputs": []
    },
    {
      "cell_type": "markdown",
      "metadata": {
        "id": "kpTObGNIy9hE"
      },
      "source": [
        "Naive base"
      ]
    },
    {
      "cell_type": "code",
      "metadata": {
        "id": "xLPCBeqLzOcd"
      },
      "source": [
        ""
      ],
      "execution_count": null,
      "outputs": []
    },
    {
      "cell_type": "code",
      "metadata": {
        "id": "wDS6ngTxzAG-"
      },
      "source": [
        "from sklearn.naive_bayes import GaussianNB\r\n",
        "pipeline_nd = Pipeline([('Scaleing',StandardScaler()),\r\n",
        "                        ('Dictree_classifer',GaussianNB())])"
      ],
      "execution_count": null,
      "outputs": []
    },
    {
      "cell_type": "code",
      "metadata": {
        "colab": {
          "base_uri": "https://localhost:8080/"
        },
        "id": "xuWfOIBKz8FY",
        "outputId": "062c159a-8327-485c-ff3a-984e950162f0"
      },
      "source": [
        "pipeline_nd.fit(X_train,y_train)"
      ],
      "execution_count": null,
      "outputs": [
        {
          "output_type": "execute_result",
          "data": {
            "text/plain": [
              "Pipeline(memory=None,\n",
              "         steps=[('Scaleing',\n",
              "                 StandardScaler(copy=True, with_mean=True, with_std=True)),\n",
              "                ('Dictree_classifer',\n",
              "                 GaussianNB(priors=None, var_smoothing=1e-09))],\n",
              "         verbose=False)"
            ]
          },
          "metadata": {
            "tags": []
          },
          "execution_count": 33
        }
      ]
    },
    {
      "cell_type": "code",
      "metadata": {
        "colab": {
          "base_uri": "https://localhost:8080/"
        },
        "id": "9GX8Ym_F0CDQ",
        "outputId": "3eb076a7-0ca1-4f72-ec64-c7392af5dfa2"
      },
      "source": [
        "y_pred = pipeline_nd.predict(X_test)\r\n",
        "from sklearn.metrics import confusion_matrix, accuracy_score\r\n",
        "cm = confusion_matrix(y_test, y_pred)\r\n",
        "print(cm)\r\n",
        "accuracy_score(y_test, y_pred)"
      ],
      "execution_count": null,
      "outputs": [
        {
          "output_type": "stream",
          "text": [
            "[[143   0   0]\n",
            " [  2 146   0]\n",
            " [  1   0 149]]\n"
          ],
          "name": "stdout"
        },
        {
          "output_type": "execute_result",
          "data": {
            "text/plain": [
              "0.9931972789115646"
            ]
          },
          "metadata": {
            "tags": []
          },
          "execution_count": 34
        }
      ]
    },
    {
      "cell_type": "code",
      "metadata": {
        "colab": {
          "base_uri": "https://localhost:8080/"
        },
        "id": "AY5WSaO50HPg",
        "outputId": "2f1f961e-8022-48cb-93d0-b48be5d03eca"
      },
      "source": [
        "scores(pipeline_nd,X_train,y_train)"
      ],
      "execution_count": null,
      "outputs": [
        {
          "output_type": "stream",
          "text": [
            "Scores: [1.27779825 1.27779825 6.14743527 0.         1.28142321 0.\n",
            " 7.31165011 1.28142321 1.28142321 1.28142321]\n",
            "Mean: 2.1140374733364284\n",
            "Standard deviation: 2.3747286556434952\n"
          ],
          "name": "stdout"
        }
      ]
    },
    {
      "cell_type": "code",
      "metadata": {
        "id": "xz3Jjzqm0T9a"
      },
      "source": [
        ""
      ],
      "execution_count": null,
      "outputs": []
    },
    {
      "cell_type": "markdown",
      "metadata": {
        "id": "ZO1XtbHL1Jps"
      },
      "source": [
        "So, We get best result in Decision Tree"
      ]
    },
    {
      "cell_type": "code",
      "metadata": {
        "id": "E8epUt2e4Xb7"
      },
      "source": [
        "#y_pred_cc"
      ],
      "execution_count": null,
      "outputs": []
    },
    {
      "cell_type": "markdown",
      "metadata": {
        "id": "ufP8Qo4d4VSe"
      },
      "source": [
        "##Dependent Varible VC"
      ]
    },
    {
      "cell_type": "code",
      "metadata": {
        "id": "vPTW7rc43APa"
      },
      "source": [
        "X = data.iloc[:,:17].values\r\n",
        "y = data.iloc[:,-4].values"
      ],
      "execution_count": null,
      "outputs": []
    },
    {
      "cell_type": "code",
      "metadata": {
        "colab": {
          "base_uri": "https://localhost:8080/"
        },
        "id": "piaYak8t5MW1",
        "outputId": "66e09e74-3ca0-4006-917d-a0292bce02c6"
      },
      "source": [
        "y"
      ],
      "execution_count": null,
      "outputs": [
        {
          "output_type": "execute_result",
          "data": {
            "text/plain": [
              "array([100, 100, 100, ..., 100, 100, 100])"
            ]
          },
          "metadata": {
            "tags": []
          },
          "execution_count": 38
        }
      ]
    },
    {
      "cell_type": "code",
      "metadata": {
        "id": "iBEsBHgP8guV"
      },
      "source": [
        "from sklearn.model_selection import train_test_split\r\n",
        "X_train, X_test, y_train, y_test = train_test_split(X, y, test_size = 0.2 , random_state = 10 )"
      ],
      "execution_count": null,
      "outputs": []
    },
    {
      "cell_type": "code",
      "metadata": {
        "id": "n634u1Hf6QYJ"
      },
      "source": [
        "pipeline_lr = Pipeline([('Scaleing',StandardScaler()),\r\n",
        "                        ('lr_classifer',LogisticRegression(random_state = 0))])\r\n",
        "pipeline_dt = Pipeline([('Scaleing',StandardScaler()),\r\n",
        "                        ('Dictree_classifer',DecisionTreeClassifier(random_state = 0,criterion = 'entropy'))])\r\n",
        "pipeline_rf = Pipeline([('Scaleing',StandardScaler()),\r\n",
        "                        ('Dictree_classifer',RandomForestClassifier(random_state = 0,criterion = 'entropy'))])\r\n",
        "pipeline_knn = Pipeline([('Scaleing',StandardScaler()),\r\n",
        "                        ('Dictree_classifer',KNeighborsClassifier(n_neighbors = 5, metric = 'minkowski', p = 2))])\r\n",
        "pipeline_svc = Pipeline([('Scaleing',StandardScaler()),\r\n",
        "                        ('Dictree_classifer',SVC(kernel = 'linear', random_state = 0))])\r\n",
        "pipeline_nd = Pipeline([('Scaleing',StandardScaler()),\r\n",
        "                        ('Dictree_classifer',GaussianNB())])"
      ],
      "execution_count": null,
      "outputs": []
    },
    {
      "cell_type": "code",
      "metadata": {
        "id": "c5A8Mj9G8Acz"
      },
      "source": [
        "full_pipeline = [pipeline_lr,pipeline_dt,pipeline_rf,pipeline_knn,pipeline_svc,pipeline_nd]\r\n",
        "\r\n",
        "for i in full_pipeline:\r\n",
        "  i.fit(X_train,y_train)"
      ],
      "execution_count": null,
      "outputs": []
    },
    {
      "cell_type": "code",
      "metadata": {
        "colab": {
          "base_uri": "https://localhost:8080/"
        },
        "id": "xz4y6y-D8lxI",
        "outputId": "af274e8c-30b5-4b4c-b335-adbf8ecd4789"
      },
      "source": [
        "full_pipeline_str = ['Logistic regression','dession tree','random forest','KNN','SVM','Navie bayse']\r\n",
        "\r\n",
        "from sklearn.metrics import confusion_matrix, accuracy_score\r\n",
        "for i,j in zip(full_pipeline,full_pipeline_str):\r\n",
        "  y_pred = i.predict(X_test)\r\n",
        "  print(j,':-')\r\n",
        "  scores(i,X_train,y_train)\r\n",
        "  cm = confusion_matrix(y_test, y_pred)\r\n",
        "  print(cm)\r\n",
        "  print('Accuracy: ',accuracy_score(y_test, y_pred))\r\n",
        "  print(\"\\n\\n\")"
      ],
      "execution_count": null,
      "outputs": [
        {
          "output_type": "stream",
          "text": [
            "Logistic regression :-\n",
            "Scores: [6.72124551 6.43919846 6.75771164 6.84452026 7.25744132 7.33608764\n",
            " 6.58338128 7.52080448 6.54486266 6.47898701]\n",
            "Mean: 6.848424027709148\n",
            "Standard deviation: 0.36714727213841475\n",
            "[[ 69   2   0   0]\n",
            " [ 18  18   0  25]\n",
            " [  1   2  11  51]\n",
            " [  2   0   7 235]]\n",
            "Accuracy:  0.7551020408163265\n",
            "\n",
            "\n",
            "\n",
            "dession tree :-\n",
            "Scores: [3.42638483 3.05227525 3.65534977 1.67736678 3.62049093 1.91732532\n",
            " 2.48518337 2.32207783 2.42383993 3.32774152]\n",
            "Mean: 2.7908035513827447\n",
            "Standard deviation: 0.6816839559216629\n",
            "[[ 67   1   2   1]\n",
            " [  3  54   2   2]\n",
            " [  1   4  58   2]\n",
            " [  0   3   7 234]]\n",
            "Accuracy:  0.9365079365079365\n",
            "\n",
            "\n",
            "\n",
            "random forest :-\n",
            "Scores: [3.23819019 2.93719571 3.03370892 0.         2.55507516 2.58711844\n",
            " 1.68549966 2.06017431 1.99145904 2.41562151]\n",
            "Mean: 2.25040429356513\n",
            "Standard deviation: 0.8821079231750384\n",
            "[[ 70   1   0   0]\n",
            " [  1  60   0   0]\n",
            " [  1   1  61   2]\n",
            " [  1   0   4 239]]\n",
            "Accuracy:  0.9750566893424036\n",
            "\n",
            "\n",
            "\n",
            "KNN :-\n",
            "Scores: [4.88222881 6.32321523 5.36940485 4.88454267 6.42615395 4.79523912\n",
            " 6.15795863 4.53145572 6.22540616 5.42772763]\n",
            "Mean: 5.502333276874526\n",
            "Standard deviation: 0.686439141584372\n",
            "[[ 66   3   1   1]\n",
            " [  6  45   8   2]\n",
            " [  3  11  43   8]\n",
            " [  4   7  21 212]]\n",
            "Accuracy:  0.8299319727891157\n",
            "\n",
            "\n",
            "\n",
            "SVM :-\n",
            "Scores: [4.11693485 4.47655537 4.53361581 4.21659353 4.48925485 4.63190516\n",
            " 4.63619652 4.35237657 5.32788548 4.19415177]\n",
            "Mean: 4.497546991813431\n",
            "Standard deviation: 0.3264156453560245\n",
            "[[ 69   2   0   0]\n",
            " [  1  60   0   0]\n",
            " [  0   6   0  59]\n",
            " [  1   1   0 242]]\n",
            "Accuracy:  0.8412698412698413\n",
            "\n",
            "\n",
            "\n",
            "Navie bayse :-\n",
            "Scores: [14.3426589  12.87510627 14.31604528 13.67334824 14.4153091  14.75346646\n",
            " 13.85804656 14.54401626 13.83362997 13.80155624]\n",
            "Mean: 14.041318329294873\n",
            "Standard deviation: 0.5191985860052389\n",
            "[[  9   0   0  62]\n",
            " [  7   0   0  54]\n",
            " [  9   0   0  56]\n",
            " [ 13   0   0 231]]\n",
            "Accuracy:  0.54421768707483\n",
            "\n",
            "\n",
            "\n"
          ],
          "name": "stdout"
        }
      ]
    },
    {
      "cell_type": "markdown",
      "metadata": {
        "id": "OOK1gf7oA2br"
      },
      "source": [
        "here we get best result in Random Forest"
      ]
    },
    {
      "cell_type": "code",
      "metadata": {
        "id": "zAUufBcj-n_r"
      },
      "source": [
        "y_pred_vc = pipeline_rf.predict(X_test)"
      ],
      "execution_count": null,
      "outputs": []
    },
    {
      "cell_type": "markdown",
      "metadata": {
        "id": "-2OPBg4XBhN2"
      },
      "source": [
        "##Dependent Varible IPL"
      ]
    },
    {
      "cell_type": "code",
      "metadata": {
        "id": "xHAGG7mPBjHH"
      },
      "source": [
        ""
      ],
      "execution_count": null,
      "outputs": []
    },
    {
      "cell_type": "code",
      "metadata": {
        "id": "JAgqX0DCBjng"
      },
      "source": [
        "X = data.iloc[:,:17].values\r\n",
        "y = data.iloc[:,-3].values"
      ],
      "execution_count": null,
      "outputs": []
    },
    {
      "cell_type": "code",
      "metadata": {
        "colab": {
          "base_uri": "https://localhost:8080/"
        },
        "id": "1m1Xz4u8CDnE",
        "outputId": "788bccf4-6bbf-4f27-d2b9-131812f70161"
      },
      "source": [
        "y"
      ],
      "execution_count": null,
      "outputs": [
        {
          "output_type": "execute_result",
          "data": {
            "text/plain": [
              "array([0, 0, 0, ..., 0, 0, 0])"
            ]
          },
          "metadata": {
            "tags": []
          },
          "execution_count": 45
        }
      ]
    },
    {
      "cell_type": "code",
      "metadata": {
        "id": "DNyY7sBXCEPh"
      },
      "source": [
        "from sklearn.model_selection import train_test_split\r\n",
        "X_train, X_test, y_train, y_test = train_test_split(X, y, test_size = 0.2 , random_state = 10 )"
      ],
      "execution_count": null,
      "outputs": []
    },
    {
      "cell_type": "code",
      "metadata": {
        "id": "CYY2OkyWCIFq"
      },
      "source": [
        "full_pipeline = [pipeline_lr,pipeline_dt,pipeline_rf,pipeline_knn,pipeline_svc,pipeline_nd]\r\n",
        "\r\n",
        "for i in full_pipeline:\r\n",
        "  i.fit(X_train,y_train)"
      ],
      "execution_count": null,
      "outputs": []
    },
    {
      "cell_type": "code",
      "metadata": {
        "colab": {
          "base_uri": "https://localhost:8080/"
        },
        "id": "mNivLfFSCOaq",
        "outputId": "d463f726-062a-49aa-906f-d394203b222b"
      },
      "source": [
        "full_pipeline_str = ['Logistic regression','dession tree','random forest','KNN','SVM','Navie bayse']\r\n",
        "\r\n",
        "from sklearn.metrics import confusion_matrix, accuracy_score\r\n",
        "for i,j in zip(full_pipeline,full_pipeline_str):\r\n",
        "  y_pred = i.predict(X_test)\r\n",
        "  print(j,':-')\r\n",
        "  scores(i,X_train,y_train)\r\n",
        "  cm = confusion_matrix(y_test, y_pred)\r\n",
        "  print(cm)\r\n",
        "  print('Accuracy: ',accuracy_score(y_test, y_pred))\r\n",
        "  print(\"\\n\\n\")"
      ],
      "execution_count": null,
      "outputs": [
        {
          "output_type": "stream",
          "text": [
            "Logistic regression :-\n",
            "Scores: [0.1062988  0.13018891 0.16807316 0.13018891 0.         0.15075567\n",
            " 0.07537784 0.13055824 0.13055824 0.10660036]\n",
            "Mean: 0.1128600134560073\n",
            "Standard deviation: 0.044649902210812\n",
            "[[265   2   0]\n",
            " [  0  76   4]\n",
            " [  0   1  93]]\n",
            "Accuracy:  0.9841269841269841\n",
            "\n",
            "\n",
            "\n",
            "dession tree :-\n",
            "Scores: [0.0751646  0.         0.0751646  0.13018891 0.10660036 0.13055824\n",
            " 0.10660036 0.18463724 0.13055824 0.10660036]\n",
            "Mean: 0.1046072911517351\n",
            "Standard deviation: 0.045928706951437186\n",
            "[[267   0   0]\n",
            " [  0  80   0]\n",
            " [  0   3  91]]\n",
            "Accuracy:  0.9931972789115646\n",
            "\n",
            "\n",
            "\n",
            "random forest :-\n",
            "Scores: [0.15032921 0.0751646  0.15032921 0.0751646  0.10660036 0.07537784\n",
            " 0.10660036 0.18463724 0.07537784 0.10660036]\n",
            "Mean: 0.11061816000929939\n",
            "Standard deviation: 0.03698493808061311\n",
            "[[267   0   0]\n",
            " [  0  80   0]\n",
            " [  0   1  93]]\n",
            "Accuracy:  0.9977324263038548\n",
            "\n",
            "\n",
            "\n",
            "KNN :-\n",
            "Scores: [0.1062988  0.15032921 0.15032921 0.0751646  0.15075567 0.10660036\n",
            " 0.13055824 0.18463724 0.10660036 0.15075567]\n",
            "Mean: 0.13120293540611078\n",
            "Standard deviation: 0.03053354201816142\n",
            "[[267   0   0]\n",
            " [  0  80   0]\n",
            " [  2   4  88]]\n",
            "Accuracy:  0.9863945578231292\n",
            "\n",
            "\n",
            "\n",
            "SVM :-\n",
            "Scores: [0.0751646  0.0751646  0.13018891 0.         0.         0.\n",
            " 0.07537784 0.         0.07537784 0.        ]\n",
            "Mean: 0.04312737888702715\n",
            "Standard deviation: 0.04583941081384651\n",
            "[[267   0   0]\n",
            " [  0  80   0]\n",
            " [  0   1  93]]\n",
            "Accuracy:  0.9977324263038548\n",
            "\n",
            "\n",
            "\n",
            "Navie bayse :-\n",
            "Scores: [0.94778958 0.98002652 0.95963741 0.9742446  0.98569311 0.96824584\n",
            " 0.97409632 0.94448158 1.02524942 0.94448158]\n",
            "Mean: 0.9703945946168451\n",
            "Standard deviation: 0.02310559431813073\n",
            "[[264   0   3]\n",
            " [ 68   0  12]\n",
            " [ 72   0  22]]\n",
            "Accuracy:  0.6485260770975056\n",
            "\n",
            "\n",
            "\n"
          ],
          "name": "stdout"
        }
      ]
    },
    {
      "cell_type": "markdown",
      "metadata": {
        "id": "e7q-XXfoE6KH"
      },
      "source": [
        "here we get best result in Random Forest"
      ]
    },
    {
      "cell_type": "code",
      "metadata": {
        "id": "_Q8aB03tFCdh"
      },
      "source": [
        "y_pred_ipl = pipeline_rf.predict(X_test)"
      ],
      "execution_count": null,
      "outputs": []
    },
    {
      "cell_type": "markdown",
      "metadata": {
        "id": "tZmvnTsbLMoZ"
      },
      "source": [
        "##Dependent Varible HA"
      ]
    },
    {
      "cell_type": "code",
      "metadata": {
        "id": "fap_omCULcOo"
      },
      "source": [
        "X = data.iloc[:,:17].values\r\n",
        "y = data.iloc[:,-2].values"
      ],
      "execution_count": null,
      "outputs": []
    },
    {
      "cell_type": "code",
      "metadata": {
        "colab": {
          "base_uri": "https://localhost:8080/"
        },
        "id": "HDktQaznLkVO",
        "outputId": "361e8801-dad0-4f4c-c65f-de8ed6070ddc"
      },
      "source": [
        "y"
      ],
      "execution_count": null,
      "outputs": [
        {
          "output_type": "execute_result",
          "data": {
            "text/plain": [
              "array([130, 130, 130, ...,  90,  90,  90])"
            ]
          },
          "metadata": {
            "tags": []
          },
          "execution_count": 51
        }
      ]
    },
    {
      "cell_type": "code",
      "metadata": {
        "id": "UJjZDTxDLk3v"
      },
      "source": [
        "from sklearn.model_selection import train_test_split\r\n",
        "X_train, X_test, y_train, y_test = train_test_split(X, y, test_size = 0.2 , random_state = 10 )"
      ],
      "execution_count": null,
      "outputs": []
    },
    {
      "cell_type": "code",
      "metadata": {
        "id": "uRU5BSXaLpfc"
      },
      "source": [
        "full_pipeline = [pipeline_lr,pipeline_dt,pipeline_rf,pipeline_knn,pipeline_svc,pipeline_nd]\r\n",
        "\r\n",
        "for i in full_pipeline:\r\n",
        "  i.fit(X_train,y_train)"
      ],
      "execution_count": null,
      "outputs": []
    },
    {
      "cell_type": "code",
      "metadata": {
        "id": "poysYvz1Ltha"
      },
      "source": [
        "full_pipeline_str = ['Logistic regression','dession tree','random forest','KNN','SVM','Navie bayse']\r\n",
        "\r\n",
        "from sklearn.metrics import confusion_matrix, accuracy_score\r\n",
        "for i,j in zip(full_pipeline,full_pipeline_str):\r\n",
        "  y_pred = i.predict(X_test)\r\n",
        "  print(j,':-')\r\n",
        "  scores(i,X_train,y_train)\r\n",
        "  cm = confusion_matrix(y_test, y_pred)\r\n",
        "  print(cm)\r\n",
        "  print('Accuracy: ',accuracy_score(y_test, y_pred))\r\n",
        "  print(\"\\n\\n\")"
      ],
      "execution_count": null,
      "outputs": []
    },
    {
      "cell_type": "markdown",
      "metadata": {
        "id": "V_Gt5-v1Mjbp"
      },
      "source": [
        "here we get best result in Random forest"
      ]
    },
    {
      "cell_type": "code",
      "metadata": {
        "id": "SlBZby6aLw_s"
      },
      "source": [
        "y_pred_ha = pipeline_rf.predict(X_test)"
      ],
      "execution_count": null,
      "outputs": []
    },
    {
      "cell_type": "markdown",
      "metadata": {
        "id": "F96-GmhTNbYa"
      },
      "source": [
        "#dependent variable dataframe"
      ]
    },
    {
      "cell_type": "code",
      "metadata": {
        "colab": {
          "base_uri": "https://localhost:8080/",
          "height": 406
        },
        "id": "aYPidz8SOGM0",
        "outputId": "3370cb84-f700-42a3-dace-52e923c377fd"
      },
      "source": [
        "data"
      ],
      "execution_count": null,
      "outputs": [
        {
          "output_type": "execute_result",
          "data": {
            "text/html": [
              "<div>\n",
              "<style scoped>\n",
              "    .dataframe tbody tr th:only-of-type {\n",
              "        vertical-align: middle;\n",
              "    }\n",
              "\n",
              "    .dataframe tbody tr th {\n",
              "        vertical-align: top;\n",
              "    }\n",
              "\n",
              "    .dataframe thead th {\n",
              "        text-align: right;\n",
              "    }\n",
              "</style>\n",
              "<table border=\"1\" class=\"dataframe\">\n",
              "  <thead>\n",
              "    <tr style=\"text-align: right;\">\n",
              "      <th></th>\n",
              "      <th>PS1</th>\n",
              "      <th>PS2</th>\n",
              "      <th>PS3</th>\n",
              "      <th>PS4</th>\n",
              "      <th>PS5</th>\n",
              "      <th>PS6</th>\n",
              "      <th>EPS1</th>\n",
              "      <th>FS1</th>\n",
              "      <th>FS2</th>\n",
              "      <th>TS1</th>\n",
              "      <th>TS2</th>\n",
              "      <th>TS3</th>\n",
              "      <th>TS4</th>\n",
              "      <th>VS1</th>\n",
              "      <th>CE</th>\n",
              "      <th>CP</th>\n",
              "      <th>SE</th>\n",
              "      <th>CC</th>\n",
              "      <th>VC</th>\n",
              "      <th>IPL</th>\n",
              "      <th>HA</th>\n",
              "      <th>SF</th>\n",
              "    </tr>\n",
              "  </thead>\n",
              "  <tbody>\n",
              "    <tr>\n",
              "      <th>0</th>\n",
              "      <td>160.673</td>\n",
              "      <td>109.467</td>\n",
              "      <td>1.991</td>\n",
              "      <td>0.000</td>\n",
              "      <td>9.842</td>\n",
              "      <td>9.728</td>\n",
              "      <td>2538.929</td>\n",
              "      <td>6.710</td>\n",
              "      <td>10.305</td>\n",
              "      <td>35.622</td>\n",
              "      <td>40.979</td>\n",
              "      <td>38.471</td>\n",
              "      <td>31.745</td>\n",
              "      <td>0.577</td>\n",
              "      <td>39.601</td>\n",
              "      <td>1.863</td>\n",
              "      <td>59.157</td>\n",
              "      <td>3</td>\n",
              "      <td>100</td>\n",
              "      <td>0</td>\n",
              "      <td>130</td>\n",
              "      <td>1</td>\n",
              "    </tr>\n",
              "    <tr>\n",
              "      <th>1</th>\n",
              "      <td>160.603</td>\n",
              "      <td>109.355</td>\n",
              "      <td>1.976</td>\n",
              "      <td>0.000</td>\n",
              "      <td>9.635</td>\n",
              "      <td>9.529</td>\n",
              "      <td>2531.499</td>\n",
              "      <td>6.715</td>\n",
              "      <td>10.403</td>\n",
              "      <td>36.677</td>\n",
              "      <td>41.533</td>\n",
              "      <td>38.979</td>\n",
              "      <td>34.494</td>\n",
              "      <td>0.566</td>\n",
              "      <td>25.786</td>\n",
              "      <td>1.256</td>\n",
              "      <td>59.336</td>\n",
              "      <td>3</td>\n",
              "      <td>100</td>\n",
              "      <td>0</td>\n",
              "      <td>130</td>\n",
              "      <td>1</td>\n",
              "    </tr>\n",
              "    <tr>\n",
              "      <th>2</th>\n",
              "      <td>160.348</td>\n",
              "      <td>109.159</td>\n",
              "      <td>1.972</td>\n",
              "      <td>0.000</td>\n",
              "      <td>9.531</td>\n",
              "      <td>9.428</td>\n",
              "      <td>2519.928</td>\n",
              "      <td>6.719</td>\n",
              "      <td>10.366</td>\n",
              "      <td>37.881</td>\n",
              "      <td>42.442</td>\n",
              "      <td>39.632</td>\n",
              "      <td>35.646</td>\n",
              "      <td>0.577</td>\n",
              "      <td>22.218</td>\n",
              "      <td>1.113</td>\n",
              "      <td>59.543</td>\n",
              "      <td>3</td>\n",
              "      <td>100</td>\n",
              "      <td>0</td>\n",
              "      <td>130</td>\n",
              "      <td>1</td>\n",
              "    </tr>\n",
              "    <tr>\n",
              "      <th>3</th>\n",
              "      <td>160.188</td>\n",
              "      <td>109.065</td>\n",
              "      <td>1.947</td>\n",
              "      <td>0.000</td>\n",
              "      <td>9.439</td>\n",
              "      <td>9.337</td>\n",
              "      <td>2511.542</td>\n",
              "      <td>6.721</td>\n",
              "      <td>10.303</td>\n",
              "      <td>38.879</td>\n",
              "      <td>43.404</td>\n",
              "      <td>40.403</td>\n",
              "      <td>36.579</td>\n",
              "      <td>0.569</td>\n",
              "      <td>20.460</td>\n",
              "      <td>1.062</td>\n",
              "      <td>59.795</td>\n",
              "      <td>3</td>\n",
              "      <td>100</td>\n",
              "      <td>0</td>\n",
              "      <td>130</td>\n",
              "      <td>1</td>\n",
              "    </tr>\n",
              "    <tr>\n",
              "      <th>4</th>\n",
              "      <td>160.000</td>\n",
              "      <td>108.931</td>\n",
              "      <td>1.923</td>\n",
              "      <td>0.000</td>\n",
              "      <td>9.359</td>\n",
              "      <td>9.261</td>\n",
              "      <td>2503.450</td>\n",
              "      <td>6.690</td>\n",
              "      <td>10.238</td>\n",
              "      <td>39.804</td>\n",
              "      <td>44.333</td>\n",
              "      <td>41.311</td>\n",
              "      <td>37.428</td>\n",
              "      <td>0.577</td>\n",
              "      <td>19.787</td>\n",
              "      <td>1.070</td>\n",
              "      <td>59.455</td>\n",
              "      <td>3</td>\n",
              "      <td>100</td>\n",
              "      <td>0</td>\n",
              "      <td>130</td>\n",
              "      <td>1</td>\n",
              "    </tr>\n",
              "    <tr>\n",
              "      <th>...</th>\n",
              "      <td>...</td>\n",
              "      <td>...</td>\n",
              "      <td>...</td>\n",
              "      <td>...</td>\n",
              "      <td>...</td>\n",
              "      <td>...</td>\n",
              "      <td>...</td>\n",
              "      <td>...</td>\n",
              "      <td>...</td>\n",
              "      <td>...</td>\n",
              "      <td>...</td>\n",
              "      <td>...</td>\n",
              "      <td>...</td>\n",
              "      <td>...</td>\n",
              "      <td>...</td>\n",
              "      <td>...</td>\n",
              "      <td>...</td>\n",
              "      <td>...</td>\n",
              "      <td>...</td>\n",
              "      <td>...</td>\n",
              "      <td>...</td>\n",
              "      <td>...</td>\n",
              "    </tr>\n",
              "    <tr>\n",
              "      <th>2200</th>\n",
              "      <td>161.228</td>\n",
              "      <td>109.780</td>\n",
              "      <td>2.001</td>\n",
              "      <td>10.202</td>\n",
              "      <td>9.972</td>\n",
              "      <td>9.850</td>\n",
              "      <td>2543.911</td>\n",
              "      <td>6.690</td>\n",
              "      <td>10.185</td>\n",
              "      <td>35.314</td>\n",
              "      <td>40.875</td>\n",
              "      <td>38.269</td>\n",
              "      <td>30.405</td>\n",
              "      <td>0.551</td>\n",
              "      <td>46.629</td>\n",
              "      <td>2.161</td>\n",
              "      <td>59.033</td>\n",
              "      <td>100</td>\n",
              "      <td>100</td>\n",
              "      <td>0</td>\n",
              "      <td>90</td>\n",
              "      <td>0</td>\n",
              "    </tr>\n",
              "    <tr>\n",
              "      <th>2201</th>\n",
              "      <td>161.206</td>\n",
              "      <td>109.787</td>\n",
              "      <td>1.999</td>\n",
              "      <td>10.198</td>\n",
              "      <td>9.966</td>\n",
              "      <td>9.845</td>\n",
              "      <td>2543.411</td>\n",
              "      <td>6.692</td>\n",
              "      <td>10.178</td>\n",
              "      <td>35.322</td>\n",
              "      <td>40.869</td>\n",
              "      <td>38.268</td>\n",
              "      <td>30.416</td>\n",
              "      <td>0.547</td>\n",
              "      <td>46.690</td>\n",
              "      <td>2.151</td>\n",
              "      <td>59.068</td>\n",
              "      <td>100</td>\n",
              "      <td>100</td>\n",
              "      <td>0</td>\n",
              "      <td>90</td>\n",
              "      <td>0</td>\n",
              "    </tr>\n",
              "    <tr>\n",
              "      <th>2202</th>\n",
              "      <td>161.192</td>\n",
              "      <td>109.756</td>\n",
              "      <td>1.993</td>\n",
              "      <td>10.197</td>\n",
              "      <td>9.964</td>\n",
              "      <td>9.843</td>\n",
              "      <td>2542.730</td>\n",
              "      <td>6.693</td>\n",
              "      <td>10.176</td>\n",
              "      <td>35.319</td>\n",
              "      <td>40.876</td>\n",
              "      <td>38.246</td>\n",
              "      <td>30.426</td>\n",
              "      <td>0.545</td>\n",
              "      <td>46.472</td>\n",
              "      <td>2.143</td>\n",
              "      <td>59.132</td>\n",
              "      <td>100</td>\n",
              "      <td>100</td>\n",
              "      <td>0</td>\n",
              "      <td>90</td>\n",
              "      <td>0</td>\n",
              "    </tr>\n",
              "    <tr>\n",
              "      <th>2203</th>\n",
              "      <td>161.209</td>\n",
              "      <td>109.794</td>\n",
              "      <td>2.007</td>\n",
              "      <td>10.199</td>\n",
              "      <td>9.968</td>\n",
              "      <td>9.847</td>\n",
              "      <td>2544.046</td>\n",
              "      <td>6.684</td>\n",
              "      <td>10.178</td>\n",
              "      <td>35.325</td>\n",
              "      <td>40.876</td>\n",
              "      <td>38.246</td>\n",
              "      <td>30.414</td>\n",
              "      <td>0.537</td>\n",
              "      <td>46.545</td>\n",
              "      <td>2.148</td>\n",
              "      <td>58.971</td>\n",
              "      <td>100</td>\n",
              "      <td>100</td>\n",
              "      <td>0</td>\n",
              "      <td>90</td>\n",
              "      <td>0</td>\n",
              "    </tr>\n",
              "    <tr>\n",
              "      <th>2204</th>\n",
              "      <td>161.217</td>\n",
              "      <td>109.792</td>\n",
              "      <td>2.003</td>\n",
              "      <td>10.203</td>\n",
              "      <td>9.974</td>\n",
              "      <td>9.852</td>\n",
              "      <td>2543.818</td>\n",
              "      <td>6.692</td>\n",
              "      <td>10.183</td>\n",
              "      <td>35.322</td>\n",
              "      <td>40.859</td>\n",
              "      <td>38.249</td>\n",
              "      <td>30.391</td>\n",
              "      <td>0.547</td>\n",
              "      <td>46.648</td>\n",
              "      <td>2.157</td>\n",
              "      <td>59.054</td>\n",
              "      <td>100</td>\n",
              "      <td>100</td>\n",
              "      <td>0</td>\n",
              "      <td>90</td>\n",
              "      <td>0</td>\n",
              "    </tr>\n",
              "  </tbody>\n",
              "</table>\n",
              "<p>2205 rows × 22 columns</p>\n",
              "</div>"
            ],
            "text/plain": [
              "          PS1      PS2    PS3     PS4    PS5  ...   CC   VC  IPL   HA  SF\n",
              "0     160.673  109.467  1.991   0.000  9.842  ...    3  100    0  130   1\n",
              "1     160.603  109.355  1.976   0.000  9.635  ...    3  100    0  130   1\n",
              "2     160.348  109.159  1.972   0.000  9.531  ...    3  100    0  130   1\n",
              "3     160.188  109.065  1.947   0.000  9.439  ...    3  100    0  130   1\n",
              "4     160.000  108.931  1.923   0.000  9.359  ...    3  100    0  130   1\n",
              "...       ...      ...    ...     ...    ...  ...  ...  ...  ...  ...  ..\n",
              "2200  161.228  109.780  2.001  10.202  9.972  ...  100  100    0   90   0\n",
              "2201  161.206  109.787  1.999  10.198  9.966  ...  100  100    0   90   0\n",
              "2202  161.192  109.756  1.993  10.197  9.964  ...  100  100    0   90   0\n",
              "2203  161.209  109.794  2.007  10.199  9.968  ...  100  100    0   90   0\n",
              "2204  161.217  109.792  2.003  10.203  9.974  ...  100  100    0   90   0\n",
              "\n",
              "[2205 rows x 22 columns]"
            ]
          },
          "metadata": {
            "tags": []
          },
          "execution_count": 56
        }
      ]
    },
    {
      "cell_type": "code",
      "metadata": {
        "id": "TCc3PrXxM-eM"
      },
      "source": [
        "dp_data = pd.DataFrame(columns=['CC','VC','IPL','HA'])"
      ],
      "execution_count": null,
      "outputs": []
    },
    {
      "cell_type": "code",
      "metadata": {
        "id": "y0maVe1ONEPj"
      },
      "source": [
        "dp_data['CC'] = y_pred_cc\r\n",
        "dp_data['VC'] = y_pred_vc\r\n",
        "dp_data['IPL'] = y_pred_ipl\r\n",
        "dp_data['HA'] = y_pred_ha"
      ],
      "execution_count": null,
      "outputs": []
    },
    {
      "cell_type": "code",
      "metadata": {
        "colab": {
          "base_uri": "https://localhost:8080/",
          "height": 406
        },
        "id": "gt-zeYfeOOIH",
        "outputId": "285bb6a3-73c4-4c91-a4de-a5d58bdd9b00"
      },
      "source": [
        "dp_data"
      ],
      "execution_count": null,
      "outputs": [
        {
          "output_type": "execute_result",
          "data": {
            "text/html": [
              "<div>\n",
              "<style scoped>\n",
              "    .dataframe tbody tr th:only-of-type {\n",
              "        vertical-align: middle;\n",
              "    }\n",
              "\n",
              "    .dataframe tbody tr th {\n",
              "        vertical-align: top;\n",
              "    }\n",
              "\n",
              "    .dataframe thead th {\n",
              "        text-align: right;\n",
              "    }\n",
              "</style>\n",
              "<table border=\"1\" class=\"dataframe\">\n",
              "  <thead>\n",
              "    <tr style=\"text-align: right;\">\n",
              "      <th></th>\n",
              "      <th>CC</th>\n",
              "      <th>VC</th>\n",
              "      <th>IPL</th>\n",
              "      <th>HA</th>\n",
              "    </tr>\n",
              "  </thead>\n",
              "  <tbody>\n",
              "    <tr>\n",
              "      <th>0</th>\n",
              "      <td>20</td>\n",
              "      <td>100</td>\n",
              "      <td>1</td>\n",
              "      <td>90</td>\n",
              "    </tr>\n",
              "    <tr>\n",
              "      <th>1</th>\n",
              "      <td>20</td>\n",
              "      <td>100</td>\n",
              "      <td>2</td>\n",
              "      <td>130</td>\n",
              "    </tr>\n",
              "    <tr>\n",
              "      <th>2</th>\n",
              "      <td>100</td>\n",
              "      <td>90</td>\n",
              "      <td>0</td>\n",
              "      <td>115</td>\n",
              "    </tr>\n",
              "    <tr>\n",
              "      <th>3</th>\n",
              "      <td>100</td>\n",
              "      <td>100</td>\n",
              "      <td>0</td>\n",
              "      <td>90</td>\n",
              "    </tr>\n",
              "    <tr>\n",
              "      <th>4</th>\n",
              "      <td>20</td>\n",
              "      <td>80</td>\n",
              "      <td>2</td>\n",
              "      <td>130</td>\n",
              "    </tr>\n",
              "    <tr>\n",
              "      <th>...</th>\n",
              "      <td>...</td>\n",
              "      <td>...</td>\n",
              "      <td>...</td>\n",
              "      <td>...</td>\n",
              "    </tr>\n",
              "    <tr>\n",
              "      <th>436</th>\n",
              "      <td>100</td>\n",
              "      <td>73</td>\n",
              "      <td>1</td>\n",
              "      <td>90</td>\n",
              "    </tr>\n",
              "    <tr>\n",
              "      <th>437</th>\n",
              "      <td>20</td>\n",
              "      <td>100</td>\n",
              "      <td>0</td>\n",
              "      <td>90</td>\n",
              "    </tr>\n",
              "    <tr>\n",
              "      <th>438</th>\n",
              "      <td>20</td>\n",
              "      <td>90</td>\n",
              "      <td>0</td>\n",
              "      <td>90</td>\n",
              "    </tr>\n",
              "    <tr>\n",
              "      <th>439</th>\n",
              "      <td>3</td>\n",
              "      <td>73</td>\n",
              "      <td>0</td>\n",
              "      <td>115</td>\n",
              "    </tr>\n",
              "    <tr>\n",
              "      <th>440</th>\n",
              "      <td>100</td>\n",
              "      <td>90</td>\n",
              "      <td>2</td>\n",
              "      <td>100</td>\n",
              "    </tr>\n",
              "  </tbody>\n",
              "</table>\n",
              "<p>441 rows × 4 columns</p>\n",
              "</div>"
            ],
            "text/plain": [
              "      CC   VC  IPL   HA\n",
              "0     20  100    1   90\n",
              "1     20  100    2  130\n",
              "2    100   90    0  115\n",
              "3    100  100    0   90\n",
              "4     20   80    2  130\n",
              "..   ...  ...  ...  ...\n",
              "436  100   73    1   90\n",
              "437   20  100    0   90\n",
              "438   20   90    0   90\n",
              "439    3   73    0  115\n",
              "440  100   90    2  100\n",
              "\n",
              "[441 rows x 4 columns]"
            ]
          },
          "metadata": {
            "tags": []
          },
          "execution_count": 59
        }
      ]
    },
    {
      "cell_type": "code",
      "metadata": {
        "id": "ZBG85JF9OdPf"
      },
      "source": [
        "X = data.iloc[:,-5:-1]\r\n",
        "y = data.iloc[:, -1]"
      ],
      "execution_count": null,
      "outputs": []
    },
    {
      "cell_type": "code",
      "metadata": {
        "id": "ZN3nxLP1n7CX"
      },
      "source": [
        "from sklearn.model_selection import train_test_split\r\n",
        "X_train, X_test, y_train, y_test = train_test_split(X, y, test_size = 0.2, random_state = 10)"
      ],
      "execution_count": null,
      "outputs": []
    },
    {
      "cell_type": "code",
      "metadata": {
        "id": "zJLGFEvKn8IL"
      },
      "source": [
        "full_pipeline = [pipeline_lr,pipeline_dt,pipeline_rf,pipeline_knn,pipeline_svc,pipeline_nd]\r\n",
        "\r\n",
        "for i in full_pipeline:\r\n",
        "  i.fit(X_train,y_train)"
      ],
      "execution_count": null,
      "outputs": []
    },
    {
      "cell_type": "code",
      "metadata": {
        "id": "Kv1i0bdwpGAD"
      },
      "source": [
        "full_pipeline_str = ['Logistic regression','dession tree','random forest','KNN','SVM','Navie bayse']\r\n",
        "\r\n",
        "from sklearn.metrics import confusion_matrix, accuracy_score\r\n",
        "for i,j in zip(full_pipeline,full_pipeline_str):\r\n",
        "  y_pred = i.predict(X_test)\r\n",
        "  print(j,':-')\r\n",
        "  scores(i,X_train,y_train)\r\n",
        "  cm = confusion_matrix(y_test, y_pred)\r\n",
        "  print(cm)\r\n",
        "  print('Accuracy: ',accuracy_score(y_test, y_pred))\r\n",
        "  print(\"\\n\\n\")"
      ],
      "execution_count": null,
      "outputs": []
    },
    {
      "cell_type": "code",
      "metadata": {
        "id": "6sO5eYuWpLDW"
      },
      "source": [
        "y_pred_sf = pipeline_svc.predict(X_test)"
      ],
      "execution_count": null,
      "outputs": []
    },
    {
      "cell_type": "code",
      "metadata": {
        "id": "YVRNDPfM202g"
      },
      "source": [
        ""
      ],
      "execution_count": null,
      "outputs": []
    },
    {
      "cell_type": "markdown",
      "metadata": {
        "id": "2HcJwtB0APnc"
      },
      "source": [
        "by using predict data"
      ]
    },
    {
      "cell_type": "code",
      "metadata": {
        "id": "4LkF_gfDAORl"
      },
      "source": [
        "y_pred_result = pipeline_svc.predict(dp_data)"
      ],
      "execution_count": null,
      "outputs": []
    },
    {
      "cell_type": "code",
      "metadata": {
        "id": "LBzYRJVn2qlX"
      },
      "source": [
        "y_diff = y_pred_result - y_pred_sf"
      ],
      "execution_count": null,
      "outputs": []
    },
    {
      "cell_type": "code",
      "metadata": {
        "id": "yDL5pdF8BsVx"
      },
      "source": [
        "y_diff = pd.DataFrame(y_diff)\r\n",
        "y_diff"
      ],
      "execution_count": null,
      "outputs": []
    },
    {
      "cell_type": "code",
      "metadata": {
        "colab": {
          "base_uri": "https://localhost:8080/"
        },
        "id": "KHbspFBxBuf2",
        "outputId": "41c47f4c-116c-494d-b584-56d02b4ab28b"
      },
      "source": [
        "y_diff.value_counts()"
      ],
      "execution_count": null,
      "outputs": [
        {
          "output_type": "execute_result",
          "data": {
            "text/plain": [
              " 0    439\n",
              " 1      1\n",
              "-1      1\n",
              "dtype: int64"
            ]
          },
          "metadata": {
            "tags": []
          },
          "execution_count": 78
        }
      ]
    },
    {
      "cell_type": "code",
      "metadata": {
        "colab": {
          "base_uri": "https://localhost:8080/"
        },
        "id": "jVqoeJQsCqPt",
        "outputId": "cb4c32b0-841c-4f5e-d563-23dc3353f949"
      },
      "source": [
        "y_pred_result.sum()"
      ],
      "execution_count": null,
      "outputs": [
        {
          "output_type": "execute_result",
          "data": {
            "text/plain": [
              "189"
            ]
          },
          "metadata": {
            "tags": []
          },
          "execution_count": 81
        }
      ]
    },
    {
      "cell_type": "code",
      "metadata": {
        "id": "-JQMDdAQJgUV"
      },
      "source": [
        ""
      ],
      "execution_count": null,
      "outputs": []
    },
    {
      "cell_type": "markdown",
      "metadata": {
        "id": "_RLUf6HiJsmR"
      },
      "source": [
        "now we predict 15 min before system unstable"
      ]
    },
    {
      "cell_type": "code",
      "metadata": {
        "colab": {
          "base_uri": "https://localhost:8080/",
          "height": 406
        },
        "id": "moiM8yQIQnoB",
        "outputId": "7ed3a68f-13c3-4ad9-e5ab-2800254ead93"
      },
      "source": [
        "data"
      ],
      "execution_count": null,
      "outputs": [
        {
          "output_type": "execute_result",
          "data": {
            "text/html": [
              "<div>\n",
              "<style scoped>\n",
              "    .dataframe tbody tr th:only-of-type {\n",
              "        vertical-align: middle;\n",
              "    }\n",
              "\n",
              "    .dataframe tbody tr th {\n",
              "        vertical-align: top;\n",
              "    }\n",
              "\n",
              "    .dataframe thead th {\n",
              "        text-align: right;\n",
              "    }\n",
              "</style>\n",
              "<table border=\"1\" class=\"dataframe\">\n",
              "  <thead>\n",
              "    <tr style=\"text-align: right;\">\n",
              "      <th></th>\n",
              "      <th>PS1</th>\n",
              "      <th>PS2</th>\n",
              "      <th>PS3</th>\n",
              "      <th>PS4</th>\n",
              "      <th>PS5</th>\n",
              "      <th>PS6</th>\n",
              "      <th>EPS1</th>\n",
              "      <th>FS1</th>\n",
              "      <th>FS2</th>\n",
              "      <th>TS1</th>\n",
              "      <th>TS2</th>\n",
              "      <th>TS3</th>\n",
              "      <th>TS4</th>\n",
              "      <th>VS1</th>\n",
              "      <th>CE</th>\n",
              "      <th>CP</th>\n",
              "      <th>SE</th>\n",
              "      <th>CC</th>\n",
              "      <th>VC</th>\n",
              "      <th>IPL</th>\n",
              "      <th>HA</th>\n",
              "      <th>SF</th>\n",
              "    </tr>\n",
              "  </thead>\n",
              "  <tbody>\n",
              "    <tr>\n",
              "      <th>0</th>\n",
              "      <td>160.673</td>\n",
              "      <td>109.467</td>\n",
              "      <td>1.991</td>\n",
              "      <td>0.000</td>\n",
              "      <td>9.842</td>\n",
              "      <td>9.728</td>\n",
              "      <td>2538.929</td>\n",
              "      <td>6.710</td>\n",
              "      <td>10.305</td>\n",
              "      <td>35.622</td>\n",
              "      <td>40.979</td>\n",
              "      <td>38.471</td>\n",
              "      <td>31.745</td>\n",
              "      <td>0.577</td>\n",
              "      <td>39.601</td>\n",
              "      <td>1.863</td>\n",
              "      <td>59.157</td>\n",
              "      <td>3</td>\n",
              "      <td>100</td>\n",
              "      <td>0</td>\n",
              "      <td>130</td>\n",
              "      <td>1</td>\n",
              "    </tr>\n",
              "    <tr>\n",
              "      <th>1</th>\n",
              "      <td>160.603</td>\n",
              "      <td>109.355</td>\n",
              "      <td>1.976</td>\n",
              "      <td>0.000</td>\n",
              "      <td>9.635</td>\n",
              "      <td>9.529</td>\n",
              "      <td>2531.499</td>\n",
              "      <td>6.715</td>\n",
              "      <td>10.403</td>\n",
              "      <td>36.677</td>\n",
              "      <td>41.533</td>\n",
              "      <td>38.979</td>\n",
              "      <td>34.494</td>\n",
              "      <td>0.566</td>\n",
              "      <td>25.786</td>\n",
              "      <td>1.256</td>\n",
              "      <td>59.336</td>\n",
              "      <td>3</td>\n",
              "      <td>100</td>\n",
              "      <td>0</td>\n",
              "      <td>130</td>\n",
              "      <td>1</td>\n",
              "    </tr>\n",
              "    <tr>\n",
              "      <th>2</th>\n",
              "      <td>160.348</td>\n",
              "      <td>109.159</td>\n",
              "      <td>1.972</td>\n",
              "      <td>0.000</td>\n",
              "      <td>9.531</td>\n",
              "      <td>9.428</td>\n",
              "      <td>2519.928</td>\n",
              "      <td>6.719</td>\n",
              "      <td>10.366</td>\n",
              "      <td>37.881</td>\n",
              "      <td>42.442</td>\n",
              "      <td>39.632</td>\n",
              "      <td>35.646</td>\n",
              "      <td>0.577</td>\n",
              "      <td>22.218</td>\n",
              "      <td>1.113</td>\n",
              "      <td>59.543</td>\n",
              "      <td>3</td>\n",
              "      <td>100</td>\n",
              "      <td>0</td>\n",
              "      <td>130</td>\n",
              "      <td>1</td>\n",
              "    </tr>\n",
              "    <tr>\n",
              "      <th>3</th>\n",
              "      <td>160.188</td>\n",
              "      <td>109.065</td>\n",
              "      <td>1.947</td>\n",
              "      <td>0.000</td>\n",
              "      <td>9.439</td>\n",
              "      <td>9.337</td>\n",
              "      <td>2511.542</td>\n",
              "      <td>6.721</td>\n",
              "      <td>10.303</td>\n",
              "      <td>38.879</td>\n",
              "      <td>43.404</td>\n",
              "      <td>40.403</td>\n",
              "      <td>36.579</td>\n",
              "      <td>0.569</td>\n",
              "      <td>20.460</td>\n",
              "      <td>1.062</td>\n",
              "      <td>59.795</td>\n",
              "      <td>3</td>\n",
              "      <td>100</td>\n",
              "      <td>0</td>\n",
              "      <td>130</td>\n",
              "      <td>1</td>\n",
              "    </tr>\n",
              "    <tr>\n",
              "      <th>4</th>\n",
              "      <td>160.000</td>\n",
              "      <td>108.931</td>\n",
              "      <td>1.923</td>\n",
              "      <td>0.000</td>\n",
              "      <td>9.359</td>\n",
              "      <td>9.261</td>\n",
              "      <td>2503.450</td>\n",
              "      <td>6.690</td>\n",
              "      <td>10.238</td>\n",
              "      <td>39.804</td>\n",
              "      <td>44.333</td>\n",
              "      <td>41.311</td>\n",
              "      <td>37.428</td>\n",
              "      <td>0.577</td>\n",
              "      <td>19.787</td>\n",
              "      <td>1.070</td>\n",
              "      <td>59.455</td>\n",
              "      <td>3</td>\n",
              "      <td>100</td>\n",
              "      <td>0</td>\n",
              "      <td>130</td>\n",
              "      <td>1</td>\n",
              "    </tr>\n",
              "    <tr>\n",
              "      <th>...</th>\n",
              "      <td>...</td>\n",
              "      <td>...</td>\n",
              "      <td>...</td>\n",
              "      <td>...</td>\n",
              "      <td>...</td>\n",
              "      <td>...</td>\n",
              "      <td>...</td>\n",
              "      <td>...</td>\n",
              "      <td>...</td>\n",
              "      <td>...</td>\n",
              "      <td>...</td>\n",
              "      <td>...</td>\n",
              "      <td>...</td>\n",
              "      <td>...</td>\n",
              "      <td>...</td>\n",
              "      <td>...</td>\n",
              "      <td>...</td>\n",
              "      <td>...</td>\n",
              "      <td>...</td>\n",
              "      <td>...</td>\n",
              "      <td>...</td>\n",
              "      <td>...</td>\n",
              "    </tr>\n",
              "    <tr>\n",
              "      <th>2200</th>\n",
              "      <td>161.228</td>\n",
              "      <td>109.780</td>\n",
              "      <td>2.001</td>\n",
              "      <td>10.202</td>\n",
              "      <td>9.972</td>\n",
              "      <td>9.850</td>\n",
              "      <td>2543.911</td>\n",
              "      <td>6.690</td>\n",
              "      <td>10.185</td>\n",
              "      <td>35.314</td>\n",
              "      <td>40.875</td>\n",
              "      <td>38.269</td>\n",
              "      <td>30.405</td>\n",
              "      <td>0.551</td>\n",
              "      <td>46.629</td>\n",
              "      <td>2.161</td>\n",
              "      <td>59.033</td>\n",
              "      <td>100</td>\n",
              "      <td>100</td>\n",
              "      <td>0</td>\n",
              "      <td>90</td>\n",
              "      <td>0</td>\n",
              "    </tr>\n",
              "    <tr>\n",
              "      <th>2201</th>\n",
              "      <td>161.206</td>\n",
              "      <td>109.787</td>\n",
              "      <td>1.999</td>\n",
              "      <td>10.198</td>\n",
              "      <td>9.966</td>\n",
              "      <td>9.845</td>\n",
              "      <td>2543.411</td>\n",
              "      <td>6.692</td>\n",
              "      <td>10.178</td>\n",
              "      <td>35.322</td>\n",
              "      <td>40.869</td>\n",
              "      <td>38.268</td>\n",
              "      <td>30.416</td>\n",
              "      <td>0.547</td>\n",
              "      <td>46.690</td>\n",
              "      <td>2.151</td>\n",
              "      <td>59.068</td>\n",
              "      <td>100</td>\n",
              "      <td>100</td>\n",
              "      <td>0</td>\n",
              "      <td>90</td>\n",
              "      <td>0</td>\n",
              "    </tr>\n",
              "    <tr>\n",
              "      <th>2202</th>\n",
              "      <td>161.192</td>\n",
              "      <td>109.756</td>\n",
              "      <td>1.993</td>\n",
              "      <td>10.197</td>\n",
              "      <td>9.964</td>\n",
              "      <td>9.843</td>\n",
              "      <td>2542.730</td>\n",
              "      <td>6.693</td>\n",
              "      <td>10.176</td>\n",
              "      <td>35.319</td>\n",
              "      <td>40.876</td>\n",
              "      <td>38.246</td>\n",
              "      <td>30.426</td>\n",
              "      <td>0.545</td>\n",
              "      <td>46.472</td>\n",
              "      <td>2.143</td>\n",
              "      <td>59.132</td>\n",
              "      <td>100</td>\n",
              "      <td>100</td>\n",
              "      <td>0</td>\n",
              "      <td>90</td>\n",
              "      <td>0</td>\n",
              "    </tr>\n",
              "    <tr>\n",
              "      <th>2203</th>\n",
              "      <td>161.209</td>\n",
              "      <td>109.794</td>\n",
              "      <td>2.007</td>\n",
              "      <td>10.199</td>\n",
              "      <td>9.968</td>\n",
              "      <td>9.847</td>\n",
              "      <td>2544.046</td>\n",
              "      <td>6.684</td>\n",
              "      <td>10.178</td>\n",
              "      <td>35.325</td>\n",
              "      <td>40.876</td>\n",
              "      <td>38.246</td>\n",
              "      <td>30.414</td>\n",
              "      <td>0.537</td>\n",
              "      <td>46.545</td>\n",
              "      <td>2.148</td>\n",
              "      <td>58.971</td>\n",
              "      <td>100</td>\n",
              "      <td>100</td>\n",
              "      <td>0</td>\n",
              "      <td>90</td>\n",
              "      <td>0</td>\n",
              "    </tr>\n",
              "    <tr>\n",
              "      <th>2204</th>\n",
              "      <td>161.217</td>\n",
              "      <td>109.792</td>\n",
              "      <td>2.003</td>\n",
              "      <td>10.203</td>\n",
              "      <td>9.974</td>\n",
              "      <td>9.852</td>\n",
              "      <td>2543.818</td>\n",
              "      <td>6.692</td>\n",
              "      <td>10.183</td>\n",
              "      <td>35.322</td>\n",
              "      <td>40.859</td>\n",
              "      <td>38.249</td>\n",
              "      <td>30.391</td>\n",
              "      <td>0.547</td>\n",
              "      <td>46.648</td>\n",
              "      <td>2.157</td>\n",
              "      <td>59.054</td>\n",
              "      <td>100</td>\n",
              "      <td>100</td>\n",
              "      <td>0</td>\n",
              "      <td>90</td>\n",
              "      <td>0</td>\n",
              "    </tr>\n",
              "  </tbody>\n",
              "</table>\n",
              "<p>2205 rows × 22 columns</p>\n",
              "</div>"
            ],
            "text/plain": [
              "          PS1      PS2    PS3     PS4    PS5  ...   CC   VC  IPL   HA  SF\n",
              "0     160.673  109.467  1.991   0.000  9.842  ...    3  100    0  130   1\n",
              "1     160.603  109.355  1.976   0.000  9.635  ...    3  100    0  130   1\n",
              "2     160.348  109.159  1.972   0.000  9.531  ...    3  100    0  130   1\n",
              "3     160.188  109.065  1.947   0.000  9.439  ...    3  100    0  130   1\n",
              "4     160.000  108.931  1.923   0.000  9.359  ...    3  100    0  130   1\n",
              "...       ...      ...    ...     ...    ...  ...  ...  ...  ...  ...  ..\n",
              "2200  161.228  109.780  2.001  10.202  9.972  ...  100  100    0   90   0\n",
              "2201  161.206  109.787  1.999  10.198  9.966  ...  100  100    0   90   0\n",
              "2202  161.192  109.756  1.993  10.197  9.964  ...  100  100    0   90   0\n",
              "2203  161.209  109.794  2.007  10.199  9.968  ...  100  100    0   90   0\n",
              "2204  161.217  109.792  2.003  10.203  9.974  ...  100  100    0   90   0\n",
              "\n",
              "[2205 rows x 22 columns]"
            ]
          },
          "metadata": {
            "tags": []
          },
          "execution_count": 83
        }
      ]
    },
    {
      "cell_type": "code",
      "metadata": {
        "id": "cFYPpnGlRbo3"
      },
      "source": [
        "X = data.iloc[:,-5:-1]\r\n",
        "y = data.iloc[:,-1]"
      ],
      "execution_count": null,
      "outputs": []
    },
    {
      "cell_type": "code",
      "metadata": {
        "id": "f2wXpV4lRyNS"
      },
      "source": [
        "XX = X.drop(index = np.arange(15))\r\n",
        "#yy = y.drop(index = np.arange(2189))\r\n",
        "yy = y.iloc[:2190]"
      ],
      "execution_count": null,
      "outputs": []
    },
    {
      "cell_type": "code",
      "metadata": {
        "colab": {
          "base_uri": "https://localhost:8080/",
          "height": 406
        },
        "id": "xA-UJ1nQRzjI",
        "outputId": "b1c54341-e83c-4f6b-dc2e-6591bee7edfe"
      },
      "source": [
        "XX"
      ],
      "execution_count": null,
      "outputs": [
        {
          "output_type": "execute_result",
          "data": {
            "text/html": [
              "<div>\n",
              "<style scoped>\n",
              "    .dataframe tbody tr th:only-of-type {\n",
              "        vertical-align: middle;\n",
              "    }\n",
              "\n",
              "    .dataframe tbody tr th {\n",
              "        vertical-align: top;\n",
              "    }\n",
              "\n",
              "    .dataframe thead th {\n",
              "        text-align: right;\n",
              "    }\n",
              "</style>\n",
              "<table border=\"1\" class=\"dataframe\">\n",
              "  <thead>\n",
              "    <tr style=\"text-align: right;\">\n",
              "      <th></th>\n",
              "      <th>CC</th>\n",
              "      <th>VC</th>\n",
              "      <th>IPL</th>\n",
              "      <th>HA</th>\n",
              "    </tr>\n",
              "  </thead>\n",
              "  <tbody>\n",
              "    <tr>\n",
              "      <th>15</th>\n",
              "      <td>3</td>\n",
              "      <td>100</td>\n",
              "      <td>0</td>\n",
              "      <td>130</td>\n",
              "    </tr>\n",
              "    <tr>\n",
              "      <th>16</th>\n",
              "      <td>3</td>\n",
              "      <td>100</td>\n",
              "      <td>0</td>\n",
              "      <td>130</td>\n",
              "    </tr>\n",
              "    <tr>\n",
              "      <th>17</th>\n",
              "      <td>3</td>\n",
              "      <td>100</td>\n",
              "      <td>0</td>\n",
              "      <td>130</td>\n",
              "    </tr>\n",
              "    <tr>\n",
              "      <th>18</th>\n",
              "      <td>3</td>\n",
              "      <td>100</td>\n",
              "      <td>0</td>\n",
              "      <td>130</td>\n",
              "    </tr>\n",
              "    <tr>\n",
              "      <th>19</th>\n",
              "      <td>3</td>\n",
              "      <td>100</td>\n",
              "      <td>0</td>\n",
              "      <td>130</td>\n",
              "    </tr>\n",
              "    <tr>\n",
              "      <th>...</th>\n",
              "      <td>...</td>\n",
              "      <td>...</td>\n",
              "      <td>...</td>\n",
              "      <td>...</td>\n",
              "    </tr>\n",
              "    <tr>\n",
              "      <th>2200</th>\n",
              "      <td>100</td>\n",
              "      <td>100</td>\n",
              "      <td>0</td>\n",
              "      <td>90</td>\n",
              "    </tr>\n",
              "    <tr>\n",
              "      <th>2201</th>\n",
              "      <td>100</td>\n",
              "      <td>100</td>\n",
              "      <td>0</td>\n",
              "      <td>90</td>\n",
              "    </tr>\n",
              "    <tr>\n",
              "      <th>2202</th>\n",
              "      <td>100</td>\n",
              "      <td>100</td>\n",
              "      <td>0</td>\n",
              "      <td>90</td>\n",
              "    </tr>\n",
              "    <tr>\n",
              "      <th>2203</th>\n",
              "      <td>100</td>\n",
              "      <td>100</td>\n",
              "      <td>0</td>\n",
              "      <td>90</td>\n",
              "    </tr>\n",
              "    <tr>\n",
              "      <th>2204</th>\n",
              "      <td>100</td>\n",
              "      <td>100</td>\n",
              "      <td>0</td>\n",
              "      <td>90</td>\n",
              "    </tr>\n",
              "  </tbody>\n",
              "</table>\n",
              "<p>2190 rows × 4 columns</p>\n",
              "</div>"
            ],
            "text/plain": [
              "       CC   VC  IPL   HA\n",
              "15      3  100    0  130\n",
              "16      3  100    0  130\n",
              "17      3  100    0  130\n",
              "18      3  100    0  130\n",
              "19      3  100    0  130\n",
              "...   ...  ...  ...  ...\n",
              "2200  100  100    0   90\n",
              "2201  100  100    0   90\n",
              "2202  100  100    0   90\n",
              "2203  100  100    0   90\n",
              "2204  100  100    0   90\n",
              "\n",
              "[2190 rows x 4 columns]"
            ]
          },
          "metadata": {
            "tags": []
          },
          "execution_count": 100
        }
      ]
    },
    {
      "cell_type": "code",
      "metadata": {
        "colab": {
          "base_uri": "https://localhost:8080/"
        },
        "id": "s6KrV0vMUD51",
        "outputId": "d1117aa3-db0d-4d4a-89ef-1e5baa85be0e"
      },
      "source": [
        "yy"
      ],
      "execution_count": null,
      "outputs": [
        {
          "output_type": "execute_result",
          "data": {
            "text/plain": [
              "0       1\n",
              "1       1\n",
              "2       1\n",
              "3       1\n",
              "4       1\n",
              "       ..\n",
              "2185    0\n",
              "2186    0\n",
              "2187    0\n",
              "2188    0\n",
              "2189    0\n",
              "Name: SF, Length: 2190, dtype: int64"
            ]
          },
          "metadata": {
            "tags": []
          },
          "execution_count": 109
        }
      ]
    },
    {
      "cell_type": "code",
      "metadata": {
        "id": "FACrjz_rTpSu"
      },
      "source": [
        "from sklearn.model_selection import train_test_split\r\n",
        "X_train, X_test, y_train, y_test = train_test_split(XX, yy, test_size = 0.2, random_state = 10)"
      ],
      "execution_count": null,
      "outputs": []
    },
    {
      "cell_type": "code",
      "metadata": {
        "id": "YOpXhN3tVKWj"
      },
      "source": [
        "full_pipeline = [pipeline_lr,pipeline_dt,pipeline_rf,pipeline_knn,pipeline_svc,pipeline_nd]\r\n",
        "\r\n",
        "for i in full_pipeline:\r\n",
        "  i.fit(X_train,y_train)"
      ],
      "execution_count": null,
      "outputs": []
    },
    {
      "cell_type": "code",
      "metadata": {
        "colab": {
          "base_uri": "https://localhost:8080/"
        },
        "id": "YvlfDmr7VT9e",
        "outputId": "26032e15-5eb2-4264-a118-ed76404f9f3b"
      },
      "source": [
        "full_pipeline_str = ['Logistic regression','dession tree','random forest','KNN','SVM','Navie bayse']\r\n",
        "\r\n",
        "from sklearn.metrics import confusion_matrix, accuracy_score\r\n",
        "for i,j in zip(full_pipeline,full_pipeline_str):\r\n",
        "  y_pred = i.predict(X_test)\r\n",
        "  print(j,':-')\r\n",
        "  scores(i,X_train,y_train)\r\n",
        "  cm = confusion_matrix(y_test, y_pred)\r\n",
        "  print(cm)\r\n",
        "  print('Accuracy: ',accuracy_score(y_test, y_pred))\r\n",
        "  print(\"\\n\\n\")"
      ],
      "execution_count": null,
      "outputs": [
        {
          "output_type": "stream",
          "text": [
            "Logistic regression :-\n",
            "Scores: [0.52223297 0.56909018 0.50142654 0.47207748 0.53452248 0.47207748\n",
            " 0.51269596 0.55549206 0.55549206 0.51823878]\n",
            "Mean: 0.5213345972988337\n",
            "Standard deviation: 0.03181486619822571\n",
            "[[237  46]\n",
            " [ 78  77]]\n",
            "Accuracy:  0.7168949771689498\n",
            "\n",
            "\n",
            "\n",
            "dession tree :-\n",
            "Scores: [0.31079078 0.35355339 0.3380617  0.36253079 0.3380617  0.25071327\n",
            " 0.3545621  0.37032804 0.37796447 0.32071349]\n",
            "Mean: 0.3377279737095632\n",
            "Standard deviation: 0.0352386694694998\n",
            "[[239  44]\n",
            " [ 22 133]]\n",
            "Accuracy:  0.8493150684931506\n",
            "\n",
            "\n",
            "\n",
            "random forest :-\n",
            "Scores: [0.31980107 0.38435306 0.3380617  0.34641016 0.3380617  0.25071327\n",
            " 0.3545621  0.36253079 0.37796447 0.32071349]\n",
            "Mean: 0.3393171819779402\n",
            "Standard deviation: 0.03595026346385885\n",
            "[[233  50]\n",
            " [ 15 140]]\n",
            "Accuracy:  0.8515981735159818\n",
            "\n",
            "\n",
            "\n",
            "KNN :-\n",
            "Scores: [0.43952454 0.35355339 0.32950179 0.37032804 0.32950179 0.26186147\n",
            " 0.3545621  0.36253079 0.37032804 0.32071349]\n",
            "Mean: 0.3492405433364666\n",
            "Standard deviation: 0.04300261280703072\n",
            "[[237  46]\n",
            " [ 16 139]]\n",
            "Accuracy:  0.8584474885844748\n",
            "\n",
            "\n",
            "\n",
            "SVM :-\n",
            "Scores: [0.58871972 0.49428553 0.51269596 0.47207748 0.4070802  0.45981363\n",
            " 0.52372294 0.50709255 0.52915026 0.58554004]\n",
            "Mean: 0.5080178295886439\n",
            "Standard deviation: 0.05218313544851779\n",
            "[[200  83]\n",
            " [ 31 124]]\n",
            "Accuracy:  0.7397260273972602\n",
            "\n",
            "\n",
            "\n",
            "Navie bayse :-\n",
            "Scores: [0.3614994  0.42640143 0.4070802  0.47207748 0.37032804 0.38544964\n",
            " 0.45981363 0.45981363 0.49569576 0.31167749]\n",
            "Mean: 0.41498366930825864\n",
            "Standard deviation: 0.05512308234717859\n",
            "[[229  54]\n",
            " [ 31 124]]\n",
            "Accuracy:  0.8059360730593608\n",
            "\n",
            "\n",
            "\n"
          ],
          "name": "stdout"
        }
      ]
    },
    {
      "cell_type": "code",
      "metadata": {
        "id": "bviVpmXDVYb7"
      },
      "source": [
        ""
      ],
      "execution_count": null,
      "outputs": []
    },
    {
      "cell_type": "markdown",
      "metadata": {
        "id": "ThfkuwxAWuF0"
      },
      "source": [
        "Here KNN gives the best result"
      ]
    },
    {
      "cell_type": "code",
      "metadata": {
        "id": "S31cQ5IEWy-4"
      },
      "source": [
        "future_pred = pipeline_knn.predict(X_test)"
      ],
      "execution_count": null,
      "outputs": []
    },
    {
      "cell_type": "code",
      "metadata": {
        "colab": {
          "base_uri": "https://localhost:8080/"
        },
        "id": "YeUJhoByXGno",
        "outputId": "f27b0d5a-0a3e-43b2-b121-df22a287f867"
      },
      "source": [
        "future_pred"
      ],
      "execution_count": null,
      "outputs": [
        {
          "output_type": "execute_result",
          "data": {
            "text/plain": [
              "array([1, 1, 0, 0, 1, 1, 1, 1, 0, 0, 0, 0, 0, 1, 1, 0, 1, 1, 1, 1, 0, 0,\n",
              "       0, 0, 0, 0, 1, 0, 0, 0, 1, 0, 0, 0, 1, 1, 1, 0, 0, 1, 1, 0, 0, 0,\n",
              "       0, 1, 1, 1, 0, 0, 1, 1, 0, 0, 1, 1, 0, 0, 1, 0, 1, 0, 1, 0, 1, 1,\n",
              "       0, 1, 1, 0, 1, 1, 0, 1, 1, 0, 1, 1, 1, 0, 0, 1, 0, 0, 1, 0, 0, 1,\n",
              "       0, 0, 1, 1, 0, 0, 0, 0, 0, 0, 1, 0, 0, 0, 0, 0, 0, 1, 0, 0, 0, 0,\n",
              "       0, 0, 0, 1, 0, 1, 0, 0, 1, 0, 0, 0, 0, 1, 1, 0, 1, 0, 1, 1, 0, 0,\n",
              "       1, 0, 0, 1, 1, 0, 0, 1, 0, 1, 1, 1, 0, 0, 0, 0, 1, 1, 0, 1, 0, 0,\n",
              "       0, 0, 0, 1, 0, 0, 0, 1, 1, 0, 0, 1, 1, 1, 0, 1, 0, 0, 1, 0, 1, 0,\n",
              "       0, 1, 1, 1, 1, 1, 1, 1, 1, 1, 0, 1, 0, 0, 0, 0, 0, 1, 0, 1, 1, 1,\n",
              "       0, 0, 0, 0, 0, 1, 1, 1, 0, 1, 1, 0, 0, 1, 1, 0, 1, 0, 1, 0, 0, 1,\n",
              "       0, 0, 1, 0, 1, 0, 1, 1, 1, 0, 1, 1, 0, 1, 0, 1, 1, 1, 1, 0, 0, 0,\n",
              "       0, 0, 0, 0, 1, 1, 0, 0, 1, 0, 0, 0, 0, 0, 1, 0, 1, 0, 0, 0, 0, 0,\n",
              "       1, 0, 1, 0, 1, 1, 1, 0, 1, 1, 1, 0, 1, 0, 1, 0, 0, 0, 1, 1, 1, 1,\n",
              "       0, 1, 0, 1, 0, 0, 0, 1, 0, 0, 0, 0, 1, 1, 1, 0, 1, 0, 0, 0, 0, 0,\n",
              "       1, 1, 0, 0, 1, 1, 0, 0, 0, 1, 0, 1, 0, 0, 0, 0, 0, 1, 0, 0, 0, 1,\n",
              "       0, 0, 1, 0, 1, 0, 0, 0, 1, 1, 0, 0, 0, 0, 1, 0, 0, 0, 1, 1, 0, 0,\n",
              "       1, 0, 1, 1, 0, 1, 0, 1, 0, 0, 1, 1, 0, 0, 1, 0, 0, 1, 0, 0, 0, 0,\n",
              "       0, 0, 1, 0, 0, 1, 1, 1, 1, 0, 0, 1, 0, 0, 0, 1, 1, 0, 0, 0, 0, 0,\n",
              "       0, 0, 1, 1, 0, 0, 0, 1, 1, 1, 0, 1, 0, 1, 0, 0, 1, 0, 1, 0, 0, 0,\n",
              "       1, 1, 1, 0, 0, 0, 0, 0, 0, 0, 1, 0, 0, 0, 0, 0, 1, 1, 1, 1])"
            ]
          },
          "metadata": {
            "tags": []
          },
          "execution_count": 117
        }
      ]
    },
    {
      "cell_type": "code",
      "metadata": {
        "id": "5PAgcrUrXPcM"
      },
      "source": [
        ""
      ],
      "execution_count": null,
      "outputs": []
    }
  ]
}